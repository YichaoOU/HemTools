{
 "cells": [
  {
   "cell_type": "markdown",
   "metadata": {},
   "source": [
    "# How to run GSEA analysis using user defined gene sets"
   ]
  },
  {
   "cell_type": "code",
   "execution_count": 1,
   "metadata": {
    "execution": {
     "iopub.execute_input": "2022-10-11T20:56:13.749518Z",
     "iopub.status.busy": "2022-10-11T20:56:13.749210Z",
     "iopub.status.idle": "2022-10-11T20:56:32.678258Z",
     "shell.execute_reply": "2022-10-11T20:56:32.677748Z",
     "shell.execute_reply.started": "2022-10-11T20:56:13.749441Z"
    }
   },
   "outputs": [],
   "source": [
    "import pandas as pd\n",
    "import sys\n",
    "from gseapy.plot import barplot, dotplot\n",
    "import gseapy as gp\n",
    "from gseapy.plot import gseaplot\n",
    "import matplotlib.pyplot as plt\n",
    "import os"
   ]
  },
  {
   "cell_type": "code",
   "execution_count": 2,
   "metadata": {
    "execution": {
     "iopub.execute_input": "2022-10-11T21:00:47.758940Z",
     "iopub.status.busy": "2022-10-11T21:00:47.758712Z",
     "iopub.status.idle": "2022-10-11T21:00:47.915366Z",
     "shell.execute_reply": "2022-10-11T21:00:47.914695Z",
     "shell.execute_reply.started": "2022-10-11T21:00:47.758922Z"
    },
    "tags": []
   },
   "outputs": [
    {
     "name": "stdout",
     "output_type": "stream",
     "text": [
      "d11.gene.final.combined.tpm.csv\n",
      "d14.gene.final.combined.tpm.csv\n",
      "KO_vs_WT.transcript.final.combined.tpm.csv\n",
      "M1_2_vs_Nontarget.gene.final.combined.tpm.csv\n",
      "Untitled.ipynb\n"
     ]
    }
   ],
   "source": [
    "!ls *"
   ]
  },
  {
   "cell_type": "code",
   "execution_count": 28,
   "metadata": {
    "execution": {
     "iopub.execute_input": "2022-10-11T21:13:54.508150Z",
     "iopub.status.busy": "2022-10-11T21:13:54.507890Z",
     "iopub.status.idle": "2022-10-11T21:13:54.751378Z",
     "shell.execute_reply": "2022-10-11T21:13:54.750859Z",
     "shell.execute_reply.started": "2022-10-11T21:13:54.508116Z"
    },
    "tags": []
   },
   "outputs": [
    {
     "name": "stdout",
     "output_type": "stream",
     "text": [
      "\"ENSG00000213934\",0.000691152671456949,0.0380034665756572,\"HBG1\",1,\"ENSG00000213934\",4354.02754692137,3504.26940266044,8949.08469785786,7809.74626693033,3929.14847479091,8379.4154823941,-1.09243795506553\n",
      "\"ENSG00000196565\",0.0110688093846302,0.221549861480019,\"HBG2\",4,\"ENSG00000196565\",7333.30876254706,5746.03084894695,15433.5686716436,49179.3445028147,6539.669805747,32306.4565872291,-2.30435688908612\n",
      "\"ENSG00000132677\",0.83369088955457,1,\"RHBG\",2,\"ENSG00000132677\",1.86930917339403,2.74454628049257,2.58432620309884,2.50216723733193,2.3069277269433,2.54324672021539,-0.0995804097088474\n",
      "\"ENSG00000129214\",NA,NA,\"SHBG\",NA,\"ENSG00000129214\",0.0829922009031624,0.134691961318615,0.1889591995574,0,0.108842081110889,0.0944795997787,0.0188088505323646\n"
     ]
    }
   ],
   "source": [
    "!grep HBG d11.gene.final.combined.tpm.csv"
   ]
  },
  {
   "cell_type": "code",
   "execution_count": 29,
   "metadata": {
    "execution": {
     "iopub.execute_input": "2022-10-11T21:14:33.357985Z",
     "iopub.status.busy": "2022-10-11T21:14:33.357749Z",
     "iopub.status.idle": "2022-10-11T21:14:33.362774Z",
     "shell.execute_reply": "2022-10-11T21:14:33.362265Z",
     "shell.execute_reply.started": "2022-10-11T21:14:33.357966Z"
    },
    "tags": []
   },
   "outputs": [],
   "source": [
    "def get_gene_list(f):\n",
    "    df = pd.read_csv(f,index_col=0)\n",
    "    df = df[df.qval<=0.05]\n",
    "    up = df[df.logFC>=1]\n",
    "    down = df[df.logFC<=1]\n",
    "    return up.ext_gene.tolist(),down.ext_gene.tolist()"
   ]
  },
  {
   "cell_type": "code",
   "execution_count": 5,
   "metadata": {
    "execution": {
     "iopub.execute_input": "2022-10-11T21:04:30.043242Z",
     "iopub.status.busy": "2022-10-11T21:04:30.042971Z",
     "iopub.status.idle": "2022-10-11T21:04:30.215344Z",
     "shell.execute_reply": "2022-10-11T21:04:30.214728Z",
     "shell.execute_reply.started": "2022-10-11T21:04:30.043223Z"
    },
    "tags": []
   },
   "outputs": [
    {
     "name": "stdout",
     "output_type": "stream",
     "text": [
      "\"target_id\",\"pval\",\"qval\",\"ext_gene\",\"num_aggregated_transcripts\",\"X\",\"SRR5890880_Adult_d14\",\"SRR5890881_Adult_d14\",\"SRR5890884_Fetal_d14\",\"SRR5890885_Fetal_d14\",\"treatment_mean\",\"control_mean\",\"logFC\"\n",
      "\"ENSG00000133742\",4.22869597156715e-36,7.55118239642747e-32,\"CA1\",21,\"ENSG00000133742\",1436.2391530381,2493.70265349881,69.2841083253776,67.8978085617473,1964.97090326845,68.5909584435625,4.82019828235003\n",
      "\"ENSG00000110888\",2.08784299695339e-16,1.86413061982983e-12,\"CAPRIN2\",12,\"ENSG00000110888\",93.7687859637368,130.544414867218,9.78549492821019,17.6348799679751,112.156600415478,13.7101874480926,2.94343320363569\n",
      "\"ENSG00000140403\",1.65792304960105e-15,9.86851063224199e-12,\"DNAJA4\",12,\"ENSG00000140403\",279.649455034164,329.749809401072,115.929031669401,97.5746798130713,304.699632217618,106.751855741236,1.50440210040088\n",
      "\"ENSG00000171843\",7.69574293636136e-14,3.43557204036512e-10,\"MLLT3\",7,\"ENSG00000171843\",126.925018635667,98.2518562296459,457.257886961007,609.000325808402,112.588437432657,533.129106384705,-2.23337251808464\n",
      "\"ENSG00000223609\",3.65803591684729e-13,1.30643094734284e-09,\"HBD\",4,\"ENSG00000223609\",3535.22606030737,3405.55340231687,17.0862139408139,26.2828909210616,3470.38973131212,21.6845524309377,7.25765933932053\n",
      "\"ENSG00000064201\",1.53829811296484e-12,4.57823156720218e-09,\"TSPAN32\",11,\"ENSG00000064201\",2.38406260165873,7.00812954463309,57.8596753054163,60.6709483849889,4.69609607314591,59.2653118452026,-3.4032824543055\n",
      "\"ENSG00000104267\",3.46532579903955e-12,8.84004611334988e-09,\"CA2\",5,\"ENSG00000104267\",392.280621101268,450.438441603829,64.2550447173632,67.1356091660377,421.359531352549,65.6953269417005,2.66281402202505\n",
      "\"ENSG00000104763\",1.0722723119758e-11,2.39344583436897e-08,\"ASAH1\",10,\"ENSG00000104763\",152.488433089148,93.730591373333,384.738279294862,396.211399504666,123.109512231241,390.474839399764,-1.65730589318479\n",
      "\"ENSG00000244734\",1.25588238489589e-11,2.49181019412066e-08,\"HBB\",4,\"ENSG00000244734\",135640.708030554,91325.2552218797,11400.2304544865,13585.235376584,113482.981626217,12492.7329155353,3.1832121748051\n"
     ]
    }
   ],
   "source": [
    "!head d14.gene.final.combined.tpm.csv"
   ]
  },
  {
   "cell_type": "markdown",
   "metadata": {},
   "source": [
    "# define gene sets\n",
    "\n",
    "You need to define a dict that contains each gene set as a list"
   ]
  },
  {
   "cell_type": "code",
   "execution_count": 30,
   "metadata": {
    "execution": {
     "iopub.execute_input": "2022-10-11T21:14:35.286046Z",
     "iopub.status.busy": "2022-10-11T21:14:35.285807Z",
     "iopub.status.idle": "2022-10-11T21:14:35.538530Z",
     "shell.execute_reply": "2022-10-11T21:14:35.538039Z",
     "shell.execute_reply.started": "2022-10-11T21:14:35.286027Z"
    },
    "tags": []
   },
   "outputs": [],
   "source": [
    "gene_sets={}\n",
    "a=get_gene_list(\"d11.gene.final.combined.tpm.csv\")\n",
    "b=get_gene_list(\"d14.gene.final.combined.tpm.csv\")\n",
    "gene_sets['d11_Adult'] = a[0]\n",
    "gene_sets['d11_Fetal'] = a[1]\n",
    "gene_sets['d14_Adult'] = b[0]\n",
    "gene_sets['d14_Fetal'] = b[1]"
   ]
  },
  {
   "cell_type": "code",
   "execution_count": null,
   "metadata": {
    "tags": []
   },
   "outputs": [],
   "source": []
  },
  {
   "cell_type": "markdown",
   "metadata": {},
   "source": [
    "# define your ranked list"
   ]
  },
  {
   "cell_type": "code",
   "execution_count": 19,
   "metadata": {
    "execution": {
     "iopub.execute_input": "2022-10-11T21:08:17.263668Z",
     "iopub.status.busy": "2022-10-11T21:08:17.263370Z",
     "iopub.status.idle": "2022-10-11T21:08:17.444837Z",
     "shell.execute_reply": "2022-10-11T21:08:17.444438Z",
     "shell.execute_reply.started": "2022-10-11T21:08:17.263648Z"
    },
    "tags": []
   },
   "outputs": [
    {
     "data": {
      "text/html": [
       "<div>\n",
       "<style scoped>\n",
       "    .dataframe tbody tr th:only-of-type {\n",
       "        vertical-align: middle;\n",
       "    }\n",
       "\n",
       "    .dataframe tbody tr th {\n",
       "        vertical-align: top;\n",
       "    }\n",
       "\n",
       "    .dataframe thead th {\n",
       "        text-align: right;\n",
       "    }\n",
       "</style>\n",
       "<table border=\"1\" class=\"dataframe\">\n",
       "  <thead>\n",
       "    <tr style=\"text-align: right;\">\n",
       "      <th></th>\n",
       "      <th>logFC</th>\n",
       "    </tr>\n",
       "    <tr>\n",
       "      <th>ext_gene</th>\n",
       "      <th></th>\n",
       "    </tr>\n",
       "  </thead>\n",
       "  <tbody>\n",
       "    <tr>\n",
       "      <th>HBG2</th>\n",
       "      <td>3.108108</td>\n",
       "    </tr>\n",
       "    <tr>\n",
       "      <th>HBG1</th>\n",
       "      <td>2.725993</td>\n",
       "    </tr>\n",
       "    <tr>\n",
       "      <th>HBZ</th>\n",
       "      <td>2.345194</td>\n",
       "    </tr>\n",
       "    <tr>\n",
       "      <th>HBE1</th>\n",
       "      <td>2.119513</td>\n",
       "    </tr>\n",
       "    <tr>\n",
       "      <th>SLC6A19</th>\n",
       "      <td>2.028183</td>\n",
       "    </tr>\n",
       "  </tbody>\n",
       "</table>\n",
       "</div>"
      ],
      "text/plain": [
       "             logFC\n",
       "ext_gene          \n",
       "HBG2      3.108108\n",
       "HBG1      2.725993\n",
       "HBZ       2.345194\n",
       "HBE1      2.119513\n",
       "SLC6A19   2.028183"
      ]
     },
     "execution_count": 19,
     "metadata": {},
     "output_type": "execute_result"
    }
   ],
   "source": [
    "df = pd.read_csv(\"M1_2_vs_Nontarget.gene.final.combined.tpm.csv\")\n",
    "df = df[df.logFC.abs()>0.25]\n",
    "df = df.set_index(\"ext_gene\")\n",
    "df = df[['logFC']]\n",
    "df = df.sort_values('logFC',ascending=False)\n",
    "df.head()"
   ]
  },
  {
   "cell_type": "markdown",
   "metadata": {},
   "source": [
    "# run GSEA"
   ]
  },
  {
   "cell_type": "code",
   "execution_count": 31,
   "metadata": {
    "execution": {
     "iopub.execute_input": "2022-10-11T21:14:41.508328Z",
     "iopub.status.busy": "2022-10-11T21:14:41.508051Z",
     "iopub.status.idle": "2022-10-11T21:14:41.773689Z",
     "shell.execute_reply": "2022-10-11T21:14:41.773288Z",
     "shell.execute_reply.started": "2022-10-11T21:14:41.508309Z"
    },
    "tags": []
   },
   "outputs": [
    {
     "name": "stderr",
     "output_type": "stream",
     "text": [
      "2022-10-11 16:14:41,517 Input gene rankings contains duplicated IDs, Only use the duplicated ID with highest value!\n",
      "2022-10-11 16:14:41,529 Parsing data files for GSEA.............................\n",
      "2022-10-11 16:14:41,606 0000 gene_sets have been filtered out when max_size=1000 and min_size=5\n",
      "2022-10-11 16:14:41,608 0004 gene_sets used for further statistical testing.....\n",
      "2022-10-11 16:14:41,610 Start to run GSEA...Might take a while..................\n",
      "2022-10-11 16:14:41,765 Start to generate gseapy reports, and produce figures...\n",
      "2022-10-11 16:14:41,770 Congratulations. GSEApy runs successfully................\n",
      "\n"
     ]
    }
   ],
   "source": [
    "pre_res = gp.prerank(rnk=df, # or rnk = rnk,\n",
    "                     gene_sets=gene_sets,\n",
    "                     min_size=5,\n",
    "                     max_size=1000,\n",
    "                     permutation_num=100, # reduce number to speed up testing\n",
    "                     outdir=None, # don't write to disk\n",
    "                     seed=6,\n",
    "                     verbose=True, # see what's going on behind the scenes\n",
    "                    )"
   ]
  },
  {
   "cell_type": "markdown",
   "metadata": {},
   "source": [
    "# save GSEA stat"
   ]
  },
  {
   "cell_type": "code",
   "execution_count": 32,
   "metadata": {
    "execution": {
     "iopub.execute_input": "2022-10-11T21:14:44.574599Z",
     "iopub.status.busy": "2022-10-11T21:14:44.574355Z",
     "iopub.status.idle": "2022-10-11T21:14:44.677660Z",
     "shell.execute_reply": "2022-10-11T21:14:44.677188Z",
     "shell.execute_reply.started": "2022-10-11T21:14:44.574579Z"
    },
    "tags": []
   },
   "outputs": [],
   "source": [
    "pre_res.res2d.to_csv(\"CD34.A_vs_F.GSEA.csv\")"
   ]
  },
  {
   "cell_type": "code",
   "execution_count": 33,
   "metadata": {
    "execution": {
     "iopub.execute_input": "2022-10-11T21:14:49.153772Z",
     "iopub.status.busy": "2022-10-11T21:14:49.153540Z",
     "iopub.status.idle": "2022-10-11T21:14:49.164362Z",
     "shell.execute_reply": "2022-10-11T21:14:49.163784Z",
     "shell.execute_reply.started": "2022-10-11T21:14:49.153754Z"
    },
    "tags": []
   },
   "outputs": [
    {
     "data": {
      "text/html": [
       "<div>\n",
       "<style scoped>\n",
       "    .dataframe tbody tr th:only-of-type {\n",
       "        vertical-align: middle;\n",
       "    }\n",
       "\n",
       "    .dataframe tbody tr th {\n",
       "        vertical-align: top;\n",
       "    }\n",
       "\n",
       "    .dataframe thead th {\n",
       "        text-align: right;\n",
       "    }\n",
       "</style>\n",
       "<table border=\"1\" class=\"dataframe\">\n",
       "  <thead>\n",
       "    <tr style=\"text-align: right;\">\n",
       "      <th></th>\n",
       "      <th>es</th>\n",
       "      <th>nes</th>\n",
       "      <th>pval</th>\n",
       "      <th>fdr</th>\n",
       "      <th>geneset_size</th>\n",
       "      <th>matched_size</th>\n",
       "      <th>genes</th>\n",
       "      <th>ledge_genes</th>\n",
       "    </tr>\n",
       "    <tr>\n",
       "      <th>Term</th>\n",
       "      <th></th>\n",
       "      <th></th>\n",
       "      <th></th>\n",
       "      <th></th>\n",
       "      <th></th>\n",
       "      <th></th>\n",
       "      <th></th>\n",
       "      <th></th>\n",
       "    </tr>\n",
       "  </thead>\n",
       "  <tbody>\n",
       "    <tr>\n",
       "      <th>d11_Adult</th>\n",
       "      <td>0.279731</td>\n",
       "      <td>1.743089</td>\n",
       "      <td>0.0</td>\n",
       "      <td>0.0</td>\n",
       "      <td>130</td>\n",
       "      <td>69</td>\n",
       "      <td>MMRN1;ITGB3;SELP;HBBP1;TNXB;ITGA2B;RAB6B;PLEK2...</td>\n",
       "      <td>MMRN1;ITGB3;SELP;HBBP1;TNXB;ITGA2B;RAB6B;PLEK2...</td>\n",
       "    </tr>\n",
       "    <tr>\n",
       "      <th>d11_Fetal</th>\n",
       "      <td>-0.362205</td>\n",
       "      <td>-1.869913</td>\n",
       "      <td>0.0</td>\n",
       "      <td>0.0</td>\n",
       "      <td>269</td>\n",
       "      <td>120</td>\n",
       "      <td>HBG1;HBZ;HBE1;KRT13;ARID3A;TNXB;KSR1;GAS2L1;GA...</td>\n",
       "      <td>SOS1;MEIS2;REXO2;MECOM;ZSCAN23;STX3;SLC39A10;T...</td>\n",
       "    </tr>\n",
       "    <tr>\n",
       "      <th>d14_Adult</th>\n",
       "      <td>0.276151</td>\n",
       "      <td>2.133017</td>\n",
       "      <td>0.0</td>\n",
       "      <td>0.0</td>\n",
       "      <td>142</td>\n",
       "      <td>72</td>\n",
       "      <td>AQP1;TNXB;GNAZ;SLC22A16;PIK3AP1;RAB27B;UBASH3B...</td>\n",
       "      <td>AQP1;TNXB;GNAZ;SLC22A16;PIK3AP1;RAB27B;UBASH3B...</td>\n",
       "    </tr>\n",
       "    <tr>\n",
       "      <th>d14_Fetal</th>\n",
       "      <td>0.370086</td>\n",
       "      <td>2.982766</td>\n",
       "      <td>0.0</td>\n",
       "      <td>0.0</td>\n",
       "      <td>315</td>\n",
       "      <td>119</td>\n",
       "      <td>HBG2;HBG1;HBZ;HBE1;MRC2;KRT13;ARID3A;ACSL6;APL...</td>\n",
       "      <td>HBG2;HBG1;HBZ;HBE1;MRC2;KRT13;ARID3A;ACSL6;APL...</td>\n",
       "    </tr>\n",
       "  </tbody>\n",
       "</table>\n",
       "</div>"
      ],
      "text/plain": [
       "                 es       nes  pval  fdr  geneset_size  matched_size  \\\n",
       "Term                                                                   \n",
       "d11_Adult  0.279731  1.743089   0.0  0.0           130            69   \n",
       "d11_Fetal -0.362205 -1.869913   0.0  0.0           269           120   \n",
       "d14_Adult  0.276151  2.133017   0.0  0.0           142            72   \n",
       "d14_Fetal  0.370086  2.982766   0.0  0.0           315           119   \n",
       "\n",
       "                                                       genes  \\\n",
       "Term                                                           \n",
       "d11_Adult  MMRN1;ITGB3;SELP;HBBP1;TNXB;ITGA2B;RAB6B;PLEK2...   \n",
       "d11_Fetal  HBG1;HBZ;HBE1;KRT13;ARID3A;TNXB;KSR1;GAS2L1;GA...   \n",
       "d14_Adult  AQP1;TNXB;GNAZ;SLC22A16;PIK3AP1;RAB27B;UBASH3B...   \n",
       "d14_Fetal  HBG2;HBG1;HBZ;HBE1;MRC2;KRT13;ARID3A;ACSL6;APL...   \n",
       "\n",
       "                                                 ledge_genes  \n",
       "Term                                                          \n",
       "d11_Adult  MMRN1;ITGB3;SELP;HBBP1;TNXB;ITGA2B;RAB6B;PLEK2...  \n",
       "d11_Fetal  SOS1;MEIS2;REXO2;MECOM;ZSCAN23;STX3;SLC39A10;T...  \n",
       "d14_Adult  AQP1;TNXB;GNAZ;SLC22A16;PIK3AP1;RAB27B;UBASH3B...  \n",
       "d14_Fetal  HBG2;HBG1;HBZ;HBE1;MRC2;KRT13;ARID3A;ACSL6;APL...  "
      ]
     },
     "execution_count": 33,
     "metadata": {},
     "output_type": "execute_result"
    }
   ],
   "source": [
    "pre_res.res2d"
   ]
  },
  {
   "cell_type": "markdown",
   "metadata": {},
   "source": [
    "# plot GSEA figure"
   ]
  },
  {
   "cell_type": "code",
   "execution_count": 34,
   "metadata": {
    "execution": {
     "iopub.execute_input": "2022-10-11T21:15:28.412729Z",
     "iopub.status.busy": "2022-10-11T21:15:28.412515Z",
     "iopub.status.idle": "2022-10-11T21:15:30.582324Z",
     "shell.execute_reply": "2022-10-11T21:15:30.581874Z",
     "shell.execute_reply.started": "2022-10-11T21:15:28.412712Z"
    },
    "tags": []
   },
   "outputs": [],
   "source": [
    "from gseapy import gseaplot\n",
    "\n",
    "res = pre_res.res2d\n",
    "for i in res.index.tolist():\n",
    "    name = i.replace(\" \",\"_\").replace(\"/\",\"_\")\n",
    "    gseaplot(rank_metric=pre_res.ranking, term=i, ofname=f'CD34.{name}.pdf', **pre_res.results[i])"
   ]
  },
  {
   "cell_type": "markdown",
   "metadata": {},
   "source": [
    "# run everything for another ranked gene list"
   ]
  },
  {
   "cell_type": "code",
   "execution_count": 35,
   "metadata": {
    "execution": {
     "iopub.execute_input": "2022-10-11T21:16:31.265306Z",
     "iopub.status.busy": "2022-10-11T21:16:31.265061Z",
     "iopub.status.idle": "2022-10-11T21:16:33.945334Z",
     "shell.execute_reply": "2022-10-11T21:16:33.944885Z",
     "shell.execute_reply.started": "2022-10-11T21:16:31.265288Z"
    },
    "tags": []
   },
   "outputs": [
    {
     "name": "stderr",
     "output_type": "stream",
     "text": [
      "2022-10-11 16:16:31,410 Input gene rankings contains duplicated IDs, Only use the duplicated ID with highest value!\n",
      "2022-10-11 16:16:31,421 Parsing data files for GSEA.............................\n",
      "2022-10-11 16:16:31,492 0000 gene_sets have been filtered out when max_size=1000 and min_size=5\n",
      "2022-10-11 16:16:31,494 0004 gene_sets used for further statistical testing.....\n",
      "2022-10-11 16:16:31,495 Start to run GSEA...Might take a while..................\n",
      "2022-10-11 16:16:31,635 Start to generate gseapy reports, and produce figures...\n",
      "2022-10-11 16:16:31,639 Congratulations. GSEApy runs successfully................\n",
      "\n"
     ]
    }
   ],
   "source": [
    "df = pd.read_csv(\"KO_vs_WT.gene.final.combined.tpm.csv\")\n",
    "df = df[df.logFC.abs()>0.25]\n",
    "df = df.set_index(\"ext_gene\")\n",
    "df = df[['logFC']]\n",
    "df = df.sort_values('logFC',ascending=False)\n",
    "pre_res = gp.prerank(rnk=df, # or rnk = rnk,\n",
    "                     gene_sets=gene_sets,\n",
    "                     min_size=5,\n",
    "                     max_size=1000,\n",
    "                     permutation_num=100, # reduce number to speed up testing\n",
    "                     outdir=None, # don't write to disk\n",
    "                     seed=6,\n",
    "                     verbose=True, # see what's going on behind the scenes\n",
    "                    )\n",
    "pre_res.res2d.to_csv(\"H2.A_vs_F.GSEA.csv\")\n",
    "from gseapy import gseaplot\n",
    "\n",
    "res = pre_res.res2d\n",
    "for i in res.index.tolist():\n",
    "    name = i.replace(\" \",\"_\").replace(\"/\",\"_\")\n",
    "    gseaplot(rank_metric=pre_res.ranking, term=i, ofname=f'H2.{name}.pdf', **pre_res.results[i])"
   ]
  },
  {
   "cell_type": "code",
   "execution_count": 36,
   "metadata": {
    "execution": {
     "iopub.execute_input": "2022-10-11T21:16:38.284164Z",
     "iopub.status.busy": "2022-10-11T21:16:38.283926Z",
     "iopub.status.idle": "2022-10-11T21:16:38.300855Z",
     "shell.execute_reply": "2022-10-11T21:16:38.300357Z",
     "shell.execute_reply.started": "2022-10-11T21:16:38.284145Z"
    },
    "tags": []
   },
   "outputs": [
    {
     "data": {
      "text/html": [
       "<div>\n",
       "<style scoped>\n",
       "    .dataframe tbody tr th:only-of-type {\n",
       "        vertical-align: middle;\n",
       "    }\n",
       "\n",
       "    .dataframe tbody tr th {\n",
       "        vertical-align: top;\n",
       "    }\n",
       "\n",
       "    .dataframe thead th {\n",
       "        text-align: right;\n",
       "    }\n",
       "</style>\n",
       "<table border=\"1\" class=\"dataframe\">\n",
       "  <thead>\n",
       "    <tr style=\"text-align: right;\">\n",
       "      <th></th>\n",
       "      <th>es</th>\n",
       "      <th>nes</th>\n",
       "      <th>pval</th>\n",
       "      <th>fdr</th>\n",
       "      <th>geneset_size</th>\n",
       "      <th>matched_size</th>\n",
       "      <th>genes</th>\n",
       "      <th>ledge_genes</th>\n",
       "    </tr>\n",
       "    <tr>\n",
       "      <th>Term</th>\n",
       "      <th></th>\n",
       "      <th></th>\n",
       "      <th></th>\n",
       "      <th></th>\n",
       "      <th></th>\n",
       "      <th></th>\n",
       "      <th></th>\n",
       "      <th></th>\n",
       "    </tr>\n",
       "  </thead>\n",
       "  <tbody>\n",
       "    <tr>\n",
       "      <th>d14_Adult</th>\n",
       "      <td>0.403459</td>\n",
       "      <td>1.981156</td>\n",
       "      <td>0.000000</td>\n",
       "      <td>0.000000</td>\n",
       "      <td>142</td>\n",
       "      <td>56</td>\n",
       "      <td>AQP1;SLC22A16;PITX1;RIMKLB;SNCA;TNXB;GRINA;VEG...</td>\n",
       "      <td>AQP1;SLC22A16;PITX1;RIMKLB;SNCA;TNXB;GRINA;VEG...</td>\n",
       "    </tr>\n",
       "    <tr>\n",
       "      <th>d14_Fetal</th>\n",
       "      <td>0.445841</td>\n",
       "      <td>2.718864</td>\n",
       "      <td>0.000000</td>\n",
       "      <td>0.000000</td>\n",
       "      <td>315</td>\n",
       "      <td>121</td>\n",
       "      <td>HBG2;HBG1;HBE1;MRC2;SOX6;HBZ;SLC30A10;RUNDC3A;...</td>\n",
       "      <td>HBG2;HBG1;HBE1;MRC2;SOX6;HBZ;SLC30A10;RUNDC3A;...</td>\n",
       "    </tr>\n",
       "    <tr>\n",
       "      <th>d11_Fetal</th>\n",
       "      <td>0.313873</td>\n",
       "      <td>1.819299</td>\n",
       "      <td>0.000000</td>\n",
       "      <td>0.012945</td>\n",
       "      <td>269</td>\n",
       "      <td>91</td>\n",
       "      <td>HBG1;HBE1;GSTP1;HBZ;SLC30A10;C17orf99;KRT13;RI...</td>\n",
       "      <td>HBG1;HBE1;GSTP1;HBZ;SLC30A10;C17orf99;KRT13;RI...</td>\n",
       "    </tr>\n",
       "    <tr>\n",
       "      <th>d11_Adult</th>\n",
       "      <td>0.269756</td>\n",
       "      <td>1.482600</td>\n",
       "      <td>0.045455</td>\n",
       "      <td>0.055016</td>\n",
       "      <td>130</td>\n",
       "      <td>57</td>\n",
       "      <td>ANKH;SLC22A16;HBBP1;IFI27;SNCA;TNXB;VEGFA;MMD;...</td>\n",
       "      <td>ANKH;SLC22A16;HBBP1;IFI27;SNCA;TNXB;VEGFA;MMD;...</td>\n",
       "    </tr>\n",
       "  </tbody>\n",
       "</table>\n",
       "</div>"
      ],
      "text/plain": [
       "                 es       nes      pval       fdr  geneset_size  matched_size  \\\n",
       "Term                                                                            \n",
       "d14_Adult  0.403459  1.981156  0.000000  0.000000           142            56   \n",
       "d14_Fetal  0.445841  2.718864  0.000000  0.000000           315           121   \n",
       "d11_Fetal  0.313873  1.819299  0.000000  0.012945           269            91   \n",
       "d11_Adult  0.269756  1.482600  0.045455  0.055016           130            57   \n",
       "\n",
       "                                                       genes  \\\n",
       "Term                                                           \n",
       "d14_Adult  AQP1;SLC22A16;PITX1;RIMKLB;SNCA;TNXB;GRINA;VEG...   \n",
       "d14_Fetal  HBG2;HBG1;HBE1;MRC2;SOX6;HBZ;SLC30A10;RUNDC3A;...   \n",
       "d11_Fetal  HBG1;HBE1;GSTP1;HBZ;SLC30A10;C17orf99;KRT13;RI...   \n",
       "d11_Adult  ANKH;SLC22A16;HBBP1;IFI27;SNCA;TNXB;VEGFA;MMD;...   \n",
       "\n",
       "                                                 ledge_genes  \n",
       "Term                                                          \n",
       "d14_Adult  AQP1;SLC22A16;PITX1;RIMKLB;SNCA;TNXB;GRINA;VEG...  \n",
       "d14_Fetal  HBG2;HBG1;HBE1;MRC2;SOX6;HBZ;SLC30A10;RUNDC3A;...  \n",
       "d11_Fetal  HBG1;HBE1;GSTP1;HBZ;SLC30A10;C17orf99;KRT13;RI...  \n",
       "d11_Adult  ANKH;SLC22A16;HBBP1;IFI27;SNCA;TNXB;VEGFA;MMD;...  "
      ]
     },
     "execution_count": 36,
     "metadata": {},
     "output_type": "execute_result"
    }
   ],
   "source": [
    "pre_res.res2d"
   ]
  },
  {
   "cell_type": "code",
   "execution_count": null,
   "metadata": {},
   "outputs": [],
   "source": []
  },
  {
   "cell_type": "code",
   "execution_count": null,
   "metadata": {},
   "outputs": [],
   "source": []
  },
  {
   "cell_type": "code",
   "execution_count": null,
   "metadata": {},
   "outputs": [],
   "source": []
  }
 ],
 "metadata": {
  "kernelspec": {
   "display_name": "Python 3",
   "language": "python",
   "name": "python3"
  },
  "language_info": {
   "codemirror_mode": {
    "name": "ipython",
    "version": 3
   },
   "file_extension": ".py",
   "mimetype": "text/x-python",
   "name": "python",
   "nbconvert_exporter": "python",
   "pygments_lexer": "ipython3",
   "version": "3.8.12"
  }
 },
 "nbformat": 4,
 "nbformat_minor": 4
}
