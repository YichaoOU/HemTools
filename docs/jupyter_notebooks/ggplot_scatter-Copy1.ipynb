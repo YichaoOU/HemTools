{
 "cells": [
  {
   "cell_type": "markdown",
   "metadata": {},
   "source": [
    "# ggplot Scatter plot gRNA counts version 2"
   ]
  }, 
  {
   "cell_type": "markdown",
   "metadata": {},
   "source": [
    "### read data"
   ]
  },
  {
   "cell_type": "code",
   "execution_count": 2,
   "metadata": {},
   "outputs": [],
   "source": [
    "file=\"ABE.count_normalized_high_vs_low_with_color\"\n",
    "df = read.csv(paste(file,\".txt\",sep=\"\"),sep=\"\\t\")\n",
    "df$HBF_high = log2(df$HBF_high)\n",
    "df$HBF_low = log2(df$HBF_low)"
   ]
  },
  {
   "cell_type": "code",
   "execution_count": 3,
   "metadata": {},
   "outputs": [
    {
     "data": {
      "text/html": [
       "<table>\n",
       "<thead><tr><th scope=col>sgRNA</th><th scope=col>HBF_high</th><th scope=col>HBF_low</th><th scope=col>color</th></tr></thead>\n",
       "<tbody>\n",
       "\t<tr><td>Positive:TGTGCTTGGTCGGCACTGAT</td><td>5.720407                     </td><td>6.285899                     </td><td>red                          </td></tr>\n",
       "\t<tr><td>Positive:TGGCATCCAGGTCACGCCAG</td><td>6.938099                     </td><td>7.177026                     </td><td>red                          </td></tr>\n",
       "\t<tr><td>Positive:TGCTTGGTCGGCACTGATAG</td><td>7.064446                     </td><td>6.670656                     </td><td>red                          </td></tr>\n",
       "\t<tr><td>Positive:TGCCAGATGAACTTCCCATT</td><td>7.698943                     </td><td>7.731442                     </td><td>red                          </td></tr>\n",
       "\t<tr><td>Positive:TCTGATTAGGGTGGGGGCGT</td><td>7.374890                     </td><td>6.215650                     </td><td>red                          </td></tr>\n",
       "\t<tr><td>Positive:TCCCCTTCTGGAGCTCCCAA</td><td>6.362533                     </td><td>6.551940                     </td><td>red                          </td></tr>\n",
       "</tbody>\n",
       "</table>\n"
      ],
      "text/latex": [
       "\\begin{tabular}{r|llll}\n",
       " sgRNA & HBF\\_high & HBF\\_low & color\\\\\n",
       "\\hline\n",
       "\t Positive:TGTGCTTGGTCGGCACTGAT & 5.720407                      & 6.285899                      & red                          \\\\\n",
       "\t Positive:TGGCATCCAGGTCACGCCAG & 6.938099                      & 7.177026                      & red                          \\\\\n",
       "\t Positive:TGCTTGGTCGGCACTGATAG & 7.064446                      & 6.670656                      & red                          \\\\\n",
       "\t Positive:TGCCAGATGAACTTCCCATT & 7.698943                      & 7.731442                      & red                          \\\\\n",
       "\t Positive:TCTGATTAGGGTGGGGGCGT & 7.374890                      & 6.215650                      & red                          \\\\\n",
       "\t Positive:TCCCCTTCTGGAGCTCCCAA & 6.362533                      & 6.551940                      & red                          \\\\\n",
       "\\end{tabular}\n"
      ],
      "text/markdown": [
       "\n",
       "| sgRNA | HBF_high | HBF_low | color |\n",
       "|---|---|---|---|\n",
       "| Positive:TGTGCTTGGTCGGCACTGAT | 5.720407                      | 6.285899                      | red                           |\n",
       "| Positive:TGGCATCCAGGTCACGCCAG | 6.938099                      | 7.177026                      | red                           |\n",
       "| Positive:TGCTTGGTCGGCACTGATAG | 7.064446                      | 6.670656                      | red                           |\n",
       "| Positive:TGCCAGATGAACTTCCCATT | 7.698943                      | 7.731442                      | red                           |\n",
       "| Positive:TCTGATTAGGGTGGGGGCGT | 7.374890                      | 6.215650                      | red                           |\n",
       "| Positive:TCCCCTTCTGGAGCTCCCAA | 6.362533                      | 6.551940                      | red                           |\n",
       "\n"
      ],
      "text/plain": [
       "  sgRNA                         HBF_high HBF_low  color\n",
       "1 Positive:TGTGCTTGGTCGGCACTGAT 5.720407 6.285899 red  \n",
       "2 Positive:TGGCATCCAGGTCACGCCAG 6.938099 7.177026 red  \n",
       "3 Positive:TGCTTGGTCGGCACTGATAG 7.064446 6.670656 red  \n",
       "4 Positive:TGCCAGATGAACTTCCCATT 7.698943 7.731442 red  \n",
       "5 Positive:TCTGATTAGGGTGGGGGCGT 7.374890 6.215650 red  \n",
       "6 Positive:TCCCCTTCTGGAGCTCCCAA 6.362533 6.551940 red  "
      ]
     },
     "metadata": {},
     "output_type": "display_data"
    }
   ],
   "source": [
    "head(df)"
   ]
  },
  {
   "cell_type": "markdown",
   "metadata": {},
   "source": [
    "### scatter plot"
   ]
  },
  {
   "cell_type": "code",
   "execution_count": 7,
   "metadata": {},
   "outputs": [
    {
     "name": "stderr",
     "output_type": "stream",
     "text": [
      "Warning message:\n",
      "\"Removed 25 rows containing missing values (geom_point).\"Warning message:\n",
      "\"Removed 1 rows containing missing values (geom_point).\"Saving 6.67 x 6.67 in image\n",
      "Warning message:\n",
      "\"Removed 25 rows containing missing values (geom_point).\"Warning message:\n",
      "\"Removed 1 rows containing missing values (geom_point).\""
     ]
    },
    {
     "data": {
      "image/png": "[encoded data removed]",
      "text/plain": [
       "plot without title"
      ]
     },
     "metadata": {},
     "output_type": "display_data"
    }
   ],
   "source": [
    "library(ggplot2)\n",
    "ggplot(df, aes(x = HBF_high, y = HBF_low)) +\n",
    "geom_point(data = subset(df, color %in% c(\"grey\")),color=\"grey\")+\n",
    "geom_point(data = subset(df, color %in% c(\"red\")),color=\"red\")+\n",
    "geom_point(data = subset(df, color %in% c(\"blue\")),color=\"blue\")+\n",
    "geom_abline(intercept = 0, slope = 1, color=\"black\",  size=0.5)+\n",
    "xlim(0, 10)+\n",
    "ylim(0, 10)+\n",
    "theme_classic()\n",
    "ggsave(paste(file,\".png\",sep=\"\"),dpi=300)"
   ]
  }
 ],
 "metadata": {
  "kernelspec": {
   "display_name": "R",
   "language": "R",
   "name": "ir"
  },
  "language_info": {
   "codemirror_mode": "r",
   "file_extension": ".r",
   "mimetype": "text/x-r-source",
   "name": "R",
   "pygments_lexer": "r",
   "version": "3.5.1"
  }
 },
 "nbformat": 4,
 "nbformat_minor": 2
}
