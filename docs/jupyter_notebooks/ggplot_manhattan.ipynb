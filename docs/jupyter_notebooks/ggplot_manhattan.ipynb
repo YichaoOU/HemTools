{
 "cells": [
  {
   "cell_type": "markdown",
   "metadata": {},
   "source": [
    "# ggplot Manhattan plot"
   ]
  },
  {
   "cell_type": "code",
   "execution_count": 1,
   "metadata": {},
   "outputs": [
    {
     "data": {
      "text/html": [
       "<table>\n",
       "<thead><tr><th></th><th scope=col>mid_point</th><th scope=col>logFDR</th><th scope=col>group</th></tr></thead>\n",
       "<tbody>\n",
       "\t<tr><th scope=row>728</th><td>5306044     </td><td>  2.79290446</td><td>APC         </td></tr>\n",
       "\t<tr><th scope=row>296</th><td>5306035     </td><td>  0.16209606</td><td>GFP         </td></tr>\n",
       "\t<tr><th scope=row>620</th><td>5264931     </td><td>  0.01026105</td><td>APC         </td></tr>\n",
       "\t<tr><th scope=row>441</th><td>5245952     </td><td>300.00000000</td><td>APC         </td></tr>\n",
       "\t<tr><th scope=row>829</th><td>5319376     </td><td>  1.24517023</td><td>APC         </td></tr>\n",
       "</tbody>\n",
       "</table>\n"
      ],
      "text/latex": [
       "\\begin{tabular}{r|lll}\n",
       "  & mid\\_point & logFDR & group\\\\\n",
       "\\hline\n",
       "\t728 & 5306044      &   2.79290446 & APC         \\\\\n",
       "\t296 & 5306035      &   0.16209606 & GFP         \\\\\n",
       "\t620 & 5264931      &   0.01026105 & APC         \\\\\n",
       "\t441 & 5245952      & 300.00000000 & APC         \\\\\n",
       "\t829 & 5319376      &   1.24517023 & APC         \\\\\n",
       "\\end{tabular}\n"
      ],
      "text/markdown": [
       "\n",
       "| <!--/--> | mid_point | logFDR | group | \n",
       "|---|---|---|---|---|\n",
       "| 728 | 5306044      |   2.79290446 | APC          | \n",
       "| 296 | 5306035      |   0.16209606 | GFP          | \n",
       "| 620 | 5264931      |   0.01026105 | APC          | \n",
       "| 441 | 5245952      | 300.00000000 | APC          | \n",
       "| 829 | 5319376      |   1.24517023 | APC          | \n",
       "\n",
       "\n"
      ],
      "text/plain": [
       "    mid_point logFDR       group\n",
       "728 5306044     2.79290446 APC  \n",
       "296 5306035     0.16209606 GFP  \n",
       "620 5264931     0.01026105 APC  \n",
       "441 5245952   300.00000000 APC  \n",
       "829 5319376     1.24517023 APC  "
      ]
     },
     "metadata": {},
     "output_type": "display_data"
    }
   ],
   "source": [
    "library(ggplot2)\n",
    "df = read.table(\"ggplot_input.tsv\",header=TRUE)\n",
    "df[sample(dim(df)[1],5),]"
   ]
  },
  {
   "cell_type": "code",
   "execution_count": 2,
   "metadata": {},
   "outputs": [
    {
     "data": {},
     "metadata": {},
     "output_type": "display_data"
    },
    {
     "name": "stderr",
     "output_type": "stream",
     "text": [
      "Saving 6.67 x 6.67 in image\n"
     ]
    },
    {
     "data": {
      "image/png": "[encoded data removed]",
      "text/plain": [
       "plot without title"
      ]
     },
     "metadata": {},
     "output_type": "display_data"
    }
   ],
   "source": [
    "ggplot(df,aes(x=mid_point,y=logFDR))+\n",
    "geom_point( aes(color=group), alpha=0.6, size=1.5)+\n",
    "scale_x_continuous(name=\"chr11\",breaks=seq(5239000,5329000,5000))+\n",
    "scale_y_continuous(name=\"-log10(FDR)\")+\n",
    "theme_bw() +\n",
    "    theme( \n",
    "      panel.border = element_blank(),\n",
    "      panel.grid.major.x = element_blank(),\n",
    "      panel.grid.minor.x = element_blank(),\n",
    "      axis.text.x = element_text(angle = 30, hjust = 1)  \n",
    "    )\n",
    "ggsave(\"figure.png\",dpi=300)\n"
   ]
  },
  {
   "cell_type": "code",
   "execution_count": null,
   "metadata": {},
   "outputs": [],
   "source": []
  }
 ],
 "metadata": {
  "kernelspec": {
   "display_name": "R",
   "language": "R",
   "name": "ir"
  },
  "language_info": {
   "codemirror_mode": "r",
   "file_extension": ".r",
   "mimetype": "text/x-r-source",
   "name": "R",
   "pygments_lexer": "r",
   "version": "3.5.1"
  }
 },
 "nbformat": 4,
 "nbformat_minor": 2
}
