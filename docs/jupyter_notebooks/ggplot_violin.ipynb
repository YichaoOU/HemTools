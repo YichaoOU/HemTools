{
 "cells": [
  {
   "cell_type": "markdown",
   "metadata": {},
   "source": [
    "# ggpubr violin plot for comparing number of fragments"
   ]
  },
  {
   "cell_type": "markdown",
   "metadata": {},
   "source": [
    "### one step code"
   ]
  },
  {
   "cell_type": "raw",
   "metadata": {},
   "source": [
    "1. go to your data dir\n",
    "2. module load python/2.7.12\n",
    "3. prepare sample.list"
   ]
  },
  {
   "cell_type": "raw",
   "metadata": {},
   "source": [
    "sample.list (tab-seperated) will have the format showing below:\n",
    "\n",
    "test1.bed\t1631310_RFA005.bam\ttest1\n",
    "test2.bed\t1631310_RFA005.bam\ttest2"
   ]
  },
  {
   "cell_type": "raw",
   "metadata": {},
   "source": [
    "4. cp /research/dept/hem/common/sequencing/chenggrp/pipelines/misc/data_vis/Li_violin_plot/ggpubR_violin.py .\n",
    "5. python ggpubR_violin.py"
   ]
  },
  {
   "cell_type": "raw",
   "metadata": {},
   "source": [
    "When job finished, the violin plot will be sent to you"
   ]
  },
  {
   "cell_type": "markdown",
   "metadata": {},
   "source": [
    "### you can then adjust the figure yourself, the program will generate a data file called **for_ggpubr.csv**"
   ]
  },
  {
   "cell_type": "code",
   "execution_count": 1,
   "metadata": {},
   "outputs": [
    {
     "data": {
      "text/html": [
       "<table>\n",
       "<thead><tr><th></th><th scope=col>V1</th><th scope=col>V2</th></tr></thead>\n",
       "<tbody>\n",
       "\t<tr><th scope=row>161</th><td>17       </td><td>test1.out</td></tr>\n",
       "\t<tr><th scope=row>446</th><td> 9       </td><td>test2.out</td></tr>\n",
       "\t<tr><th scope=row>47</th><td>14       </td><td>test1.out</td></tr>\n",
       "\t<tr><th scope=row>435</th><td> 2       </td><td>test2.out</td></tr>\n",
       "\t<tr><th scope=row>316</th><td> 6       </td><td>test1.out</td></tr>\n",
       "</tbody>\n",
       "</table>\n"
      ],
      "text/latex": [
       "\\begin{tabular}{r|ll}\n",
       "  & V1 & V2\\\\\n",
       "\\hline\n",
       "\t161 & 17        & test1.out\\\\\n",
       "\t446 &  9        & test2.out\\\\\n",
       "\t47 & 14        & test1.out\\\\\n",
       "\t435 &  2        & test2.out\\\\\n",
       "\t316 &  6        & test1.out\\\\\n",
       "\\end{tabular}\n"
      ],
      "text/markdown": [
       "\n",
       "| <!--/--> | V1 | V2 |\n",
       "|---|---|---|\n",
       "| 161 | 17        | test1.out |\n",
       "| 446 |  9        | test2.out |\n",
       "| 47 | 14        | test1.out |\n",
       "| 435 |  2        | test2.out |\n",
       "| 316 |  6        | test1.out |\n",
       "\n"
      ],
      "text/plain": [
       "    V1 V2       \n",
       "161 17 test1.out\n",
       "446  9 test2.out\n",
       "47  14 test1.out\n",
       "435  2 test2.out\n",
       "316  6 test1.out"
      ]
     },
     "metadata": {},
     "output_type": "display_data"
    }
   ],
   "source": [
    "df = read.csv(\"for_ggpubr.csv\",header=F)\n",
    "df[sample(dim(df)[1],5),]"
   ]
  },
  {
   "cell_type": "code",
   "execution_count": 4,
   "metadata": {},
   "outputs": [
    {
     "data": {
      "image/png": "[encoded data removed]",
      "text/plain": [
       "plot without title"
      ]
     },
     "metadata": {},
     "output_type": "display_data"
    }
   ],
   "source": [
    "library(ggpubr)\n",
    "comp = list(c('test1.out',\"test2.out\"))\n",
    "a=ggviolin(df,x=\"V2\",y=\"V1\",color=\"black\",fill=\"V2\",add = \"boxplot\", add.params = list(fill = \"white\"))\n",
    "a=a+stat_compare_means(comparisons = comp)+\n",
    "xlab(\"\")+\n",
    "ylab(\"Number of fragments\")+\n",
    "guides(fill=FALSE)\n",
    "print (a)\n",
    "ggsave(\"violin_bed_reads.png\",dpi=200,width=3,height=5)\n"
   ]
  }
 ],
 "metadata": {
  "kernelspec": {
   "display_name": "R",
   "language": "R",
   "name": "ir"
  },
  "language_info": {
   "codemirror_mode": "r",
   "file_extension": ".r",
   "mimetype": "text/x-r-source",
   "name": "R",
   "pygments_lexer": "r",
   "version": "3.5.1"
  }
 },
 "nbformat": 4,
 "nbformat_minor": 2
}
