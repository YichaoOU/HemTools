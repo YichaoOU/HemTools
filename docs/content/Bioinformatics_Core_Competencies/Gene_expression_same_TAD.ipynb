{
 "cells": [
  {
   "cell_type": "markdown",
   "id": "e87ff9cc-e3fb-4a48-9905-fa599e9b5981",
   "metadata": {},
   "source": [
    "# Calculate DEG gene expression level in the same TAD\n",
    "\n",
    "## Output\n",
    "\n",
    "Comparison Name | insertion location | # Up-DEGs | # Down-DEGs"
   ]
  },
  {
   "cell_type": "code",
   "execution_count": 151,
   "id": "ca48c586-8990-4bb5-9266-424084602b02",
   "metadata": {
    "execution": {
     "iopub.execute_input": "2021-08-17T20:49:13.258213Z",
     "iopub.status.busy": "2021-08-17T20:49:13.257971Z",
     "iopub.status.idle": "2021-08-17T20:49:13.262209Z",
     "shell.execute_reply": "2021-08-17T20:49:13.261841Z",
     "shell.execute_reply.started": "2021-08-17T20:49:13.258195Z"
    },
    "tags": []
   },
   "outputs": [],
   "source": [
    "import pandas as pd\n",
    "import pyranges as pr\n",
    "from pybedtools import BedTool as pb\n",
    "import numpy as np\n",
    "import glob\n",
    "import warnings\n",
    "warnings.filterwarnings(\"ignore\")\n",
    "files=glob.glob(\"diff_gene_tables/*\")\n",
    "# pyrange overlap is similar to bedtools intersect -u\n",
    "# pyrange intersect is similar to bedtools intersect default parameters\n",
    "# to get -wa -wb, only pybedtools work, however, converting dataframe to pyrange obj without correct header need more than one line of work"
   ]
  },
  {
   "cell_type": "code",
   "execution_count": 97,
   "id": "2b382688-fc03-4589-8b4d-8a9de6987e5c",
   "metadata": {
    "execution": {
     "iopub.execute_input": "2021-08-17T18:48:30.338303Z",
     "iopub.status.busy": "2021-08-17T18:48:30.338040Z",
     "iopub.status.idle": "2021-08-17T18:48:30.876952Z",
     "shell.execute_reply": "2021-08-17T18:48:30.876287Z",
     "shell.execute_reply.started": "2021-08-17T18:48:30.338284Z"
    },
    "tags": []
   },
   "outputs": [
    {
     "name": "stdout",
     "output_type": "stream",
     "text": [
      "20copy\n",
      "d3\n",
      "d4\n",
      "d13\n",
      "hgcOPT_s17\n",
      "hgcOPT_s4\n",
      "hgcOPT_s5\n",
      "hgcOPT_s15\n",
      "hgcOPT_s22\n",
      "hgcOPT_s21\n"
     ]
    }
   ],
   "source": [
    "ins = pd.read_csv(\"../RNAseq_splicing_analysis/input.list\",sep=\"\\t\",header=None)\n",
    "ins = ins.drop_duplicates(2)\n",
    "ins = ins.set_index(2)\n",
    "myDict = ins[5].to_dict()\n",
    "ins_dict = {}\n",
    "for k in myDict:\n",
    "    tmp = pr.read_bed(myDict[k]).sort()\n",
    "    tmp = tmp.as_df().drop_duplicates(\"Name\")\n",
    "    k =k.replace(\"dCTCF_\",\"\").replace(\"Jurkat_\",\"\").split(\"_S\")[0]\n",
    "    print (k)\n",
    "    ins_dict[k] = pr.PyRanges(tmp)"
   ]
  },
  {
   "cell_type": "code",
   "execution_count": 110,
   "id": "b58fffdd-d735-40a5-b3a8-1a5dd6bed530",
   "metadata": {
    "execution": {
     "iopub.execute_input": "2021-08-17T18:58:03.195966Z",
     "iopub.status.busy": "2021-08-17T18:58:03.195690Z",
     "iopub.status.idle": "2021-08-17T18:58:03.233848Z",
     "shell.execute_reply": "2021-08-17T18:58:03.233344Z",
     "shell.execute_reply.started": "2021-08-17T18:58:03.195943Z"
    },
    "tags": []
   },
   "outputs": [
    {
     "data": {
      "text/html": [
       "<div>\n",
       "<style scoped>\n",
       "    .dataframe tbody tr th:only-of-type {\n",
       "        vertical-align: middle;\n",
       "    }\n",
       "\n",
       "    .dataframe tbody tr th {\n",
       "        vertical-align: top;\n",
       "    }\n",
       "\n",
       "    .dataframe thead th {\n",
       "        text-align: right;\n",
       "    }\n",
       "</style>\n",
       "<table border=\"1\" class=\"dataframe\">\n",
       "  <thead>\n",
       "    <tr style=\"text-align: right;\">\n",
       "      <th></th>\n",
       "      <th>Chromosome</th>\n",
       "      <th>Start</th>\n",
       "      <th>End</th>\n",
       "      <th>Name</th>\n",
       "      <th>Score</th>\n",
       "      <th>Strand</th>\n",
       "    </tr>\n",
       "  </thead>\n",
       "  <tbody>\n",
       "    <tr>\n",
       "      <th>0</th>\n",
       "      <td>chr1</td>\n",
       "      <td>11872</td>\n",
       "      <td>14412</td>\n",
       "      <td>.</td>\n",
       "      <td>ENSG00000223972</td>\n",
       "      <td>+</td>\n",
       "    </tr>\n",
       "    <tr>\n",
       "      <th>1</th>\n",
       "      <td>chr1</td>\n",
       "      <td>53049</td>\n",
       "      <td>54936</td>\n",
       "      <td>.</td>\n",
       "      <td>ENSG00000268020</td>\n",
       "      <td>+</td>\n",
       "    </tr>\n",
       "    <tr>\n",
       "      <th>2</th>\n",
       "      <td>chr1</td>\n",
       "      <td>62948</td>\n",
       "      <td>63887</td>\n",
       "      <td>.</td>\n",
       "      <td>ENSG00000240361</td>\n",
       "      <td>+</td>\n",
       "    </tr>\n",
       "    <tr>\n",
       "      <th>3</th>\n",
       "      <td>chr1</td>\n",
       "      <td>69091</td>\n",
       "      <td>70008</td>\n",
       "      <td>.</td>\n",
       "      <td>ENSG00000186092</td>\n",
       "      <td>+</td>\n",
       "    </tr>\n",
       "    <tr>\n",
       "      <th>4</th>\n",
       "      <td>chr1</td>\n",
       "      <td>131025</td>\n",
       "      <td>134836</td>\n",
       "      <td>.</td>\n",
       "      <td>ENSG00000233750</td>\n",
       "      <td>+</td>\n",
       "    </tr>\n",
       "    <tr>\n",
       "      <th>5</th>\n",
       "      <td>chr1</td>\n",
       "      <td>326096</td>\n",
       "      <td>328112</td>\n",
       "      <td>.</td>\n",
       "      <td>ENSG00000250575</td>\n",
       "      <td>+</td>\n",
       "    </tr>\n",
       "    <tr>\n",
       "      <th>6</th>\n",
       "      <td>chr1</td>\n",
       "      <td>334126</td>\n",
       "      <td>334305</td>\n",
       "      <td>.</td>\n",
       "      <td>ENSG00000224813</td>\n",
       "      <td>+</td>\n",
       "    </tr>\n",
       "    <tr>\n",
       "      <th>7</th>\n",
       "      <td>chr1</td>\n",
       "      <td>367640</td>\n",
       "      <td>368634</td>\n",
       "      <td>.</td>\n",
       "      <td>ENSG00000235249</td>\n",
       "      <td>+</td>\n",
       "    </tr>\n",
       "  </tbody>\n",
       "</table>\n",
       "</div>"
      ],
      "text/plain": [
       "+--------------+-----------+-----------+------------+-------+\n",
       "| Chromosome   |     Start |       End | Name       | +2    |\n",
       "| (category)   |   (int32) |   (int32) | (object)   | ...   |\n",
       "|--------------+-----------+-----------+------------+-------|\n",
       "| chr1         |     11872 |     14412 | .          | ...   |\n",
       "| chr1         |     53049 |     54936 | .          | ...   |\n",
       "| chr1         |     62948 |     63887 | .          | ...   |\n",
       "| chr1         |     69091 |     70008 | .          | ...   |\n",
       "| chr1         |    131025 |    134836 | .          | ...   |\n",
       "| chr1         |    326096 |    328112 | .          | ...   |\n",
       "| chr1         |    334126 |    334305 | .          | ...   |\n",
       "| chr1         |    367640 |    368634 | .          | ...   |\n",
       "+--------------+-----------+-----------+------------+-------+\n",
       "Stranded PyRanges object has 8 rows and 6 columns from 1 chromosomes.\n",
       "For printing, the PyRanges was sorted on Chromosome and Strand.\n",
       "2 hidden columns: Score, Strand"
      ]
     },
     "execution_count": 110,
     "metadata": {},
     "output_type": "execute_result"
    }
   ],
   "source": [
    "hg19_gene.head()"
   ]
  },
  {
   "cell_type": "code",
   "execution_count": 144,
   "id": "6a5de723-92b3-4325-80c6-51660b0a38f2",
   "metadata": {
    "execution": {
     "iopub.execute_input": "2021-08-17T19:19:34.100324Z",
     "iopub.status.busy": "2021-08-17T19:19:34.100080Z",
     "iopub.status.idle": "2021-08-17T19:19:42.022499Z",
     "shell.execute_reply": "2021-08-17T19:19:42.021831Z",
     "shell.execute_reply.started": "2021-08-17T19:19:34.100305Z"
    },
    "tags": []
   },
   "outputs": [
    {
     "name": "stdout",
     "output_type": "stream",
     "text": [
      "d4 936 1374\n",
      "hgcOPT_s22 60 108\n",
      "hgcOPT_s4 154 265\n",
      "d13 1730 1192\n",
      "d3 579 536\n",
      "20copy 634 277\n",
      "hgcOPT_s21 218 255\n",
      "hgcOPT_s5 157 221\n",
      "hgcOPT_s17 244 398\n",
      "hgcOPT_s15 238 277\n"
     ]
    }
   ],
   "source": [
    "output_dict = {}\n",
    "df_list = []\n",
    "LFC=np.log2(1.5)\n",
    "FDR=0.01\n",
    "hg19_gene = pr.read_bed(\"hg19_gene.ensembl_v75.bed\",as_df=False).sort()\n",
    "hg19_tad = pr.read_bed(\"hg19.tad.bed\",as_df=False).sort()\n",
    "for deg_file in files:\n",
    "    # use cutoff to define DEGs\n",
    "    label = deg_file.split(\"/\")[-1].split(\"_vs_\")[0]\n",
    "    output_dict[label] = [None,None]\n",
    "    df = pd.read_csv(deg_file,index_col=0)\n",
    "    deg_up = df[(df.qval<=FDR)&(df.logFC>=LFC)]\n",
    "    deg_down = df[(df.qval<=FDR)&(df.logFC<=-LFC)]\n",
    "\n",
    "    # Identify DEG coordinates\n",
    "    deg_up_bed = hg19_gene[hg19_gene.Score.isin(deg_up.index)]\n",
    "    deg_down_bed = hg19_gene[hg19_gene.Score.isin(deg_down.index)]\n",
    "\n",
    "    print (label,deg_up_bed.as_df().shape[0],deg_down_bed.as_df().shape[0])\n",
    "    \n",
    "    # insertion-site TAD\n",
    "    ins_bed = pb.from_dataframe(ins_dict[label].as_df())\n",
    "    ab = pb.from_dataframe(hg19_tad.as_df()).intersect(ins_bed,wa=True,wb=True)\n",
    "    # ab.to_dataframe(header=None).head()     \n",
    "    #  overlap with  insertion-site TAD\n",
    "    tmp = ab.intersect(pb.from_dataframe(deg_up_bed.as_df()),wao=True).to_dataframe(header=None)\n",
    "    tmp[22] = tmp[21]>0\n",
    "    tmp = tmp.groupby(list(range(14)))[22].sum().to_frame('size').reset_index()\n",
    "    tmp.index = tmp[9]+\"_\"+tmp[10].astype(str)+\"_\"+tmp[11].astype(str)+\"_\"+tmp[12].astype(str)\n",
    "    tmp['#UP'] = tmp['size']\n",
    "    tmp['Sample'] = label\n",
    "    tmp['Insert_location'] = tmp.index.tolist()\n",
    "    \n",
    "    tmp2 = ab.intersect(pb.from_dataframe(deg_down_bed.as_df()),wao=True).to_dataframe(header=None)\n",
    "    tmp2[22] = tmp2[21]>0\n",
    "    tmp2 = tmp2.groupby(list(range(14)))[22].sum().to_frame('size').reset_index()\n",
    "    tmp2.index = tmp2[9]+\"_\"+tmp2[10].astype(str)+\"_\"+tmp2[11].astype(str)+\"_\"+tmp2[12].astype(str)\n",
    "    tmp['#DOWN'] = tmp2['size']\n",
    "    df_list.append(tmp[['Sample','Insert_location','#UP','#DOWN']])\n",
    "    \n",
    "    \n",
    "#     output_dict[label][0] = \n",
    "    \n",
    "#     tmp = ab.intersect(pb.from_dataframe(deg_down_bed.as_df()),wao=True).to_dataframe(header=None)\n",
    "#     tmp[22] = tmp[21]>0\n",
    "#     output_dict[label][1] = tmp.groupby(list(range(14)))[22].sum().to_frame('size').reset_index()\n",
    "    \n",
    "    # output count table"
   ]
  },
  {
   "cell_type": "code",
   "execution_count": 146,
   "id": "75756d77-3377-4c17-9874-642eece65d53",
   "metadata": {
    "execution": {
     "iopub.execute_input": "2021-08-17T19:20:02.627320Z",
     "iopub.status.busy": "2021-08-17T19:20:02.627080Z",
     "iopub.status.idle": "2021-08-17T19:20:02.631590Z",
     "shell.execute_reply": "2021-08-17T19:20:02.631073Z",
     "shell.execute_reply.started": "2021-08-17T19:20:02.627302Z"
    },
    "tags": []
   },
   "outputs": [],
   "source": [
    "out = pd.concat(df_list)"
   ]
  },
  {
   "cell_type": "code",
   "execution_count": 147,
   "id": "721f0b3e-0495-4659-a6d5-b2a2a838bd65",
   "metadata": {
    "execution": {
     "iopub.execute_input": "2021-08-17T19:20:08.007130Z",
     "iopub.status.busy": "2021-08-17T19:20:08.006853Z",
     "iopub.status.idle": "2021-08-17T19:20:08.013733Z",
     "shell.execute_reply": "2021-08-17T19:20:08.013269Z",
     "shell.execute_reply.started": "2021-08-17T19:20:08.007110Z"
    }
   },
   "outputs": [
    {
     "data": {
      "text/html": [
       "<div>\n",
       "<style scoped>\n",
       "    .dataframe tbody tr th:only-of-type {\n",
       "        vertical-align: middle;\n",
       "    }\n",
       "\n",
       "    .dataframe tbody tr th {\n",
       "        vertical-align: top;\n",
       "    }\n",
       "\n",
       "    .dataframe thead th {\n",
       "        text-align: right;\n",
       "    }\n",
       "</style>\n",
       "<table border=\"1\" class=\"dataframe\">\n",
       "  <thead>\n",
       "    <tr style=\"text-align: right;\">\n",
       "      <th></th>\n",
       "      <th>Sample</th>\n",
       "      <th>Insert_location</th>\n",
       "      <th>#UP</th>\n",
       "      <th>#DOWN</th>\n",
       "    </tr>\n",
       "  </thead>\n",
       "  <tbody>\n",
       "    <tr>\n",
       "      <th>chr1_36015845_36015848_NCDN,KIAA0319L</th>\n",
       "      <td>d4</td>\n",
       "      <td>chr1_36015845_36015848_NCDN,KIAA0319L</td>\n",
       "      <td>0</td>\n",
       "      <td>0</td>\n",
       "    </tr>\n",
       "    <tr>\n",
       "      <th>chr1_111696445_111696476_CEPT1,DRAM2</th>\n",
       "      <td>d4</td>\n",
       "      <td>chr1_111696445_111696476_CEPT1,DRAM2</td>\n",
       "      <td>2</td>\n",
       "      <td>2</td>\n",
       "    </tr>\n",
       "    <tr>\n",
       "      <th>chr1_201814880_201814886_IPO9</th>\n",
       "      <td>d4</td>\n",
       "      <td>chr1_201814880_201814886_IPO9</td>\n",
       "      <td>0</td>\n",
       "      <td>0</td>\n",
       "    </tr>\n",
       "    <tr>\n",
       "      <th>chr1_215751270_215751296_KCTD3</th>\n",
       "      <td>d4</td>\n",
       "      <td>chr1_215751270_215751296_KCTD3</td>\n",
       "      <td>0</td>\n",
       "      <td>0</td>\n",
       "    </tr>\n",
       "    <tr>\n",
       "      <th>chr11_36760826_36760863_RAG2</th>\n",
       "      <td>d4</td>\n",
       "      <td>chr11_36760826_36760863_RAG2</td>\n",
       "      <td>1</td>\n",
       "      <td>0</td>\n",
       "    </tr>\n",
       "  </tbody>\n",
       "</table>\n",
       "</div>"
      ],
      "text/plain": [
       "                                      Sample  \\\n",
       "chr1_36015845_36015848_NCDN,KIAA0319L     d4   \n",
       "chr1_111696445_111696476_CEPT1,DRAM2      d4   \n",
       "chr1_201814880_201814886_IPO9             d4   \n",
       "chr1_215751270_215751296_KCTD3            d4   \n",
       "chr11_36760826_36760863_RAG2              d4   \n",
       "\n",
       "                                                             Insert_location  \\\n",
       "chr1_36015845_36015848_NCDN,KIAA0319L  chr1_36015845_36015848_NCDN,KIAA0319L   \n",
       "chr1_111696445_111696476_CEPT1,DRAM2    chr1_111696445_111696476_CEPT1,DRAM2   \n",
       "chr1_201814880_201814886_IPO9                  chr1_201814880_201814886_IPO9   \n",
       "chr1_215751270_215751296_KCTD3                chr1_215751270_215751296_KCTD3   \n",
       "chr11_36760826_36760863_RAG2                    chr11_36760826_36760863_RAG2   \n",
       "\n",
       "                                       #UP  #DOWN  \n",
       "chr1_36015845_36015848_NCDN,KIAA0319L    0      0  \n",
       "chr1_111696445_111696476_CEPT1,DRAM2     2      2  \n",
       "chr1_201814880_201814886_IPO9            0      0  \n",
       "chr1_215751270_215751296_KCTD3           0      0  \n",
       "chr11_36760826_36760863_RAG2             1      0  "
      ]
     },
     "execution_count": 147,
     "metadata": {},
     "output_type": "execute_result"
    }
   ],
   "source": [
    "out.head()"
   ]
  },
  {
   "cell_type": "code",
   "execution_count": 149,
   "id": "04e01460-2cbe-4a11-91f9-d6bf835488d8",
   "metadata": {
    "execution": {
     "iopub.execute_input": "2021-08-17T19:20:23.689233Z",
     "iopub.status.busy": "2021-08-17T19:20:23.688997Z",
     "iopub.status.idle": "2021-08-17T19:20:23.696713Z",
     "shell.execute_reply": "2021-08-17T19:20:23.696248Z",
     "shell.execute_reply.started": "2021-08-17T19:20:23.689215Z"
    },
    "tags": []
   },
   "outputs": [
    {
     "data": {
      "text/html": [
       "<div>\n",
       "<style scoped>\n",
       "    .dataframe tbody tr th:only-of-type {\n",
       "        vertical-align: middle;\n",
       "    }\n",
       "\n",
       "    .dataframe tbody tr th {\n",
       "        vertical-align: top;\n",
       "    }\n",
       "\n",
       "    .dataframe thead th {\n",
       "        text-align: right;\n",
       "    }\n",
       "</style>\n",
       "<table border=\"1\" class=\"dataframe\">\n",
       "  <thead>\n",
       "    <tr style=\"text-align: right;\">\n",
       "      <th></th>\n",
       "      <th>#UP</th>\n",
       "      <th>#DOWN</th>\n",
       "    </tr>\n",
       "    <tr>\n",
       "      <th>Sample</th>\n",
       "      <th></th>\n",
       "      <th></th>\n",
       "    </tr>\n",
       "  </thead>\n",
       "  <tbody>\n",
       "    <tr>\n",
       "      <th>20copy</th>\n",
       "      <td>2</td>\n",
       "      <td>5</td>\n",
       "    </tr>\n",
       "    <tr>\n",
       "      <th>d13</th>\n",
       "      <td>18</td>\n",
       "      <td>18</td>\n",
       "    </tr>\n",
       "    <tr>\n",
       "      <th>d3</th>\n",
       "      <td>10</td>\n",
       "      <td>5</td>\n",
       "    </tr>\n",
       "    <tr>\n",
       "      <th>d4</th>\n",
       "      <td>11</td>\n",
       "      <td>20</td>\n",
       "    </tr>\n",
       "    <tr>\n",
       "      <th>hgcOPT_s15</th>\n",
       "      <td>5</td>\n",
       "      <td>1</td>\n",
       "    </tr>\n",
       "    <tr>\n",
       "      <th>hgcOPT_s17</th>\n",
       "      <td>6</td>\n",
       "      <td>8</td>\n",
       "    </tr>\n",
       "    <tr>\n",
       "      <th>hgcOPT_s21</th>\n",
       "      <td>2</td>\n",
       "      <td>1</td>\n",
       "    </tr>\n",
       "    <tr>\n",
       "      <th>hgcOPT_s22</th>\n",
       "      <td>3</td>\n",
       "      <td>3</td>\n",
       "    </tr>\n",
       "    <tr>\n",
       "      <th>hgcOPT_s4</th>\n",
       "      <td>3</td>\n",
       "      <td>6</td>\n",
       "    </tr>\n",
       "    <tr>\n",
       "      <th>hgcOPT_s5</th>\n",
       "      <td>2</td>\n",
       "      <td>2</td>\n",
       "    </tr>\n",
       "  </tbody>\n",
       "</table>\n",
       "</div>"
      ],
      "text/plain": [
       "            #UP  #DOWN\n",
       "Sample                \n",
       "20copy        2      5\n",
       "d13          18     18\n",
       "d3           10      5\n",
       "d4           11     20\n",
       "hgcOPT_s15    5      1\n",
       "hgcOPT_s17    6      8\n",
       "hgcOPT_s21    2      1\n",
       "hgcOPT_s22    3      3\n",
       "hgcOPT_s4     3      6\n",
       "hgcOPT_s5     2      2"
      ]
     },
     "execution_count": 149,
     "metadata": {},
     "output_type": "execute_result"
    }
   ],
   "source": [
    "out.groupby(\"Sample\").sum()"
   ]
  },
  {
   "cell_type": "code",
   "execution_count": 150,
   "id": "5e433b5a-998a-4274-8d1c-45c4a1911b27",
   "metadata": {
    "execution": {
     "iopub.execute_input": "2021-08-17T19:22:03.220125Z",
     "iopub.status.busy": "2021-08-17T19:22:03.219877Z",
     "iopub.status.idle": "2021-08-17T19:22:03.223778Z",
     "shell.execute_reply": "2021-08-17T19:22:03.223411Z",
     "shell.execute_reply.started": "2021-08-17T19:22:03.220107Z"
    }
   },
   "outputs": [],
   "source": [
    "out.to_csv(\"DEG_in_insertion_TAD.csv\",index=False)"
   ]
  },
  {
   "cell_type": "code",
   "execution_count": null,
   "id": "340d333b-b6d1-4a71-8e1e-7eea139078df",
   "metadata": {},
   "outputs": [],
   "source": []
  },
  {
   "cell_type": "code",
   "execution_count": null,
   "id": "ad0aaf41-8491-4fd2-80db-5b0e2357b42d",
   "metadata": {},
   "outputs": [],
   "source": []
  },
  {
   "cell_type": "code",
   "execution_count": null,
   "id": "8949eb0d-c072-4e5a-8660-cfcdb2614c84",
   "metadata": {},
   "outputs": [],
   "source": []
  },
  {
   "cell_type": "code",
   "execution_count": null,
   "id": "de95e940-e8b7-49fc-ad5c-15828922f685",
   "metadata": {},
   "outputs": [],
   "source": []
  },
  {
   "cell_type": "code",
   "execution_count": null,
   "id": "91cf46d7-cbf4-4fbf-bdb5-a79b19efd9cc",
   "metadata": {},
   "outputs": [],
   "source": []
  },
  {
   "cell_type": "code",
   "execution_count": 29,
   "id": "c685335a-1678-4c4f-ab86-d7f4af5b2078",
   "metadata": {
    "execution": {
     "iopub.execute_input": "2021-08-17T17:59:08.832780Z",
     "iopub.status.busy": "2021-08-17T17:59:08.832498Z",
     "iopub.status.idle": "2021-08-17T17:59:10.017124Z",
     "shell.execute_reply": "2021-08-17T17:59:10.016259Z",
     "shell.execute_reply.started": "2021-08-17T17:59:08.832758Z"
    },
    "tags": []
   },
   "outputs": [],
   "source": []
  }
 ],
 "metadata": {
  "kernelspec": {
   "display_name": "Python 3",
   "language": "python",
   "name": "python3"
  },
  "language_info": {
   "codemirror_mode": {
    "name": "ipython",
    "version": 3
   },
   "file_extension": ".py",
   "mimetype": "text/x-python",
   "name": "python",
   "nbconvert_exporter": "python",
   "pygments_lexer": "ipython3",
   "version": "3.8.5"
  }
 },
 "nbformat": 4,
 "nbformat_minor": 5
}
