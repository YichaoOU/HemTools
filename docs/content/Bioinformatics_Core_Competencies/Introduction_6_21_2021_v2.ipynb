{
 "cells": [
  {
   "cell_type": "markdown",
   "id": "5de18017-9c53-4c6c-956a-f8dab747705e",
   "metadata": {},
   "source": [
    "# What is JupyterLab?"
   ]
  },
  {
   "cell_type": "markdown",
   "id": "ae2c8d08-6fa4-4c14-9455-7caced7067b3",
   "metadata": {},
   "source": [
    "- interactive python/R programming env\n",
    "- use the computationable power from our HPC\n",
    "- access the HPC data directly"
   ]
  },
  {
   "cell_type": "markdown",
   "id": "75a45017-5ab9-4487-8614-8bb0ccc81d58",
   "metadata": {},
   "source": [
    "## Common usage"
   ]
  },
  {
   "cell_type": "markdown",
   "id": "35641f6b-559a-4cca-9fc3-669851994812",
   "metadata": {},
   "source": [
    "- create a python/R notebook\n",
    "- create table of content and cell tags\n",
    "- [navigation] go to my data dir and start analysis\n",
    "- is my notebook running?\n",
    "- [some hotkeys](https://gist.github.com/discdiver/9e00618756d120a8c9fa344ac1c375ac)"
   ]
  },
  {
   "cell_type": "markdown",
   "id": "fd0e5bd7-d5f6-407c-a1d4-d35b0c9db8fc",
   "metadata": {},
   "source": [
    "# Data analysis using Pandas"
   ]
  },
  {
   "cell_type": "markdown",
   "id": "d0e839f6-6c4d-4cbf-9177-7b4accf84450",
   "metadata": {},
   "source": [
    "- read_csv(), head(), sample(), shape(), columns\n",
    "- df.isnull().any().any()\n",
    "- sort_values()\n",
    "- value_counts()\n",
    "- describe()\n",
    "- groupby()\n",
    "- min(),max(),std(),median()\n",
    "- subset dataframe\n",
    "- to_csv()\n"
   ]
  },
  {
   "cell_type": "markdown",
   "id": "2159f35e-2332-4a11-b716-e2aa9cff8914",
   "metadata": {},
   "source": [
    "## Example Data: several clinicl measurements of 48 Type 2 diabetes patients and 48 normal individuals"
   ]
  },
  {
   "cell_type": "code",
   "execution_count": 22,
   "id": "cbc603e8-e7ac-42e2-b955-da6b90a89e07",
   "metadata": {
    "tags": []
   },
   "outputs": [],
   "source": [
    "import pandas as pd\n",
    "df = pd.read_csv(\"https://raw.githubusercontent.com/YichaoOU/Data_Science_Tutorials/master/LTC_selected_features.csv\",sep=\",\")"
   ]
  },
  {
   "cell_type": "markdown",
   "id": "ed4c3aa7-2e67-4628-89a1-ff3809784326",
   "metadata": {},
   "source": [
    "### read data"
   ]
  },
  {
   "cell_type": "code",
   "execution_count": 5,
   "id": "e7349347-ae29-4c50-aee5-81373ba3f0e5",
   "metadata": {},
   "outputs": [
    {
     "data": {
      "text/html": [
       "<div>\n",
       "<style scoped>\n",
       "    .dataframe tbody tr th:only-of-type {\n",
       "        vertical-align: middle;\n",
       "    }\n",
       "\n",
       "    .dataframe tbody tr th {\n",
       "        vertical-align: top;\n",
       "    }\n",
       "\n",
       "    .dataframe thead th {\n",
       "        text-align: right;\n",
       "    }\n",
       "</style>\n",
       "<table border=\"1\" class=\"dataframe\">\n",
       "  <thead>\n",
       "    <tr style=\"text-align: right;\">\n",
       "      <th></th>\n",
       "      <th>SampleID</th>\n",
       "      <th>Peptide_27</th>\n",
       "      <th>Fasting_plasma_glucose_(mmol/l)</th>\n",
       "      <th>HbA1c</th>\n",
       "      <th>Fasting_plasma_insulin_(pmol/l)</th>\n",
       "      <th>C-Peptide_(nmol/l)</th>\n",
       "      <th>HOMA-IR</th>\n",
       "      <th>Free_fatty_acids_(mmol/l)</th>\n",
       "      <th>Class</th>\n",
       "    </tr>\n",
       "  </thead>\n",
       "  <tbody>\n",
       "    <tr>\n",
       "      <th>0</th>\n",
       "      <td>3</td>\n",
       "      <td>10.42</td>\n",
       "      <td>4.73</td>\n",
       "      <td>6.5</td>\n",
       "      <td>121.4</td>\n",
       "      <td>1.63</td>\n",
       "      <td>3.7</td>\n",
       "      <td>1.03</td>\n",
       "      <td>1</td>\n",
       "    </tr>\n",
       "    <tr>\n",
       "      <th>1</th>\n",
       "      <td>5</td>\n",
       "      <td>102.86</td>\n",
       "      <td>7.16</td>\n",
       "      <td>7.6</td>\n",
       "      <td>226.0</td>\n",
       "      <td>1.11</td>\n",
       "      <td>10.4</td>\n",
       "      <td>0.98</td>\n",
       "      <td>1</td>\n",
       "    </tr>\n",
       "    <tr>\n",
       "      <th>2</th>\n",
       "      <td>6</td>\n",
       "      <td>9.84</td>\n",
       "      <td>5.06</td>\n",
       "      <td>4.9</td>\n",
       "      <td>39.7</td>\n",
       "      <td>0.75</td>\n",
       "      <td>1.3</td>\n",
       "      <td>0.35</td>\n",
       "      <td>0</td>\n",
       "    </tr>\n",
       "    <tr>\n",
       "      <th>3</th>\n",
       "      <td>7</td>\n",
       "      <td>41.03</td>\n",
       "      <td>5.35</td>\n",
       "      <td>6.3</td>\n",
       "      <td>203.3</td>\n",
       "      <td>2.02</td>\n",
       "      <td>7.0</td>\n",
       "      <td>1.17</td>\n",
       "      <td>1</td>\n",
       "    </tr>\n",
       "    <tr>\n",
       "      <th>4</th>\n",
       "      <td>8</td>\n",
       "      <td>12.30</td>\n",
       "      <td>5.37</td>\n",
       "      <td>5.6</td>\n",
       "      <td>50.8</td>\n",
       "      <td>1.19</td>\n",
       "      <td>1.7</td>\n",
       "      <td>0.32</td>\n",
       "      <td>0</td>\n",
       "    </tr>\n",
       "  </tbody>\n",
       "</table>\n",
       "</div>"
      ],
      "text/plain": [
       "   SampleID  Peptide_27  Fasting_plasma_glucose_(mmol/l)  HbA1c  \\\n",
       "0         3       10.42                             4.73    6.5   \n",
       "1         5      102.86                             7.16    7.6   \n",
       "2         6        9.84                             5.06    4.9   \n",
       "3         7       41.03                             5.35    6.3   \n",
       "4         8       12.30                             5.37    5.6   \n",
       "\n",
       "   Fasting_plasma_insulin_(pmol/l)  C-Peptide_(nmol/l)  HOMA-IR  \\\n",
       "0                            121.4                1.63      3.7   \n",
       "1                            226.0                1.11     10.4   \n",
       "2                             39.7                0.75      1.3   \n",
       "3                            203.3                2.02      7.0   \n",
       "4                             50.8                1.19      1.7   \n",
       "\n",
       "   Free_fatty_acids_(mmol/l)  Class  \n",
       "0                       1.03      1  \n",
       "1                       0.98      1  \n",
       "2                       0.35      0  \n",
       "3                       1.17      1  \n",
       "4                       0.32      0  "
      ]
     },
     "execution_count": 5,
     "metadata": {},
     "output_type": "execute_result"
    }
   ],
   "source": [
    "df.head()"
   ]
  },
  {
   "cell_type": "code",
   "execution_count": 6,
   "id": "aeb8a588-3083-4d8c-9027-e754abf6d67e",
   "metadata": {},
   "outputs": [
    {
     "data": {
      "text/html": [
       "<div>\n",
       "<style scoped>\n",
       "    .dataframe tbody tr th:only-of-type {\n",
       "        vertical-align: middle;\n",
       "    }\n",
       "\n",
       "    .dataframe tbody tr th {\n",
       "        vertical-align: top;\n",
       "    }\n",
       "\n",
       "    .dataframe thead th {\n",
       "        text-align: right;\n",
       "    }\n",
       "</style>\n",
       "<table border=\"1\" class=\"dataframe\">\n",
       "  <thead>\n",
       "    <tr style=\"text-align: right;\">\n",
       "      <th></th>\n",
       "      <th>SampleID</th>\n",
       "      <th>Peptide_27</th>\n",
       "      <th>Fasting_plasma_glucose_(mmol/l)</th>\n",
       "      <th>HbA1c</th>\n",
       "      <th>Fasting_plasma_insulin_(pmol/l)</th>\n",
       "      <th>C-Peptide_(nmol/l)</th>\n",
       "      <th>HOMA-IR</th>\n",
       "      <th>Free_fatty_acids_(mmol/l)</th>\n",
       "      <th>Class</th>\n",
       "    </tr>\n",
       "  </thead>\n",
       "  <tbody>\n",
       "    <tr>\n",
       "      <th>9</th>\n",
       "      <td>13</td>\n",
       "      <td>27.82</td>\n",
       "      <td>5.67</td>\n",
       "      <td>5.8</td>\n",
       "      <td>79.8</td>\n",
       "      <td>1.27</td>\n",
       "      <td>2.9</td>\n",
       "      <td>0.19</td>\n",
       "      <td>0</td>\n",
       "    </tr>\n",
       "    <tr>\n",
       "      <th>88</th>\n",
       "      <td>92</td>\n",
       "      <td>11.74</td>\n",
       "      <td>4.90</td>\n",
       "      <td>5.0</td>\n",
       "      <td>135.3</td>\n",
       "      <td>1.04</td>\n",
       "      <td>4.2</td>\n",
       "      <td>0.28</td>\n",
       "      <td>0</td>\n",
       "    </tr>\n",
       "    <tr>\n",
       "      <th>60</th>\n",
       "      <td>64</td>\n",
       "      <td>114.61</td>\n",
       "      <td>18.74</td>\n",
       "      <td>10.5</td>\n",
       "      <td>207.0</td>\n",
       "      <td>1.00</td>\n",
       "      <td>24.8</td>\n",
       "      <td>1.16</td>\n",
       "      <td>1</td>\n",
       "    </tr>\n",
       "  </tbody>\n",
       "</table>\n",
       "</div>"
      ],
      "text/plain": [
       "    SampleID  Peptide_27  Fasting_plasma_glucose_(mmol/l)  HbA1c  \\\n",
       "9         13       27.82                             5.67    5.8   \n",
       "88        92       11.74                             4.90    5.0   \n",
       "60        64      114.61                            18.74   10.5   \n",
       "\n",
       "    Fasting_plasma_insulin_(pmol/l)  C-Peptide_(nmol/l)  HOMA-IR  \\\n",
       "9                              79.8                1.27      2.9   \n",
       "88                            135.3                1.04      4.2   \n",
       "60                            207.0                1.00     24.8   \n",
       "\n",
       "    Free_fatty_acids_(mmol/l)  Class  \n",
       "9                        0.19      0  \n",
       "88                       0.28      0  \n",
       "60                       1.16      1  "
      ]
     },
     "execution_count": 6,
     "metadata": {},
     "output_type": "execute_result"
    }
   ],
   "source": [
    "df.sample(n=3)"
   ]
  },
  {
   "cell_type": "code",
   "execution_count": 25,
   "id": "84183858-561f-4d11-8186-1330b7ddb0eb",
   "metadata": {},
   "outputs": [
    {
     "data": {
      "text/plain": [
       "Index(['SampleID', 'Peptide_27', 'Fasting_plasma_glucose_(mmol/l)', 'HbA1c',\n",
       "       'Fasting_plasma_insulin_(pmol/l)', 'C-Peptide_(nmol/l)', 'HOMA-IR',\n",
       "       'Free_fatty_acids_(mmol/l)', 'Class'],\n",
       "      dtype='object')"
      ]
     },
     "execution_count": 25,
     "metadata": {},
     "output_type": "execute_result"
    }
   ],
   "source": [
    "df.columns"
   ]
  },
  {
   "cell_type": "code",
   "execution_count": 7,
   "id": "2c1277b5-3e1e-45a1-8575-6ca925a1947a",
   "metadata": {},
   "outputs": [
    {
     "data": {
      "text/plain": [
       "False"
      ]
     },
     "execution_count": 7,
     "metadata": {},
     "output_type": "execute_result"
    }
   ],
   "source": [
    "df.isnull().any().any()"
   ]
  },
  {
   "cell_type": "markdown",
   "id": "78813067-b9e6-44b9-acb4-b0d00b2fac27",
   "metadata": {},
   "source": [
    "### get some statistics from data"
   ]
  },
  {
   "cell_type": "code",
   "execution_count": 8,
   "id": "7b171782-d2dc-4774-9311-d15e6843e2f0",
   "metadata": {},
   "outputs": [
    {
     "data": {
      "text/html": [
       "<div>\n",
       "<style scoped>\n",
       "    .dataframe tbody tr th:only-of-type {\n",
       "        vertical-align: middle;\n",
       "    }\n",
       "\n",
       "    .dataframe tbody tr th {\n",
       "        vertical-align: top;\n",
       "    }\n",
       "\n",
       "    .dataframe thead th {\n",
       "        text-align: right;\n",
       "    }\n",
       "</style>\n",
       "<table border=\"1\" class=\"dataframe\">\n",
       "  <thead>\n",
       "    <tr style=\"text-align: right;\">\n",
       "      <th></th>\n",
       "      <th>SampleID</th>\n",
       "      <th>Peptide_27</th>\n",
       "      <th>Fasting_plasma_glucose_(mmol/l)</th>\n",
       "      <th>HbA1c</th>\n",
       "      <th>Fasting_plasma_insulin_(pmol/l)</th>\n",
       "      <th>C-Peptide_(nmol/l)</th>\n",
       "      <th>HOMA-IR</th>\n",
       "      <th>Free_fatty_acids_(mmol/l)</th>\n",
       "      <th>Class</th>\n",
       "    </tr>\n",
       "  </thead>\n",
       "  <tbody>\n",
       "    <tr>\n",
       "      <th>count</th>\n",
       "      <td>96.000000</td>\n",
       "      <td>96.000000</td>\n",
       "      <td>96.000000</td>\n",
       "      <td>96.000000</td>\n",
       "      <td>96.000000</td>\n",
       "      <td>96.000000</td>\n",
       "      <td>96.000000</td>\n",
       "      <td>96.000000</td>\n",
       "      <td>96.000000</td>\n",
       "    </tr>\n",
       "    <tr>\n",
       "      <th>mean</th>\n",
       "      <td>51.541667</td>\n",
       "      <td>33.570208</td>\n",
       "      <td>6.711146</td>\n",
       "      <td>6.248958</td>\n",
       "      <td>155.566667</td>\n",
       "      <td>1.488632</td>\n",
       "      <td>7.240625</td>\n",
       "      <td>0.630937</td>\n",
       "      <td>0.500000</td>\n",
       "    </tr>\n",
       "    <tr>\n",
       "      <th>std</th>\n",
       "      <td>27.961596</td>\n",
       "      <td>23.398125</td>\n",
       "      <td>2.734147</td>\n",
       "      <td>1.455515</td>\n",
       "      <td>141.817693</td>\n",
       "      <td>0.778423</td>\n",
       "      <td>7.617384</td>\n",
       "      <td>0.343940</td>\n",
       "      <td>0.502625</td>\n",
       "    </tr>\n",
       "    <tr>\n",
       "      <th>min</th>\n",
       "      <td>3.000000</td>\n",
       "      <td>2.630000</td>\n",
       "      <td>3.800000</td>\n",
       "      <td>4.300000</td>\n",
       "      <td>15.000000</td>\n",
       "      <td>0.310000</td>\n",
       "      <td>0.500000</td>\n",
       "      <td>0.150000</td>\n",
       "      <td>0.000000</td>\n",
       "    </tr>\n",
       "    <tr>\n",
       "      <th>25%</th>\n",
       "      <td>27.750000</td>\n",
       "      <td>15.597500</td>\n",
       "      <td>5.037500</td>\n",
       "      <td>5.300000</td>\n",
       "      <td>64.550000</td>\n",
       "      <td>0.935000</td>\n",
       "      <td>2.200000</td>\n",
       "      <td>0.340000</td>\n",
       "      <td>0.000000</td>\n",
       "    </tr>\n",
       "    <tr>\n",
       "      <th>50%</th>\n",
       "      <td>51.500000</td>\n",
       "      <td>27.280000</td>\n",
       "      <td>5.670000</td>\n",
       "      <td>5.750000</td>\n",
       "      <td>112.600000</td>\n",
       "      <td>1.235000</td>\n",
       "      <td>4.100000</td>\n",
       "      <td>0.550000</td>\n",
       "      <td>0.500000</td>\n",
       "    </tr>\n",
       "    <tr>\n",
       "      <th>75%</th>\n",
       "      <td>75.250000</td>\n",
       "      <td>46.885000</td>\n",
       "      <td>7.352500</td>\n",
       "      <td>6.625000</td>\n",
       "      <td>199.775000</td>\n",
       "      <td>1.845000</td>\n",
       "      <td>10.125000</td>\n",
       "      <td>0.940000</td>\n",
       "      <td>1.000000</td>\n",
       "    </tr>\n",
       "    <tr>\n",
       "      <th>max</th>\n",
       "      <td>100.000000</td>\n",
       "      <td>114.610000</td>\n",
       "      <td>18.740000</td>\n",
       "      <td>10.900000</td>\n",
       "      <td>783.000000</td>\n",
       "      <td>4.180000</td>\n",
       "      <td>45.300000</td>\n",
       "      <td>1.350000</td>\n",
       "      <td>1.000000</td>\n",
       "    </tr>\n",
       "  </tbody>\n",
       "</table>\n",
       "</div>"
      ],
      "text/plain": [
       "         SampleID  Peptide_27  Fasting_plasma_glucose_(mmol/l)      HbA1c  \\\n",
       "count   96.000000   96.000000                        96.000000  96.000000   \n",
       "mean    51.541667   33.570208                         6.711146   6.248958   \n",
       "std     27.961596   23.398125                         2.734147   1.455515   \n",
       "min      3.000000    2.630000                         3.800000   4.300000   \n",
       "25%     27.750000   15.597500                         5.037500   5.300000   \n",
       "50%     51.500000   27.280000                         5.670000   5.750000   \n",
       "75%     75.250000   46.885000                         7.352500   6.625000   \n",
       "max    100.000000  114.610000                        18.740000  10.900000   \n",
       "\n",
       "       Fasting_plasma_insulin_(pmol/l)  C-Peptide_(nmol/l)    HOMA-IR  \\\n",
       "count                        96.000000           96.000000  96.000000   \n",
       "mean                        155.566667            1.488632   7.240625   \n",
       "std                         141.817693            0.778423   7.617384   \n",
       "min                          15.000000            0.310000   0.500000   \n",
       "25%                          64.550000            0.935000   2.200000   \n",
       "50%                         112.600000            1.235000   4.100000   \n",
       "75%                         199.775000            1.845000  10.125000   \n",
       "max                         783.000000            4.180000  45.300000   \n",
       "\n",
       "       Free_fatty_acids_(mmol/l)      Class  \n",
       "count                  96.000000  96.000000  \n",
       "mean                    0.630937   0.500000  \n",
       "std                     0.343940   0.502625  \n",
       "min                     0.150000   0.000000  \n",
       "25%                     0.340000   0.000000  \n",
       "50%                     0.550000   0.500000  \n",
       "75%                     0.940000   1.000000  \n",
       "max                     1.350000   1.000000  "
      ]
     },
     "execution_count": 8,
     "metadata": {},
     "output_type": "execute_result"
    }
   ],
   "source": [
    "df.describe()"
   ]
  },
  {
   "cell_type": "code",
   "execution_count": 9,
   "id": "5cca5df5-1bb4-4a6b-8989-fe833e7dc6d0",
   "metadata": {},
   "outputs": [],
   "source": [
    "df = df.sort_values(\"HbA1c\",ascending=False)"
   ]
  },
  {
   "cell_type": "code",
   "execution_count": 10,
   "id": "e82ca933-08e5-47ea-a6a2-3dcc7df89fea",
   "metadata": {},
   "outputs": [
    {
     "data": {
      "text/html": [
       "<div>\n",
       "<style scoped>\n",
       "    .dataframe tbody tr th:only-of-type {\n",
       "        vertical-align: middle;\n",
       "    }\n",
       "\n",
       "    .dataframe tbody tr th {\n",
       "        vertical-align: top;\n",
       "    }\n",
       "\n",
       "    .dataframe thead th {\n",
       "        text-align: right;\n",
       "    }\n",
       "</style>\n",
       "<table border=\"1\" class=\"dataframe\">\n",
       "  <thead>\n",
       "    <tr style=\"text-align: right;\">\n",
       "      <th></th>\n",
       "      <th>SampleID</th>\n",
       "      <th>Peptide_27</th>\n",
       "      <th>Fasting_plasma_glucose_(mmol/l)</th>\n",
       "      <th>HbA1c</th>\n",
       "      <th>Fasting_plasma_insulin_(pmol/l)</th>\n",
       "      <th>C-Peptide_(nmol/l)</th>\n",
       "      <th>HOMA-IR</th>\n",
       "      <th>Free_fatty_acids_(mmol/l)</th>\n",
       "      <th>Class</th>\n",
       "    </tr>\n",
       "  </thead>\n",
       "  <tbody>\n",
       "    <tr>\n",
       "      <th>55</th>\n",
       "      <td>59</td>\n",
       "      <td>55.81</td>\n",
       "      <td>9.71</td>\n",
       "      <td>10.9</td>\n",
       "      <td>212.0</td>\n",
       "      <td>2.26</td>\n",
       "      <td>13.2</td>\n",
       "      <td>0.39</td>\n",
       "      <td>1</td>\n",
       "    </tr>\n",
       "    <tr>\n",
       "      <th>19</th>\n",
       "      <td>23</td>\n",
       "      <td>53.11</td>\n",
       "      <td>8.24</td>\n",
       "      <td>10.8</td>\n",
       "      <td>242.0</td>\n",
       "      <td>2.42</td>\n",
       "      <td>12.8</td>\n",
       "      <td>0.83</td>\n",
       "      <td>1</td>\n",
       "    </tr>\n",
       "    <tr>\n",
       "      <th>62</th>\n",
       "      <td>66</td>\n",
       "      <td>23.47</td>\n",
       "      <td>10.13</td>\n",
       "      <td>10.7</td>\n",
       "      <td>143.1</td>\n",
       "      <td>1.02</td>\n",
       "      <td>9.3</td>\n",
       "      <td>0.92</td>\n",
       "      <td>1</td>\n",
       "    </tr>\n",
       "    <tr>\n",
       "      <th>60</th>\n",
       "      <td>64</td>\n",
       "      <td>114.61</td>\n",
       "      <td>18.74</td>\n",
       "      <td>10.5</td>\n",
       "      <td>207.0</td>\n",
       "      <td>1.00</td>\n",
       "      <td>24.8</td>\n",
       "      <td>1.16</td>\n",
       "      <td>1</td>\n",
       "    </tr>\n",
       "    <tr>\n",
       "      <th>85</th>\n",
       "      <td>89</td>\n",
       "      <td>56.46</td>\n",
       "      <td>9.89</td>\n",
       "      <td>9.1</td>\n",
       "      <td>178.2</td>\n",
       "      <td>0.94</td>\n",
       "      <td>11.3</td>\n",
       "      <td>1.17</td>\n",
       "      <td>1</td>\n",
       "    </tr>\n",
       "  </tbody>\n",
       "</table>\n",
       "</div>"
      ],
      "text/plain": [
       "    SampleID  Peptide_27  Fasting_plasma_glucose_(mmol/l)  HbA1c  \\\n",
       "55        59       55.81                             9.71   10.9   \n",
       "19        23       53.11                             8.24   10.8   \n",
       "62        66       23.47                            10.13   10.7   \n",
       "60        64      114.61                            18.74   10.5   \n",
       "85        89       56.46                             9.89    9.1   \n",
       "\n",
       "    Fasting_plasma_insulin_(pmol/l)  C-Peptide_(nmol/l)  HOMA-IR  \\\n",
       "55                            212.0                2.26     13.2   \n",
       "19                            242.0                2.42     12.8   \n",
       "62                            143.1                1.02      9.3   \n",
       "60                            207.0                1.00     24.8   \n",
       "85                            178.2                0.94     11.3   \n",
       "\n",
       "    Free_fatty_acids_(mmol/l)  Class  \n",
       "55                       0.39      1  \n",
       "19                       0.83      1  \n",
       "62                       0.92      1  \n",
       "60                       1.16      1  \n",
       "85                       1.17      1  "
      ]
     },
     "execution_count": 10,
     "metadata": {},
     "output_type": "execute_result"
    }
   ],
   "source": [
    "df.head()"
   ]
  },
  {
   "cell_type": "code",
   "execution_count": 12,
   "id": "5b4fcb8e-478b-441e-a427-312cfdb78cc6",
   "metadata": {},
   "outputs": [
    {
     "data": {
      "text/plain": [
       "Class\n",
       "0    48\n",
       "1    48\n",
       "dtype: int64"
      ]
     },
     "execution_count": 12,
     "metadata": {},
     "output_type": "execute_result"
    }
   ],
   "source": [
    "df.value_counts('Class')"
   ]
  },
  {
   "cell_type": "code",
   "execution_count": 13,
   "id": "b1469455-6c87-4320-a88d-274ae54e51ca",
   "metadata": {},
   "outputs": [
    {
     "data": {
      "text/plain": [
       "(96, 9)"
      ]
     },
     "execution_count": 13,
     "metadata": {},
     "output_type": "execute_result"
    }
   ],
   "source": [
    "df.shape"
   ]
  },
  {
   "cell_type": "code",
   "execution_count": 14,
   "id": "8a49a7c3-b88f-403c-b302-94836994d770",
   "metadata": {},
   "outputs": [
    {
     "data": {
      "text/plain": [
       "4.3"
      ]
     },
     "execution_count": 14,
     "metadata": {},
     "output_type": "execute_result"
    }
   ],
   "source": [
    "df['HbA1c'].min()"
   ]
  },
  {
   "cell_type": "code",
   "execution_count": 15,
   "id": "979f5a45-3cce-458c-9d4b-fa4def69a075",
   "metadata": {},
   "outputs": [
    {
     "data": {
      "text/plain": [
       "5.75"
      ]
     },
     "execution_count": 15,
     "metadata": {},
     "output_type": "execute_result"
    }
   ],
   "source": [
    "df['HbA1c'].median()"
   ]
  },
  {
   "cell_type": "code",
   "execution_count": 42,
   "id": "31a38df3-eb9f-49a6-9dc2-424cf2bfdb6f",
   "metadata": {},
   "outputs": [
    {
     "data": {
      "text/plain": [
       "10.9"
      ]
     },
     "execution_count": 42,
     "metadata": {},
     "output_type": "execute_result"
    }
   ],
   "source": [
    "df['HbA1c'].max()"
   ]
  },
  {
   "cell_type": "code",
   "execution_count": 16,
   "id": "0d548869-5700-49ee-bfd2-0536c3588b5b",
   "metadata": {},
   "outputs": [
    {
     "data": {
      "text/html": [
       "<div>\n",
       "<style scoped>\n",
       "    .dataframe tbody tr th:only-of-type {\n",
       "        vertical-align: middle;\n",
       "    }\n",
       "\n",
       "    .dataframe tbody tr th {\n",
       "        vertical-align: top;\n",
       "    }\n",
       "\n",
       "    .dataframe thead th {\n",
       "        text-align: right;\n",
       "    }\n",
       "</style>\n",
       "<table border=\"1\" class=\"dataframe\">\n",
       "  <thead>\n",
       "    <tr style=\"text-align: right;\">\n",
       "      <th></th>\n",
       "      <th>SampleID</th>\n",
       "      <th>Peptide_27</th>\n",
       "      <th>Fasting_plasma_glucose_(mmol/l)</th>\n",
       "      <th>HbA1c</th>\n",
       "      <th>Fasting_plasma_insulin_(pmol/l)</th>\n",
       "      <th>C-Peptide_(nmol/l)</th>\n",
       "      <th>HOMA-IR</th>\n",
       "      <th>Free_fatty_acids_(mmol/l)</th>\n",
       "    </tr>\n",
       "    <tr>\n",
       "      <th>Class</th>\n",
       "      <th></th>\n",
       "      <th></th>\n",
       "      <th></th>\n",
       "      <th></th>\n",
       "      <th></th>\n",
       "      <th></th>\n",
       "      <th></th>\n",
       "      <th></th>\n",
       "    </tr>\n",
       "  </thead>\n",
       "  <tbody>\n",
       "    <tr>\n",
       "      <th>0</th>\n",
       "      <td>53.354167</td>\n",
       "      <td>21.965417</td>\n",
       "      <td>5.321667</td>\n",
       "      <td>5.345833</td>\n",
       "      <td>79.208333</td>\n",
       "      <td>1.103513</td>\n",
       "      <td>2.679167</td>\n",
       "      <td>0.391042</td>\n",
       "    </tr>\n",
       "    <tr>\n",
       "      <th>1</th>\n",
       "      <td>49.729167</td>\n",
       "      <td>45.175000</td>\n",
       "      <td>8.100625</td>\n",
       "      <td>7.152083</td>\n",
       "      <td>231.925000</td>\n",
       "      <td>1.873750</td>\n",
       "      <td>11.802083</td>\n",
       "      <td>0.870833</td>\n",
       "    </tr>\n",
       "  </tbody>\n",
       "</table>\n",
       "</div>"
      ],
      "text/plain": [
       "        SampleID  Peptide_27  Fasting_plasma_glucose_(mmol/l)     HbA1c  \\\n",
       "Class                                                                     \n",
       "0      53.354167   21.965417                         5.321667  5.345833   \n",
       "1      49.729167   45.175000                         8.100625  7.152083   \n",
       "\n",
       "       Fasting_plasma_insulin_(pmol/l)  C-Peptide_(nmol/l)    HOMA-IR  \\\n",
       "Class                                                                   \n",
       "0                            79.208333            1.103513   2.679167   \n",
       "1                           231.925000            1.873750  11.802083   \n",
       "\n",
       "       Free_fatty_acids_(mmol/l)  \n",
       "Class                             \n",
       "0                       0.391042  \n",
       "1                       0.870833  "
      ]
     },
     "execution_count": 16,
     "metadata": {},
     "output_type": "execute_result"
    }
   ],
   "source": [
    "df.groupby('Class').mean()"
   ]
  },
  {
   "cell_type": "code",
   "execution_count": 21,
   "id": "2f0c5af7-22b3-4d00-bf60-bf29db5c4918",
   "metadata": {},
   "outputs": [
    {
     "data": {
      "text/html": [
       "<div>\n",
       "<style scoped>\n",
       "    .dataframe tbody tr th:only-of-type {\n",
       "        vertical-align: middle;\n",
       "    }\n",
       "\n",
       "    .dataframe tbody tr th {\n",
       "        vertical-align: top;\n",
       "    }\n",
       "\n",
       "    .dataframe thead th {\n",
       "        text-align: right;\n",
       "    }\n",
       "</style>\n",
       "<table border=\"1\" class=\"dataframe\">\n",
       "  <thead>\n",
       "    <tr style=\"text-align: right;\">\n",
       "      <th></th>\n",
       "      <th>SampleID</th>\n",
       "      <th>Peptide_27</th>\n",
       "      <th>Fasting_plasma_glucose_(mmol/l)</th>\n",
       "      <th>HbA1c</th>\n",
       "      <th>Fasting_plasma_insulin_(pmol/l)</th>\n",
       "      <th>C-Peptide_(nmol/l)</th>\n",
       "      <th>HOMA-IR</th>\n",
       "      <th>Free_fatty_acids_(mmol/l)</th>\n",
       "      <th>Class</th>\n",
       "    </tr>\n",
       "  </thead>\n",
       "  <tbody>\n",
       "    <tr>\n",
       "      <th>55</th>\n",
       "      <td>59</td>\n",
       "      <td>55.81</td>\n",
       "      <td>9.71</td>\n",
       "      <td>10.9</td>\n",
       "      <td>212.0</td>\n",
       "      <td>2.26</td>\n",
       "      <td>13.2</td>\n",
       "      <td>0.39</td>\n",
       "      <td>1</td>\n",
       "    </tr>\n",
       "    <tr>\n",
       "      <th>19</th>\n",
       "      <td>23</td>\n",
       "      <td>53.11</td>\n",
       "      <td>8.24</td>\n",
       "      <td>10.8</td>\n",
       "      <td>242.0</td>\n",
       "      <td>2.42</td>\n",
       "      <td>12.8</td>\n",
       "      <td>0.83</td>\n",
       "      <td>1</td>\n",
       "    </tr>\n",
       "    <tr>\n",
       "      <th>62</th>\n",
       "      <td>66</td>\n",
       "      <td>23.47</td>\n",
       "      <td>10.13</td>\n",
       "      <td>10.7</td>\n",
       "      <td>143.1</td>\n",
       "      <td>1.02</td>\n",
       "      <td>9.3</td>\n",
       "      <td>0.92</td>\n",
       "      <td>1</td>\n",
       "    </tr>\n",
       "    <tr>\n",
       "      <th>60</th>\n",
       "      <td>64</td>\n",
       "      <td>114.61</td>\n",
       "      <td>18.74</td>\n",
       "      <td>10.5</td>\n",
       "      <td>207.0</td>\n",
       "      <td>1.00</td>\n",
       "      <td>24.8</td>\n",
       "      <td>1.16</td>\n",
       "      <td>1</td>\n",
       "    </tr>\n",
       "    <tr>\n",
       "      <th>85</th>\n",
       "      <td>89</td>\n",
       "      <td>56.46</td>\n",
       "      <td>9.89</td>\n",
       "      <td>9.1</td>\n",
       "      <td>178.2</td>\n",
       "      <td>0.94</td>\n",
       "      <td>11.3</td>\n",
       "      <td>1.17</td>\n",
       "      <td>1</td>\n",
       "    </tr>\n",
       "    <tr>\n",
       "      <th>89</th>\n",
       "      <td>93</td>\n",
       "      <td>18.06</td>\n",
       "      <td>7.39</td>\n",
       "      <td>6.5</td>\n",
       "      <td>88.9</td>\n",
       "      <td>1.22</td>\n",
       "      <td>4.2</td>\n",
       "      <td>0.35</td>\n",
       "      <td>0</td>\n",
       "    </tr>\n",
       "    <tr>\n",
       "      <th>65</th>\n",
       "      <td>69</td>\n",
       "      <td>43.86</td>\n",
       "      <td>6.26</td>\n",
       "      <td>6.0</td>\n",
       "      <td>69.2</td>\n",
       "      <td>1.20</td>\n",
       "      <td>2.8</td>\n",
       "      <td>0.22</td>\n",
       "      <td>0</td>\n",
       "    </tr>\n",
       "    <tr>\n",
       "      <th>43</th>\n",
       "      <td>47</td>\n",
       "      <td>11.36</td>\n",
       "      <td>6.67</td>\n",
       "      <td>5.9</td>\n",
       "      <td>58.2</td>\n",
       "      <td>0.89</td>\n",
       "      <td>2.5</td>\n",
       "      <td>0.36</td>\n",
       "      <td>0</td>\n",
       "    </tr>\n",
       "    <tr>\n",
       "      <th>35</th>\n",
       "      <td>39</td>\n",
       "      <td>32.81</td>\n",
       "      <td>5.68</td>\n",
       "      <td>5.9</td>\n",
       "      <td>102.4</td>\n",
       "      <td>1.03</td>\n",
       "      <td>3.7</td>\n",
       "      <td>0.27</td>\n",
       "      <td>0</td>\n",
       "    </tr>\n",
       "    <tr>\n",
       "      <th>6</th>\n",
       "      <td>10</td>\n",
       "      <td>25.75</td>\n",
       "      <td>5.67</td>\n",
       "      <td>5.8</td>\n",
       "      <td>67.1</td>\n",
       "      <td>0.94</td>\n",
       "      <td>2.4</td>\n",
       "      <td>0.26</td>\n",
       "      <td>0</td>\n",
       "    </tr>\n",
       "  </tbody>\n",
       "</table>\n",
       "</div>"
      ],
      "text/plain": [
       "    SampleID  Peptide_27  Fasting_plasma_glucose_(mmol/l)  HbA1c  \\\n",
       "55        59       55.81                             9.71   10.9   \n",
       "19        23       53.11                             8.24   10.8   \n",
       "62        66       23.47                            10.13   10.7   \n",
       "60        64      114.61                            18.74   10.5   \n",
       "85        89       56.46                             9.89    9.1   \n",
       "89        93       18.06                             7.39    6.5   \n",
       "65        69       43.86                             6.26    6.0   \n",
       "43        47       11.36                             6.67    5.9   \n",
       "35        39       32.81                             5.68    5.9   \n",
       "6         10       25.75                             5.67    5.8   \n",
       "\n",
       "    Fasting_plasma_insulin_(pmol/l)  C-Peptide_(nmol/l)  HOMA-IR  \\\n",
       "55                            212.0                2.26     13.2   \n",
       "19                            242.0                2.42     12.8   \n",
       "62                            143.1                1.02      9.3   \n",
       "60                            207.0                1.00     24.8   \n",
       "85                            178.2                0.94     11.3   \n",
       "89                             88.9                1.22      4.2   \n",
       "65                             69.2                1.20      2.8   \n",
       "43                             58.2                0.89      2.5   \n",
       "35                            102.4                1.03      3.7   \n",
       "6                              67.1                0.94      2.4   \n",
       "\n",
       "    Free_fatty_acids_(mmol/l)  Class  \n",
       "55                       0.39      1  \n",
       "19                       0.83      1  \n",
       "62                       0.92      1  \n",
       "60                       1.16      1  \n",
       "85                       1.17      1  \n",
       "89                       0.35      0  \n",
       "65                       0.22      0  \n",
       "43                       0.36      0  \n",
       "35                       0.27      0  \n",
       "6                        0.26      0  "
      ]
     },
     "execution_count": 21,
     "metadata": {},
     "output_type": "execute_result"
    }
   ],
   "source": [
    "df.groupby('Class').head()"
   ]
  },
  {
   "cell_type": "code",
   "execution_count": 41,
   "id": "26b43f01-58bd-441c-bcc3-b25760194356",
   "metadata": {},
   "outputs": [],
   "source": [
    "df.groupby('Class').head().to_csv(\"My_examlpe.tsv\",index=False,sep=\"\\t\")"
   ]
  },
  {
   "cell_type": "markdown",
   "id": "f8adc010-6c32-4fec-8fc2-1b449367126e",
   "metadata": {},
   "source": [
    "### subset data"
   ]
  },
  {
   "cell_type": "code",
   "execution_count": 60,
   "id": "e429c25d-b1f3-4c4c-bb29-692a1c2a55d0",
   "metadata": {},
   "outputs": [],
   "source": [
    "df_undiagnosed = df[df['HbA1c']<6.5]"
   ]
  },
  {
   "cell_type": "code",
   "execution_count": 61,
   "id": "7ca9f77b-f161-4fe3-848c-223878dd8ab3",
   "metadata": {},
   "outputs": [
    {
     "data": {
      "text/plain": [
       "0    47\n",
       "1    18\n",
       "Name: Class, dtype: int64"
      ]
     },
     "execution_count": 61,
     "metadata": {},
     "output_type": "execute_result"
    }
   ],
   "source": [
    "df_undiagnosed['Class'].value_counts()"
   ]
  },
  {
   "cell_type": "code",
   "execution_count": 62,
   "id": "e21dd1f7-0fcd-4d53-9112-5d3fc481526c",
   "metadata": {},
   "outputs": [
    {
     "data": {
      "text/plain": [
       "0    0.723077\n",
       "1    0.276923\n",
       "Name: Class, dtype: float64"
      ]
     },
     "execution_count": 62,
     "metadata": {},
     "output_type": "execute_result"
    }
   ],
   "source": [
    "df_undiagnosed['Class'].value_counts(normalize=True)"
   ]
  },
  {
   "cell_type": "code",
   "execution_count": 26,
   "id": "b433fae9-930c-4833-9e7c-8e1637961a6d",
   "metadata": {},
   "outputs": [],
   "source": [
    "data2 = \"https://raw.githubusercontent.com/YichaoOU/Data_Science_Tutorials/master/newly_diagnosed.csv\""
   ]
  },
  {
   "cell_type": "markdown",
   "id": "55c45a13-494c-47ee-8dfe-cb7db58b5775",
   "metadata": {},
   "source": [
    "## Exercise"
   ]
  },
  {
   "cell_type": "markdown",
   "id": "c14cafc0-7f65-461c-8f12-e20a5d8f7f32",
   "metadata": {},
   "source": [
    "### Read this table as Pandas object"
   ]
  },
  {
   "cell_type": "code",
   "execution_count": 36,
   "id": "ee2538c8-bc82-407b-aad8-c0142a8ee51a",
   "metadata": {},
   "outputs": [],
   "source": [
    "df2 = pd.read_csv(data2,sep=\",\")"
   ]
  },
  {
   "cell_type": "code",
   "execution_count": 38,
   "id": "a1180409-11e5-44d9-9dca-54aefc87efc0",
   "metadata": {},
   "outputs": [
    {
     "data": {
      "text/html": [
       "<div>\n",
       "<style scoped>\n",
       "    .dataframe tbody tr th:only-of-type {\n",
       "        vertical-align: middle;\n",
       "    }\n",
       "\n",
       "    .dataframe tbody tr th {\n",
       "        vertical-align: top;\n",
       "    }\n",
       "\n",
       "    .dataframe thead th {\n",
       "        text-align: right;\n",
       "    }\n",
       "</style>\n",
       "<table border=\"1\" class=\"dataframe\">\n",
       "  <thead>\n",
       "    <tr style=\"text-align: right;\">\n",
       "      <th></th>\n",
       "      <th>Sample ID</th>\n",
       "      <th>Peptide 1</th>\n",
       "      <th>Peptide 2</th>\n",
       "      <th>Peptide 3</th>\n",
       "      <th>Peptide 4</th>\n",
       "      <th>Peptide 5</th>\n",
       "      <th>Peptide 6</th>\n",
       "      <th>Peptide 7</th>\n",
       "      <th>Peptide 8</th>\n",
       "      <th>Peptide 9</th>\n",
       "      <th>...</th>\n",
       "      <th>TSH (mU/l)</th>\n",
       "      <th>fT3 (pmol/l)</th>\n",
       "      <th>fT4 (pmol/l)</th>\n",
       "      <th>Cortisol (nmol/l)</th>\n",
       "      <th>Testosteron (nmol/l)</th>\n",
       "      <th>HOMA-IR</th>\n",
       "      <th>Free fatty acids (mmol/l)</th>\n",
       "      <th>RRsys (mmHg)</th>\n",
       "      <th>RR dia (mmHg)</th>\n",
       "      <th>ssCRP (mg/dl)</th>\n",
       "    </tr>\n",
       "  </thead>\n",
       "  <tbody>\n",
       "    <tr>\n",
       "      <th>0</th>\n",
       "      <td>sample 2</td>\n",
       "      <td>33.58</td>\n",
       "      <td>7.18</td>\n",
       "      <td>9.35</td>\n",
       "      <td>3.57</td>\n",
       "      <td>94.44</td>\n",
       "      <td>14.91</td>\n",
       "      <td>153.05</td>\n",
       "      <td>35.52</td>\n",
       "      <td>9.76</td>\n",
       "      <td>...</td>\n",
       "      <td>0.72</td>\n",
       "      <td>5.23</td>\n",
       "      <td>21.5</td>\n",
       "      <td>NaN</td>\n",
       "      <td>NaN</td>\n",
       "      <td>7.2</td>\n",
       "      <td>0.30</td>\n",
       "      <td>NaN</td>\n",
       "      <td>NaN</td>\n",
       "      <td>0.48</td>\n",
       "    </tr>\n",
       "    <tr>\n",
       "      <th>1</th>\n",
       "      <td>sample 3</td>\n",
       "      <td>37.57</td>\n",
       "      <td>8.70</td>\n",
       "      <td>10.79</td>\n",
       "      <td>3.36</td>\n",
       "      <td>94.11</td>\n",
       "      <td>15.99</td>\n",
       "      <td>198.88</td>\n",
       "      <td>39.65</td>\n",
       "      <td>8.62</td>\n",
       "      <td>...</td>\n",
       "      <td>0.97</td>\n",
       "      <td>NaN</td>\n",
       "      <td>NaN</td>\n",
       "      <td>NaN</td>\n",
       "      <td>NaN</td>\n",
       "      <td>9.3</td>\n",
       "      <td>1.04</td>\n",
       "      <td>NaN</td>\n",
       "      <td>NaN</td>\n",
       "      <td>7.15</td>\n",
       "    </tr>\n",
       "    <tr>\n",
       "      <th>2</th>\n",
       "      <td>sample 4</td>\n",
       "      <td>27.31</td>\n",
       "      <td>5.42</td>\n",
       "      <td>5.64</td>\n",
       "      <td>2.75</td>\n",
       "      <td>67.01</td>\n",
       "      <td>11.91</td>\n",
       "      <td>148.32</td>\n",
       "      <td>28.90</td>\n",
       "      <td>5.64</td>\n",
       "      <td>...</td>\n",
       "      <td>1.02</td>\n",
       "      <td>5.01</td>\n",
       "      <td>17.6</td>\n",
       "      <td>NaN</td>\n",
       "      <td>NaN</td>\n",
       "      <td>9.1</td>\n",
       "      <td>0.37</td>\n",
       "      <td>NaN</td>\n",
       "      <td>NaN</td>\n",
       "      <td>NaN</td>\n",
       "    </tr>\n",
       "    <tr>\n",
       "      <th>3</th>\n",
       "      <td>sample 5</td>\n",
       "      <td>29.09</td>\n",
       "      <td>5.81</td>\n",
       "      <td>4.69</td>\n",
       "      <td>3.61</td>\n",
       "      <td>65.99</td>\n",
       "      <td>12.42</td>\n",
       "      <td>154.55</td>\n",
       "      <td>26.48</td>\n",
       "      <td>6.38</td>\n",
       "      <td>...</td>\n",
       "      <td>1.00</td>\n",
       "      <td>4.61</td>\n",
       "      <td>15.7</td>\n",
       "      <td>NaN</td>\n",
       "      <td>NaN</td>\n",
       "      <td>24.5</td>\n",
       "      <td>0.99</td>\n",
       "      <td>168.0</td>\n",
       "      <td>95.0</td>\n",
       "      <td>0.20</td>\n",
       "    </tr>\n",
       "    <tr>\n",
       "      <th>4</th>\n",
       "      <td>sample 6</td>\n",
       "      <td>41.13</td>\n",
       "      <td>8.40</td>\n",
       "      <td>8.85</td>\n",
       "      <td>3.56</td>\n",
       "      <td>109.13</td>\n",
       "      <td>17.60</td>\n",
       "      <td>209.62</td>\n",
       "      <td>44.35</td>\n",
       "      <td>10.43</td>\n",
       "      <td>...</td>\n",
       "      <td>1.30</td>\n",
       "      <td>5.43</td>\n",
       "      <td>19.2</td>\n",
       "      <td>NaN</td>\n",
       "      <td>NaN</td>\n",
       "      <td>11.1</td>\n",
       "      <td>0.54</td>\n",
       "      <td>165.0</td>\n",
       "      <td>84.0</td>\n",
       "      <td>0.30</td>\n",
       "    </tr>\n",
       "  </tbody>\n",
       "</table>\n",
       "<p>5 rows × 69 columns</p>\n",
       "</div>"
      ],
      "text/plain": [
       "  Sample ID  Peptide 1  Peptide 2  Peptide 3  Peptide 4  Peptide 5  Peptide 6  \\\n",
       "0  sample 2      33.58       7.18       9.35       3.57      94.44      14.91   \n",
       "1  sample 3      37.57       8.70      10.79       3.36      94.11      15.99   \n",
       "2  sample 4      27.31       5.42       5.64       2.75      67.01      11.91   \n",
       "3  sample 5      29.09       5.81       4.69       3.61      65.99      12.42   \n",
       "4  sample 6      41.13       8.40       8.85       3.56     109.13      17.60   \n",
       "\n",
       "   Peptide 7  Peptide 8  Peptide 9  ...  TSH (mU/l)  fT3 (pmol/l)  \\\n",
       "0     153.05      35.52       9.76  ...        0.72          5.23   \n",
       "1     198.88      39.65       8.62  ...        0.97           NaN   \n",
       "2     148.32      28.90       5.64  ...        1.02          5.01   \n",
       "3     154.55      26.48       6.38  ...        1.00          4.61   \n",
       "4     209.62      44.35      10.43  ...        1.30          5.43   \n",
       "\n",
       "   fT4 (pmol/l)  Cortisol (nmol/l)  Testosteron (nmol/l)  HOMA-IR  \\\n",
       "0          21.5                NaN                   NaN      7.2   \n",
       "1           NaN                NaN                   NaN      9.3   \n",
       "2          17.6                NaN                   NaN      9.1   \n",
       "3          15.7                NaN                   NaN     24.5   \n",
       "4          19.2                NaN                   NaN     11.1   \n",
       "\n",
       "   Free fatty acids (mmol/l)  RRsys (mmHg)  RR dia (mmHg)  ssCRP (mg/dl)  \n",
       "0                       0.30           NaN            NaN           0.48  \n",
       "1                       1.04           NaN            NaN           7.15  \n",
       "2                       0.37           NaN            NaN            NaN  \n",
       "3                       0.99         168.0           95.0           0.20  \n",
       "4                       0.54         165.0           84.0           0.30  \n",
       "\n",
       "[5 rows x 69 columns]"
      ]
     },
     "execution_count": 38,
     "metadata": {},
     "output_type": "execute_result"
    }
   ],
   "source": [
    "df2.head()"
   ]
  },
  {
   "cell_type": "markdown",
   "id": "60a46d3a-1062-4697-960d-34972a9aec18",
   "metadata": {},
   "source": [
    "### What are the features (columns) in this dataset?"
   ]
  },
  {
   "cell_type": "code",
   "execution_count": 40,
   "id": "ead668ad-eba6-4e24-abd8-4cae90e9130e",
   "metadata": {},
   "outputs": [
    {
     "data": {
      "text/plain": [
       "Index(['Sample ID', 'Peptide 1', 'Peptide 2', 'Peptide 3', 'Peptide 4',\n",
       "       'Peptide 5', 'Peptide 6', 'Peptide 7', 'Peptide 8', 'Peptide 9',\n",
       "       'Peptide 10', 'Peptide 11', 'Peptide 12', 'Peptide 13', 'Peptide 14',\n",
       "       'Peptide 15', 'Peptide 16', 'Peptide 17', 'Peptide 18', 'Peptide 21',\n",
       "       'Peptide 22', 'Peptide 23', 'Peptide 24', 'Peptide 25', 'Peptide 26',\n",
       "       'Peptide 27', 'Peptide 29', 'Peptide 30', 'Age', 'Diagnosis', 'BMI',\n",
       "       'HbA1c (%)', 'Gender', 'Height', 'Body weight', 'BMI.1', 'Body fat',\n",
       "       'Fat free mass', 'Waist', 'Hip', 'WHR', 'Hemoglobin', 'Erythrozyten',\n",
       "       'Thrombozyten', 'Leukocytes', 'ALAT', 'ASAT', 'gGT',\n",
       "       'Fasting plasma glucose (mmol/l)', 'Fasting plasma insulin (pmol/l)',\n",
       "       'C-Peptide (nmol/l)', 'Proinsulin (pmol/l)', 'Creatinin',\n",
       "       'Triglycerides (mmol/l)', 'Cholesterol total (mmol/l)',\n",
       "       'HDL-Cholesterol (mmol/l)', 'LDL-Cholesterol (mmol/l)',\n",
       "       'Proteins total (g/l)', 'Albumin (g/l)', 'TSH (mU/l)', 'fT3 (pmol/l)',\n",
       "       'fT4 (pmol/l)', 'Cortisol (nmol/l)', 'Testosteron (nmol/l)', 'HOMA-IR',\n",
       "       'Free fatty acids (mmol/l)', 'RRsys (mmHg)', 'RR dia (mmHg)',\n",
       "       'ssCRP (mg/dl)'],\n",
       "      dtype='object')"
      ]
     },
     "execution_count": 40,
     "metadata": {},
     "output_type": "execute_result"
    }
   ],
   "source": [
    "df2.columns"
   ]
  },
  {
   "cell_type": "markdown",
   "id": "9d6c257d-c608-4f08-ae8d-e6b014f61bf8",
   "metadata": {},
   "source": [
    "### What are the maximum and minimum values for HbA1c? Are they the same as the first dataset?"
   ]
  },
  {
   "cell_type": "code",
   "execution_count": 45,
   "id": "915bface-28d1-4533-835a-c214d31512fa",
   "metadata": {},
   "outputs": [
    {
     "data": {
      "text/plain": [
       "4.3"
      ]
     },
     "execution_count": 45,
     "metadata": {},
     "output_type": "execute_result"
    }
   ],
   "source": [
    "df2['HbA1c (%)'].min()\n"
   ]
  },
  {
   "cell_type": "code",
   "execution_count": 46,
   "id": "b1b8e52c-3497-42a2-b5c5-d9d2cc33718b",
   "metadata": {},
   "outputs": [
    {
     "data": {
      "text/plain": [
       "9.7"
      ]
     },
     "execution_count": 46,
     "metadata": {},
     "output_type": "execute_result"
    }
   ],
   "source": [
    "df2['HbA1c (%)'].max()"
   ]
  },
  {
   "cell_type": "markdown",
   "id": "e8fd5ce6-92f2-4cba-9cd2-2a80842e3ba1",
   "metadata": {},
   "source": [
    "### Does our data have NaN values?"
   ]
  },
  {
   "cell_type": "code",
   "execution_count": 47,
   "id": "e54fa66d-95f4-4718-a192-b6b0da193b35",
   "metadata": {},
   "outputs": [
    {
     "data": {
      "text/plain": [
       "True"
      ]
     },
     "execution_count": 47,
     "metadata": {},
     "output_type": "execute_result"
    }
   ],
   "source": [
    "df2.isnull().any().any()"
   ]
  },
  {
   "cell_type": "code",
   "execution_count": 52,
   "id": "d2975685-9c04-4aca-aea1-dbc6af30c3d5",
   "metadata": {
    "collapsed": true,
    "jupyter": {
     "outputs_hidden": true
    },
    "tags": []
   },
   "outputs": [
    {
     "data": {
      "text/html": [
       "<div>\n",
       "<style scoped>\n",
       "    .dataframe tbody tr th:only-of-type {\n",
       "        vertical-align: middle;\n",
       "    }\n",
       "\n",
       "    .dataframe tbody tr th {\n",
       "        vertical-align: top;\n",
       "    }\n",
       "\n",
       "    .dataframe thead th {\n",
       "        text-align: right;\n",
       "    }\n",
       "</style>\n",
       "<table border=\"1\" class=\"dataframe\">\n",
       "  <thead>\n",
       "    <tr style=\"text-align: right;\">\n",
       "      <th></th>\n",
       "      <th>Sample ID</th>\n",
       "      <th>Peptide 1</th>\n",
       "      <th>Peptide 2</th>\n",
       "      <th>Peptide 3</th>\n",
       "      <th>Peptide 4</th>\n",
       "      <th>Peptide 5</th>\n",
       "      <th>Peptide 6</th>\n",
       "      <th>Peptide 7</th>\n",
       "      <th>Peptide 8</th>\n",
       "      <th>Peptide 9</th>\n",
       "      <th>...</th>\n",
       "      <th>TSH (mU/l)</th>\n",
       "      <th>fT3 (pmol/l)</th>\n",
       "      <th>fT4 (pmol/l)</th>\n",
       "      <th>Cortisol (nmol/l)</th>\n",
       "      <th>Testosteron (nmol/l)</th>\n",
       "      <th>HOMA-IR</th>\n",
       "      <th>Free fatty acids (mmol/l)</th>\n",
       "      <th>RRsys (mmHg)</th>\n",
       "      <th>RR dia (mmHg)</th>\n",
       "      <th>ssCRP (mg/dl)</th>\n",
       "    </tr>\n",
       "  </thead>\n",
       "  <tbody>\n",
       "    <tr>\n",
       "      <th>0</th>\n",
       "      <td>sample 2</td>\n",
       "      <td>33.58</td>\n",
       "      <td>7.18</td>\n",
       "      <td>9.35</td>\n",
       "      <td>3.57</td>\n",
       "      <td>94.44</td>\n",
       "      <td>14.91</td>\n",
       "      <td>153.05</td>\n",
       "      <td>35.52</td>\n",
       "      <td>9.76</td>\n",
       "      <td>...</td>\n",
       "      <td>0.72</td>\n",
       "      <td>5.23</td>\n",
       "      <td>21.5</td>\n",
       "      <td>NaN</td>\n",
       "      <td>NaN</td>\n",
       "      <td>7.2</td>\n",
       "      <td>0.30</td>\n",
       "      <td>NaN</td>\n",
       "      <td>NaN</td>\n",
       "      <td>0.48</td>\n",
       "    </tr>\n",
       "    <tr>\n",
       "      <th>1</th>\n",
       "      <td>sample 3</td>\n",
       "      <td>37.57</td>\n",
       "      <td>8.70</td>\n",
       "      <td>10.79</td>\n",
       "      <td>3.36</td>\n",
       "      <td>94.11</td>\n",
       "      <td>15.99</td>\n",
       "      <td>198.88</td>\n",
       "      <td>39.65</td>\n",
       "      <td>8.62</td>\n",
       "      <td>...</td>\n",
       "      <td>0.97</td>\n",
       "      <td>NaN</td>\n",
       "      <td>NaN</td>\n",
       "      <td>NaN</td>\n",
       "      <td>NaN</td>\n",
       "      <td>9.3</td>\n",
       "      <td>1.04</td>\n",
       "      <td>NaN</td>\n",
       "      <td>NaN</td>\n",
       "      <td>7.15</td>\n",
       "    </tr>\n",
       "    <tr>\n",
       "      <th>2</th>\n",
       "      <td>sample 4</td>\n",
       "      <td>27.31</td>\n",
       "      <td>5.42</td>\n",
       "      <td>5.64</td>\n",
       "      <td>2.75</td>\n",
       "      <td>67.01</td>\n",
       "      <td>11.91</td>\n",
       "      <td>148.32</td>\n",
       "      <td>28.90</td>\n",
       "      <td>5.64</td>\n",
       "      <td>...</td>\n",
       "      <td>1.02</td>\n",
       "      <td>5.01</td>\n",
       "      <td>17.6</td>\n",
       "      <td>NaN</td>\n",
       "      <td>NaN</td>\n",
       "      <td>9.1</td>\n",
       "      <td>0.37</td>\n",
       "      <td>NaN</td>\n",
       "      <td>NaN</td>\n",
       "      <td>NaN</td>\n",
       "    </tr>\n",
       "    <tr>\n",
       "      <th>3</th>\n",
       "      <td>sample 5</td>\n",
       "      <td>29.09</td>\n",
       "      <td>5.81</td>\n",
       "      <td>4.69</td>\n",
       "      <td>3.61</td>\n",
       "      <td>65.99</td>\n",
       "      <td>12.42</td>\n",
       "      <td>154.55</td>\n",
       "      <td>26.48</td>\n",
       "      <td>6.38</td>\n",
       "      <td>...</td>\n",
       "      <td>1.00</td>\n",
       "      <td>4.61</td>\n",
       "      <td>15.7</td>\n",
       "      <td>NaN</td>\n",
       "      <td>NaN</td>\n",
       "      <td>24.5</td>\n",
       "      <td>0.99</td>\n",
       "      <td>168.0</td>\n",
       "      <td>95.0</td>\n",
       "      <td>0.20</td>\n",
       "    </tr>\n",
       "    <tr>\n",
       "      <th>4</th>\n",
       "      <td>sample 6</td>\n",
       "      <td>41.13</td>\n",
       "      <td>8.40</td>\n",
       "      <td>8.85</td>\n",
       "      <td>3.56</td>\n",
       "      <td>109.13</td>\n",
       "      <td>17.60</td>\n",
       "      <td>209.62</td>\n",
       "      <td>44.35</td>\n",
       "      <td>10.43</td>\n",
       "      <td>...</td>\n",
       "      <td>1.30</td>\n",
       "      <td>5.43</td>\n",
       "      <td>19.2</td>\n",
       "      <td>NaN</td>\n",
       "      <td>NaN</td>\n",
       "      <td>11.1</td>\n",
       "      <td>0.54</td>\n",
       "      <td>165.0</td>\n",
       "      <td>84.0</td>\n",
       "      <td>0.30</td>\n",
       "    </tr>\n",
       "    <tr>\n",
       "      <th>...</th>\n",
       "      <td>...</td>\n",
       "      <td>...</td>\n",
       "      <td>...</td>\n",
       "      <td>...</td>\n",
       "      <td>...</td>\n",
       "      <td>...</td>\n",
       "      <td>...</td>\n",
       "      <td>...</td>\n",
       "      <td>...</td>\n",
       "      <td>...</td>\n",
       "      <td>...</td>\n",
       "      <td>...</td>\n",
       "      <td>...</td>\n",
       "      <td>...</td>\n",
       "      <td>...</td>\n",
       "      <td>...</td>\n",
       "      <td>...</td>\n",
       "      <td>...</td>\n",
       "      <td>...</td>\n",
       "      <td>...</td>\n",
       "      <td>...</td>\n",
       "    </tr>\n",
       "    <tr>\n",
       "      <th>91</th>\n",
       "      <td>Sample 96</td>\n",
       "      <td>26.08</td>\n",
       "      <td>3.54</td>\n",
       "      <td>0.68</td>\n",
       "      <td>0.05</td>\n",
       "      <td>29.46</td>\n",
       "      <td>9.27</td>\n",
       "      <td>142.70</td>\n",
       "      <td>18.61</td>\n",
       "      <td>2.49</td>\n",
       "      <td>...</td>\n",
       "      <td>3.84</td>\n",
       "      <td>NaN</td>\n",
       "      <td>NaN</td>\n",
       "      <td>20.30</td>\n",
       "      <td>117.00</td>\n",
       "      <td>0.8</td>\n",
       "      <td>0.44</td>\n",
       "      <td>130.0</td>\n",
       "      <td>80.0</td>\n",
       "      <td>5.50</td>\n",
       "    </tr>\n",
       "    <tr>\n",
       "      <th>92</th>\n",
       "      <td>Sample 97</td>\n",
       "      <td>17.72</td>\n",
       "      <td>2.28</td>\n",
       "      <td>0.64</td>\n",
       "      <td>0.01</td>\n",
       "      <td>19.22</td>\n",
       "      <td>7.37</td>\n",
       "      <td>102.24</td>\n",
       "      <td>13.22</td>\n",
       "      <td>1.61</td>\n",
       "      <td>...</td>\n",
       "      <td>0.63</td>\n",
       "      <td>NaN</td>\n",
       "      <td>NaN</td>\n",
       "      <td>9.73</td>\n",
       "      <td>208.00</td>\n",
       "      <td>5.0</td>\n",
       "      <td>0.36</td>\n",
       "      <td>NaN</td>\n",
       "      <td>NaN</td>\n",
       "      <td>NaN</td>\n",
       "    </tr>\n",
       "    <tr>\n",
       "      <th>93</th>\n",
       "      <td>Sample 98</td>\n",
       "      <td>17.70</td>\n",
       "      <td>2.23</td>\n",
       "      <td>0.59</td>\n",
       "      <td>0.01</td>\n",
       "      <td>18.47</td>\n",
       "      <td>5.80</td>\n",
       "      <td>103.94</td>\n",
       "      <td>13.67</td>\n",
       "      <td>1.65</td>\n",
       "      <td>...</td>\n",
       "      <td>1.36</td>\n",
       "      <td>NaN</td>\n",
       "      <td>NaN</td>\n",
       "      <td>9.03</td>\n",
       "      <td>56.00</td>\n",
       "      <td>2.7</td>\n",
       "      <td>0.39</td>\n",
       "      <td>NaN</td>\n",
       "      <td>NaN</td>\n",
       "      <td>NaN</td>\n",
       "    </tr>\n",
       "    <tr>\n",
       "      <th>94</th>\n",
       "      <td>Sample 99</td>\n",
       "      <td>26.57</td>\n",
       "      <td>3.33</td>\n",
       "      <td>0.71</td>\n",
       "      <td>0.07</td>\n",
       "      <td>27.69</td>\n",
       "      <td>8.31</td>\n",
       "      <td>137.81</td>\n",
       "      <td>20.68</td>\n",
       "      <td>2.99</td>\n",
       "      <td>...</td>\n",
       "      <td>0.71</td>\n",
       "      <td>NaN</td>\n",
       "      <td>NaN</td>\n",
       "      <td>NaN</td>\n",
       "      <td>1.49</td>\n",
       "      <td>4.6</td>\n",
       "      <td>0.76</td>\n",
       "      <td>NaN</td>\n",
       "      <td>NaN</td>\n",
       "      <td>0.08</td>\n",
       "    </tr>\n",
       "    <tr>\n",
       "      <th>95</th>\n",
       "      <td>Sample 100</td>\n",
       "      <td>25.26</td>\n",
       "      <td>3.40</td>\n",
       "      <td>0.64</td>\n",
       "      <td>0.05</td>\n",
       "      <td>27.47</td>\n",
       "      <td>8.72</td>\n",
       "      <td>138.50</td>\n",
       "      <td>19.72</td>\n",
       "      <td>2.54</td>\n",
       "      <td>...</td>\n",
       "      <td>3.34</td>\n",
       "      <td>NaN</td>\n",
       "      <td>NaN</td>\n",
       "      <td>11.50</td>\n",
       "      <td>93.00</td>\n",
       "      <td>4.7</td>\n",
       "      <td>0.35</td>\n",
       "      <td>NaN</td>\n",
       "      <td>NaN</td>\n",
       "      <td>19.50</td>\n",
       "    </tr>\n",
       "  </tbody>\n",
       "</table>\n",
       "<p>96 rows × 69 columns</p>\n",
       "</div>"
      ],
      "text/plain": [
       "     Sample ID  Peptide 1  Peptide 2  Peptide 3  Peptide 4  Peptide 5  \\\n",
       "0     sample 2      33.58       7.18       9.35       3.57      94.44   \n",
       "1     sample 3      37.57       8.70      10.79       3.36      94.11   \n",
       "2     sample 4      27.31       5.42       5.64       2.75      67.01   \n",
       "3     sample 5      29.09       5.81       4.69       3.61      65.99   \n",
       "4     sample 6      41.13       8.40       8.85       3.56     109.13   \n",
       "..         ...        ...        ...        ...        ...        ...   \n",
       "91   Sample 96      26.08       3.54       0.68       0.05      29.46   \n",
       "92   Sample 97      17.72       2.28       0.64       0.01      19.22   \n",
       "93   Sample 98      17.70       2.23       0.59       0.01      18.47   \n",
       "94   Sample 99      26.57       3.33       0.71       0.07      27.69   \n",
       "95  Sample 100      25.26       3.40       0.64       0.05      27.47   \n",
       "\n",
       "    Peptide 6  Peptide 7  Peptide 8  Peptide 9  ...  TSH (mU/l)  fT3 (pmol/l)  \\\n",
       "0       14.91     153.05      35.52       9.76  ...        0.72          5.23   \n",
       "1       15.99     198.88      39.65       8.62  ...        0.97           NaN   \n",
       "2       11.91     148.32      28.90       5.64  ...        1.02          5.01   \n",
       "3       12.42     154.55      26.48       6.38  ...        1.00          4.61   \n",
       "4       17.60     209.62      44.35      10.43  ...        1.30          5.43   \n",
       "..        ...        ...        ...        ...  ...         ...           ...   \n",
       "91       9.27     142.70      18.61       2.49  ...        3.84           NaN   \n",
       "92       7.37     102.24      13.22       1.61  ...        0.63           NaN   \n",
       "93       5.80     103.94      13.67       1.65  ...        1.36           NaN   \n",
       "94       8.31     137.81      20.68       2.99  ...        0.71           NaN   \n",
       "95       8.72     138.50      19.72       2.54  ...        3.34           NaN   \n",
       "\n",
       "    fT4 (pmol/l)  Cortisol (nmol/l)  Testosteron (nmol/l)  HOMA-IR  \\\n",
       "0           21.5                NaN                   NaN      7.2   \n",
       "1            NaN                NaN                   NaN      9.3   \n",
       "2           17.6                NaN                   NaN      9.1   \n",
       "3           15.7                NaN                   NaN     24.5   \n",
       "4           19.2                NaN                   NaN     11.1   \n",
       "..           ...                ...                   ...      ...   \n",
       "91           NaN              20.30                117.00      0.8   \n",
       "92           NaN               9.73                208.00      5.0   \n",
       "93           NaN               9.03                 56.00      2.7   \n",
       "94           NaN                NaN                  1.49      4.6   \n",
       "95           NaN              11.50                 93.00      4.7   \n",
       "\n",
       "    Free fatty acids (mmol/l)  RRsys (mmHg)  RR dia (mmHg)  ssCRP (mg/dl)  \n",
       "0                        0.30           NaN            NaN           0.48  \n",
       "1                        1.04           NaN            NaN           7.15  \n",
       "2                        0.37           NaN            NaN            NaN  \n",
       "3                        0.99         168.0           95.0           0.20  \n",
       "4                        0.54         165.0           84.0           0.30  \n",
       "..                        ...           ...            ...            ...  \n",
       "91                       0.44         130.0           80.0           5.50  \n",
       "92                       0.36           NaN            NaN            NaN  \n",
       "93                       0.39           NaN            NaN            NaN  \n",
       "94                       0.76           NaN            NaN           0.08  \n",
       "95                       0.35           NaN            NaN          19.50  \n",
       "\n",
       "[96 rows x 69 columns]"
      ]
     },
     "execution_count": 52,
     "metadata": {},
     "output_type": "execute_result"
    }
   ],
   "source": [
    "df2[df2.isnull().any(axis=1)] # any rows containing NaN"
   ]
  },
  {
   "cell_type": "code",
   "execution_count": 56,
   "id": "40e6f46f-3bae-4c43-925d-76763d568678",
   "metadata": {},
   "outputs": [
    {
     "data": {
      "text/html": [
       "<div>\n",
       "<style scoped>\n",
       "    .dataframe tbody tr th:only-of-type {\n",
       "        vertical-align: middle;\n",
       "    }\n",
       "\n",
       "    .dataframe tbody tr th {\n",
       "        vertical-align: top;\n",
       "    }\n",
       "\n",
       "    .dataframe thead th {\n",
       "        text-align: right;\n",
       "    }\n",
       "</style>\n",
       "<table border=\"1\" class=\"dataframe\">\n",
       "  <thead>\n",
       "    <tr style=\"text-align: right;\">\n",
       "      <th></th>\n",
       "      <th>Body fat</th>\n",
       "      <th>Fat free mass</th>\n",
       "      <th>Waist</th>\n",
       "      <th>Hip</th>\n",
       "      <th>WHR</th>\n",
       "      <th>Hemoglobin</th>\n",
       "      <th>Erythrozyten</th>\n",
       "      <th>Thrombozyten</th>\n",
       "      <th>Leukocytes</th>\n",
       "      <th>ALAT</th>\n",
       "      <th>...</th>\n",
       "      <th>Proteins total (g/l)</th>\n",
       "      <th>Albumin (g/l)</th>\n",
       "      <th>TSH (mU/l)</th>\n",
       "      <th>fT3 (pmol/l)</th>\n",
       "      <th>fT4 (pmol/l)</th>\n",
       "      <th>Cortisol (nmol/l)</th>\n",
       "      <th>Testosteron (nmol/l)</th>\n",
       "      <th>RRsys (mmHg)</th>\n",
       "      <th>RR dia (mmHg)</th>\n",
       "      <th>ssCRP (mg/dl)</th>\n",
       "    </tr>\n",
       "  </thead>\n",
       "  <tbody>\n",
       "    <tr>\n",
       "      <th>0</th>\n",
       "      <td>32.7</td>\n",
       "      <td>73.4</td>\n",
       "      <td>NaN</td>\n",
       "      <td>NaN</td>\n",
       "      <td>NaN</td>\n",
       "      <td>8.3</td>\n",
       "      <td>4.32</td>\n",
       "      <td>216.0</td>\n",
       "      <td>7.4</td>\n",
       "      <td>0.29</td>\n",
       "      <td>...</td>\n",
       "      <td>70.8</td>\n",
       "      <td>NaN</td>\n",
       "      <td>0.72</td>\n",
       "      <td>5.23</td>\n",
       "      <td>21.5</td>\n",
       "      <td>NaN</td>\n",
       "      <td>NaN</td>\n",
       "      <td>NaN</td>\n",
       "      <td>NaN</td>\n",
       "      <td>0.48</td>\n",
       "    </tr>\n",
       "    <tr>\n",
       "      <th>1</th>\n",
       "      <td>33.9</td>\n",
       "      <td>NaN</td>\n",
       "      <td>NaN</td>\n",
       "      <td>NaN</td>\n",
       "      <td>NaN</td>\n",
       "      <td>8.9</td>\n",
       "      <td>5.44</td>\n",
       "      <td>180.0</td>\n",
       "      <td>5.9</td>\n",
       "      <td>1.40</td>\n",
       "      <td>...</td>\n",
       "      <td>NaN</td>\n",
       "      <td>NaN</td>\n",
       "      <td>0.97</td>\n",
       "      <td>NaN</td>\n",
       "      <td>NaN</td>\n",
       "      <td>NaN</td>\n",
       "      <td>NaN</td>\n",
       "      <td>NaN</td>\n",
       "      <td>NaN</td>\n",
       "      <td>7.15</td>\n",
       "    </tr>\n",
       "    <tr>\n",
       "      <th>2</th>\n",
       "      <td>33.8</td>\n",
       "      <td>NaN</td>\n",
       "      <td>NaN</td>\n",
       "      <td>NaN</td>\n",
       "      <td>NaN</td>\n",
       "      <td>8.9</td>\n",
       "      <td>4.68</td>\n",
       "      <td>169.0</td>\n",
       "      <td>5.4</td>\n",
       "      <td>0.55</td>\n",
       "      <td>...</td>\n",
       "      <td>66.1</td>\n",
       "      <td>NaN</td>\n",
       "      <td>1.02</td>\n",
       "      <td>5.01</td>\n",
       "      <td>17.6</td>\n",
       "      <td>NaN</td>\n",
       "      <td>NaN</td>\n",
       "      <td>NaN</td>\n",
       "      <td>NaN</td>\n",
       "      <td>NaN</td>\n",
       "    </tr>\n",
       "    <tr>\n",
       "      <th>3</th>\n",
       "      <td>NaN</td>\n",
       "      <td>NaN</td>\n",
       "      <td>NaN</td>\n",
       "      <td>NaN</td>\n",
       "      <td>NaN</td>\n",
       "      <td>8.5</td>\n",
       "      <td>4.83</td>\n",
       "      <td>237.0</td>\n",
       "      <td>6.6</td>\n",
       "      <td>0.57</td>\n",
       "      <td>...</td>\n",
       "      <td>72.1</td>\n",
       "      <td>NaN</td>\n",
       "      <td>1.00</td>\n",
       "      <td>4.61</td>\n",
       "      <td>15.7</td>\n",
       "      <td>NaN</td>\n",
       "      <td>NaN</td>\n",
       "      <td>168.0</td>\n",
       "      <td>95.0</td>\n",
       "      <td>0.20</td>\n",
       "    </tr>\n",
       "    <tr>\n",
       "      <th>4</th>\n",
       "      <td>NaN</td>\n",
       "      <td>NaN</td>\n",
       "      <td>NaN</td>\n",
       "      <td>NaN</td>\n",
       "      <td>NaN</td>\n",
       "      <td>NaN</td>\n",
       "      <td>NaN</td>\n",
       "      <td>NaN</td>\n",
       "      <td>NaN</td>\n",
       "      <td>0.65</td>\n",
       "      <td>...</td>\n",
       "      <td>76.3</td>\n",
       "      <td>NaN</td>\n",
       "      <td>1.30</td>\n",
       "      <td>5.43</td>\n",
       "      <td>19.2</td>\n",
       "      <td>NaN</td>\n",
       "      <td>NaN</td>\n",
       "      <td>165.0</td>\n",
       "      <td>84.0</td>\n",
       "      <td>0.30</td>\n",
       "    </tr>\n",
       "    <tr>\n",
       "      <th>...</th>\n",
       "      <td>...</td>\n",
       "      <td>...</td>\n",
       "      <td>...</td>\n",
       "      <td>...</td>\n",
       "      <td>...</td>\n",
       "      <td>...</td>\n",
       "      <td>...</td>\n",
       "      <td>...</td>\n",
       "      <td>...</td>\n",
       "      <td>...</td>\n",
       "      <td>...</td>\n",
       "      <td>...</td>\n",
       "      <td>...</td>\n",
       "      <td>...</td>\n",
       "      <td>...</td>\n",
       "      <td>...</td>\n",
       "      <td>...</td>\n",
       "      <td>...</td>\n",
       "      <td>...</td>\n",
       "      <td>...</td>\n",
       "      <td>...</td>\n",
       "    </tr>\n",
       "    <tr>\n",
       "      <th>91</th>\n",
       "      <td>28.0</td>\n",
       "      <td>73.6</td>\n",
       "      <td>NaN</td>\n",
       "      <td>NaN</td>\n",
       "      <td>NaN</td>\n",
       "      <td>10.1</td>\n",
       "      <td>5.28</td>\n",
       "      <td>170.0</td>\n",
       "      <td>8.5</td>\n",
       "      <td>0.65</td>\n",
       "      <td>...</td>\n",
       "      <td>67.9</td>\n",
       "      <td>43.6</td>\n",
       "      <td>3.84</td>\n",
       "      <td>NaN</td>\n",
       "      <td>NaN</td>\n",
       "      <td>20.30</td>\n",
       "      <td>117.00</td>\n",
       "      <td>130.0</td>\n",
       "      <td>80.0</td>\n",
       "      <td>5.50</td>\n",
       "    </tr>\n",
       "    <tr>\n",
       "      <th>92</th>\n",
       "      <td>37.9</td>\n",
       "      <td>81.2</td>\n",
       "      <td>NaN</td>\n",
       "      <td>NaN</td>\n",
       "      <td>NaN</td>\n",
       "      <td>7.4</td>\n",
       "      <td>4.18</td>\n",
       "      <td>395.0</td>\n",
       "      <td>10.1</td>\n",
       "      <td>0.30</td>\n",
       "      <td>...</td>\n",
       "      <td>NaN</td>\n",
       "      <td>NaN</td>\n",
       "      <td>0.63</td>\n",
       "      <td>NaN</td>\n",
       "      <td>NaN</td>\n",
       "      <td>9.73</td>\n",
       "      <td>208.00</td>\n",
       "      <td>NaN</td>\n",
       "      <td>NaN</td>\n",
       "      <td>NaN</td>\n",
       "    </tr>\n",
       "    <tr>\n",
       "      <th>93</th>\n",
       "      <td>36.8</td>\n",
       "      <td>79.5</td>\n",
       "      <td>NaN</td>\n",
       "      <td>NaN</td>\n",
       "      <td>NaN</td>\n",
       "      <td>9.1</td>\n",
       "      <td>4.76</td>\n",
       "      <td>172.0</td>\n",
       "      <td>7.8</td>\n",
       "      <td>0.43</td>\n",
       "      <td>...</td>\n",
       "      <td>NaN</td>\n",
       "      <td>NaN</td>\n",
       "      <td>1.36</td>\n",
       "      <td>NaN</td>\n",
       "      <td>NaN</td>\n",
       "      <td>9.03</td>\n",
       "      <td>56.00</td>\n",
       "      <td>NaN</td>\n",
       "      <td>NaN</td>\n",
       "      <td>NaN</td>\n",
       "    </tr>\n",
       "    <tr>\n",
       "      <th>94</th>\n",
       "      <td>46.9</td>\n",
       "      <td>66.7</td>\n",
       "      <td>135.0</td>\n",
       "      <td>137.0</td>\n",
       "      <td>0.99</td>\n",
       "      <td>8.3</td>\n",
       "      <td>4.84</td>\n",
       "      <td>196.0</td>\n",
       "      <td>5.9</td>\n",
       "      <td>0.43</td>\n",
       "      <td>...</td>\n",
       "      <td>NaN</td>\n",
       "      <td>NaN</td>\n",
       "      <td>0.71</td>\n",
       "      <td>NaN</td>\n",
       "      <td>NaN</td>\n",
       "      <td>NaN</td>\n",
       "      <td>1.49</td>\n",
       "      <td>NaN</td>\n",
       "      <td>NaN</td>\n",
       "      <td>0.08</td>\n",
       "    </tr>\n",
       "    <tr>\n",
       "      <th>95</th>\n",
       "      <td>30.6</td>\n",
       "      <td>90.4</td>\n",
       "      <td>NaN</td>\n",
       "      <td>NaN</td>\n",
       "      <td>NaN</td>\n",
       "      <td>8.5</td>\n",
       "      <td>4.61</td>\n",
       "      <td>219.0</td>\n",
       "      <td>3.7</td>\n",
       "      <td>1.16</td>\n",
       "      <td>...</td>\n",
       "      <td>NaN</td>\n",
       "      <td>NaN</td>\n",
       "      <td>3.34</td>\n",
       "      <td>NaN</td>\n",
       "      <td>NaN</td>\n",
       "      <td>11.50</td>\n",
       "      <td>93.00</td>\n",
       "      <td>NaN</td>\n",
       "      <td>NaN</td>\n",
       "      <td>19.50</td>\n",
       "    </tr>\n",
       "  </tbody>\n",
       "</table>\n",
       "<p>96 rows × 28 columns</p>\n",
       "</div>"
      ],
      "text/plain": [
       "    Body fat  Fat free mass  Waist    Hip   WHR  Hemoglobin  Erythrozyten  \\\n",
       "0       32.7           73.4    NaN    NaN   NaN         8.3          4.32   \n",
       "1       33.9            NaN    NaN    NaN   NaN         8.9          5.44   \n",
       "2       33.8            NaN    NaN    NaN   NaN         8.9          4.68   \n",
       "3        NaN            NaN    NaN    NaN   NaN         8.5          4.83   \n",
       "4        NaN            NaN    NaN    NaN   NaN         NaN           NaN   \n",
       "..       ...            ...    ...    ...   ...         ...           ...   \n",
       "91      28.0           73.6    NaN    NaN   NaN        10.1          5.28   \n",
       "92      37.9           81.2    NaN    NaN   NaN         7.4          4.18   \n",
       "93      36.8           79.5    NaN    NaN   NaN         9.1          4.76   \n",
       "94      46.9           66.7  135.0  137.0  0.99         8.3          4.84   \n",
       "95      30.6           90.4    NaN    NaN   NaN         8.5          4.61   \n",
       "\n",
       "    Thrombozyten  Leukocytes  ALAT  ...  Proteins total (g/l)  Albumin (g/l)  \\\n",
       "0          216.0         7.4  0.29  ...                  70.8            NaN   \n",
       "1          180.0         5.9  1.40  ...                   NaN            NaN   \n",
       "2          169.0         5.4  0.55  ...                  66.1            NaN   \n",
       "3          237.0         6.6  0.57  ...                  72.1            NaN   \n",
       "4            NaN         NaN  0.65  ...                  76.3            NaN   \n",
       "..           ...         ...   ...  ...                   ...            ...   \n",
       "91         170.0         8.5  0.65  ...                  67.9           43.6   \n",
       "92         395.0        10.1  0.30  ...                   NaN            NaN   \n",
       "93         172.0         7.8  0.43  ...                   NaN            NaN   \n",
       "94         196.0         5.9  0.43  ...                   NaN            NaN   \n",
       "95         219.0         3.7  1.16  ...                   NaN            NaN   \n",
       "\n",
       "    TSH (mU/l)  fT3 (pmol/l)  fT4 (pmol/l)  Cortisol (nmol/l)  \\\n",
       "0         0.72          5.23          21.5                NaN   \n",
       "1         0.97           NaN           NaN                NaN   \n",
       "2         1.02          5.01          17.6                NaN   \n",
       "3         1.00          4.61          15.7                NaN   \n",
       "4         1.30          5.43          19.2                NaN   \n",
       "..         ...           ...           ...                ...   \n",
       "91        3.84           NaN           NaN              20.30   \n",
       "92        0.63           NaN           NaN               9.73   \n",
       "93        1.36           NaN           NaN               9.03   \n",
       "94        0.71           NaN           NaN                NaN   \n",
       "95        3.34           NaN           NaN              11.50   \n",
       "\n",
       "    Testosteron (nmol/l)  RRsys (mmHg)  RR dia (mmHg)  ssCRP (mg/dl)  \n",
       "0                    NaN           NaN            NaN           0.48  \n",
       "1                    NaN           NaN            NaN           7.15  \n",
       "2                    NaN           NaN            NaN            NaN  \n",
       "3                    NaN         168.0           95.0           0.20  \n",
       "4                    NaN         165.0           84.0           0.30  \n",
       "..                   ...           ...            ...            ...  \n",
       "91                117.00         130.0           80.0           5.50  \n",
       "92                208.00           NaN            NaN            NaN  \n",
       "93                 56.00           NaN            NaN            NaN  \n",
       "94                  1.49           NaN            NaN           0.08  \n",
       "95                 93.00           NaN            NaN          19.50  \n",
       "\n",
       "[96 rows x 28 columns]"
      ]
     },
     "execution_count": 56,
     "metadata": {},
     "output_type": "execute_result"
    }
   ],
   "source": [
    "df2[df2.columns[df2.isnull().any(axis=0)]] # any columns containing NaN"
   ]
  },
  {
   "cell_type": "markdown",
   "id": "510c13f4-0020-4e73-9185-dd0e708613f1",
   "metadata": {},
   "source": [
    "### How many diabetic patents will be undiagnosed using HbA1c < 6.5?"
   ]
  },
  {
   "cell_type": "code",
   "execution_count": 64,
   "id": "6b4e183f-db70-460e-960e-e9698deea11b",
   "metadata": {},
   "outputs": [],
   "source": [
    "df2_undiagnosed = df2[df2['HbA1c (%)']<6.5]"
   ]
  },
  {
   "cell_type": "code",
   "execution_count": 67,
   "id": "ddd02de7-2057-48d1-9001-f926f12b285d",
   "metadata": {},
   "outputs": [
    {
     "data": {
      "text/plain": [
       "NGT    48\n",
       "T2D    23\n",
       "Name: Diagnosis, dtype: int64"
      ]
     },
     "execution_count": 67,
     "metadata": {},
     "output_type": "execute_result"
    }
   ],
   "source": [
    "df2_undiagnosed['Diagnosis'].value_counts()"
   ]
  },
  {
   "cell_type": "code",
   "execution_count": 68,
   "id": "69cb976e-84ff-4284-9014-41e6097def68",
   "metadata": {},
   "outputs": [
    {
     "data": {
      "text/plain": [
       "NGT    0.676056\n",
       "T2D    0.323944\n",
       "Name: Diagnosis, dtype: float64"
      ]
     },
     "execution_count": 68,
     "metadata": {},
     "output_type": "execute_result"
    }
   ],
   "source": [
    "df2_undiagnosed['Diagnosis'].value_counts(normalize=True)"
   ]
  },
  {
   "cell_type": "markdown",
   "id": "7de849b3-09bd-4b06-9b80-4db51f1c11fd",
   "metadata": {},
   "source": [
    "### Save the undiagnosed table as \"happy_learning.csv\""
   ]
  },
  {
   "cell_type": "markdown",
   "id": "c157d495-6aa8-4d4b-8589-7d409c8a1f06",
   "metadata": {},
   "source": [
    "# Data visualization using Seaborn and many other libraries"
   ]
  },
  {
   "cell_type": "markdown",
   "id": "250247f7-65ee-4bf6-9072-a764fbcd4113",
   "metadata": {},
   "source": [
    "- scatter plot\n",
    "- barplot\n",
    "- boxplot\n",
    "- violin plot\n",
    "- beeswarm plot"
   ]
  },
  {
   "cell_type": "markdown",
   "id": "5e944afe-d1bb-43a9-9039-f6b1602151ba",
   "metadata": {},
   "source": [
    "## Scatter plots"
   ]
  },
  {
   "cell_type": "code",
   "execution_count": 69,
   "id": "96a8f77f-a1c0-4673-a195-805f6a73ae5f",
   "metadata": {},
   "outputs": [],
   "source": [
    "import seaborn as sns"
   ]
  },
  {
   "cell_type": "code",
   "execution_count": 71,
   "id": "90b45e53-25e2-4383-89f3-6a433d53303f",
   "metadata": {},
   "outputs": [
    {
     "data": {
      "text/plain": [
       "Index(['SampleID', 'Peptide_27', 'Fasting_plasma_glucose_(mmol/l)', 'HbA1c',\n",
       "       'Fasting_plasma_insulin_(pmol/l)', 'C-Peptide_(nmol/l)', 'HOMA-IR',\n",
       "       'Free_fatty_acids_(mmol/l)', 'Class'],\n",
       "      dtype='object')"
      ]
     },
     "execution_count": 71,
     "metadata": {},
     "output_type": "execute_result"
    }
   ],
   "source": [
    "df.columns"
   ]
  },
  {
   "cell_type": "code",
   "execution_count": 72,
   "id": "2784749b-2564-432f-acf3-28d160fe96a6",
   "metadata": {},
   "outputs": [
    {
     "data": {
      "text/plain": [
       "<AxesSubplot:xlabel='HbA1c', ylabel='Peptide_27'>"
      ]
     },
     "execution_count": 72,
     "metadata": {},
     "output_type": "execute_result"
    },
    {
     "data": {
      "image/png": "[encoded data removed]",
      "text/plain": [
       "<Figure size 432x288 with 1 Axes>"
      ]
     },
     "metadata": {
      "needs_background": "light"
     },
     "output_type": "display_data"
    }
   ],
   "source": [
    "sns.scatterplot(data = df,x=\"HbA1c\",y=\"Peptide_27\")"
   ]
  },
  {
   "cell_type": "code",
   "execution_count": 73,
   "id": "489450b6-7620-4a52-8caa-99c2e4cf5d19",
   "metadata": {},
   "outputs": [
    {
     "data": {
      "text/plain": [
       "<AxesSubplot:xlabel='HbA1c', ylabel='Peptide_27'>"
      ]
     },
     "execution_count": 73,
     "metadata": {},
     "output_type": "execute_result"
    },
    {
     "data": {
      "image/png": "[encoded data removed]",
      "text/plain": [
       "<Figure size 432x288 with 1 Axes>"
      ]
     },
     "metadata": {
      "needs_background": "light"
     },
     "output_type": "display_data"
    }
   ],
   "source": [
    "sns.scatterplot(data = df,x=\"HbA1c\",y=\"Peptide_27\",hue=\"Class\")"
   ]
  },
  {
   "cell_type": "code",
   "execution_count": 74,
   "id": "a15f190d-60ce-445a-a23f-1f11767ac8ae",
   "metadata": {},
   "outputs": [],
   "source": [
    "import matplotlib.pylab as plt"
   ]
  },
  {
   "cell_type": "code",
   "execution_count": 76,
   "id": "d1385755-f2a0-4f95-9c84-38814ab8dfce",
   "metadata": {},
   "outputs": [
    {
     "data": {
      "text/plain": [
       "<matplotlib.lines.Line2D at 0x2aad6a85d6d0>"
      ]
     },
     "execution_count": 76,
     "metadata": {},
     "output_type": "execute_result"
    },
    {
     "data": {
      "image/png": "[encoded data removed]",
      "text/plain": [
       "<Figure size 432x288 with 1 Axes>"
      ]
     },
     "metadata": {
      "needs_background": "light"
     },
     "output_type": "display_data"
    }
   ],
   "source": [
    "sns.scatterplot(data = df,x=\"HbA1c\",y=\"Peptide_27\",hue=\"Class\")\n",
    "plt.axhline(40,color=\"black\")"
   ]
  },
  {
   "cell_type": "code",
   "execution_count": 78,
   "id": "cc0be4ad-9fc4-43c3-89d4-62f30560e125",
   "metadata": {},
   "outputs": [
    {
     "data": {
      "text/plain": [
       "<matplotlib.lines.Line2D at 0x2aad6aa23130>"
      ]
     },
     "execution_count": 78,
     "metadata": {},
     "output_type": "execute_result"
    },
    {
     "data": {
      "image/png": "[encoded data removed]",
      "text/plain": [
       "<Figure size 432x288 with 1 Axes>"
      ]
     },
     "metadata": {
      "needs_background": "light"
     },
     "output_type": "display_data"
    }
   ],
   "source": [
    "sns.scatterplot(data = df,x=\"HbA1c\",y=\"Peptide_27\",hue=\"Class\")\n",
    "plt.axhline(40,color=\"black\")\n",
    "plt.axvline(6,color=\"grey\")"
   ]
  },
  {
   "cell_type": "code",
   "execution_count": 124,
   "id": "6123fd53-df45-4837-8be3-3d6d1ecfbc30",
   "metadata": {},
   "outputs": [],
   "source": [
    "import plotly.express as px\n",
    "import plotly.io as pio\n",
    "pio.renderers.default = \"iframe\""
   ]
  },
  {
   "cell_type": "code",
   "execution_count": 140,
   "id": "3dcbc616-94a8-4afa-9d5e-702e80c22790",
   "metadata": {
    "tags": []
   },
   "outputs": [
    {
     "data": {
      "text/html": [
       "<div>\n",
       "<style scoped>\n",
       "    .dataframe tbody tr th:only-of-type {\n",
       "        vertical-align: middle;\n",
       "    }\n",
       "\n",
       "    .dataframe tbody tr th {\n",
       "        vertical-align: top;\n",
       "    }\n",
       "\n",
       "    .dataframe thead th {\n",
       "        text-align: right;\n",
       "    }\n",
       "</style>\n",
       "<table border=\"1\" class=\"dataframe\">\n",
       "  <thead>\n",
       "    <tr style=\"text-align: right;\">\n",
       "      <th></th>\n",
       "      <th>SampleID</th>\n",
       "      <th>Peptide_27</th>\n",
       "      <th>Fasting_plasma_glucose_(mmol/l)</th>\n",
       "      <th>HbA1c</th>\n",
       "      <th>Fasting_plasma_insulin_(pmol/l)</th>\n",
       "      <th>C-Peptide_(nmol/l)</th>\n",
       "      <th>HOMA-IR</th>\n",
       "      <th>Free_fatty_acids_(mmol/l)</th>\n",
       "      <th>Class</th>\n",
       "    </tr>\n",
       "  </thead>\n",
       "  <tbody>\n",
       "    <tr>\n",
       "      <th>0</th>\n",
       "      <td>3</td>\n",
       "      <td>10.42</td>\n",
       "      <td>4.73</td>\n",
       "      <td>6.5</td>\n",
       "      <td>121.4</td>\n",
       "      <td>1.63</td>\n",
       "      <td>3.7</td>\n",
       "      <td>1.03</td>\n",
       "      <td>1</td>\n",
       "    </tr>\n",
       "    <tr>\n",
       "      <th>1</th>\n",
       "      <td>5</td>\n",
       "      <td>102.86</td>\n",
       "      <td>7.16</td>\n",
       "      <td>7.6</td>\n",
       "      <td>226.0</td>\n",
       "      <td>1.11</td>\n",
       "      <td>10.4</td>\n",
       "      <td>0.98</td>\n",
       "      <td>1</td>\n",
       "    </tr>\n",
       "    <tr>\n",
       "      <th>2</th>\n",
       "      <td>6</td>\n",
       "      <td>9.84</td>\n",
       "      <td>5.06</td>\n",
       "      <td>4.9</td>\n",
       "      <td>39.7</td>\n",
       "      <td>0.75</td>\n",
       "      <td>1.3</td>\n",
       "      <td>0.35</td>\n",
       "      <td>0</td>\n",
       "    </tr>\n",
       "    <tr>\n",
       "      <th>3</th>\n",
       "      <td>7</td>\n",
       "      <td>41.03</td>\n",
       "      <td>5.35</td>\n",
       "      <td>6.3</td>\n",
       "      <td>203.3</td>\n",
       "      <td>2.02</td>\n",
       "      <td>7.0</td>\n",
       "      <td>1.17</td>\n",
       "      <td>1</td>\n",
       "    </tr>\n",
       "    <tr>\n",
       "      <th>4</th>\n",
       "      <td>8</td>\n",
       "      <td>12.30</td>\n",
       "      <td>5.37</td>\n",
       "      <td>5.6</td>\n",
       "      <td>50.8</td>\n",
       "      <td>1.19</td>\n",
       "      <td>1.7</td>\n",
       "      <td>0.32</td>\n",
       "      <td>0</td>\n",
       "    </tr>\n",
       "  </tbody>\n",
       "</table>\n",
       "</div>"
      ],
      "text/plain": [
       "   SampleID  Peptide_27  Fasting_plasma_glucose_(mmol/l)  HbA1c  \\\n",
       "0         3       10.42                             4.73    6.5   \n",
       "1         5      102.86                             7.16    7.6   \n",
       "2         6        9.84                             5.06    4.9   \n",
       "3         7       41.03                             5.35    6.3   \n",
       "4         8       12.30                             5.37    5.6   \n",
       "\n",
       "   Fasting_plasma_insulin_(pmol/l)  C-Peptide_(nmol/l)  HOMA-IR  \\\n",
       "0                            121.4                1.63      3.7   \n",
       "1                            226.0                1.11     10.4   \n",
       "2                             39.7                0.75      1.3   \n",
       "3                            203.3                2.02      7.0   \n",
       "4                             50.8                1.19      1.7   \n",
       "\n",
       "   Free_fatty_acids_(mmol/l)  Class  \n",
       "0                       1.03      1  \n",
       "1                       0.98      1  \n",
       "2                       0.35      0  \n",
       "3                       1.17      1  \n",
       "4                       0.32      0  "
      ]
     },
     "execution_count": 140,
     "metadata": {},
     "output_type": "execute_result"
    }
   ],
   "source": [
    "df.head()"
   ]
  },
  {
   "cell_type": "markdown",
   "id": "5edad9a7-0ad9-4dfd-a9dc-42ae415c1c8c",
   "metadata": {},
   "source": [
    "### interactive scatter plot"
   ]
  },
  {
   "cell_type": "code",
   "execution_count": 142,
   "id": "3ecad9c5-9dc9-48ac-a9af-d033481b6ff2",
   "metadata": {
    "tags": []
   },
   "outputs": [
    {
     "data": {
      "text/html": [
       "<iframe\n",
       "    scrolling=\"no\"\n",
       "    width=\"100%\"\n",
       "    height=\"545px\"\n",
       "    src=\"iframe_figures/figure_142.html\"\n",
       "    frameborder=\"0\"\n",
       "    allowfullscreen\n",
       "></iframe>\n"
      ]
     },
     "metadata": {},
     "output_type": "display_data"
    }
   ],
   "source": [
    "px.scatter(data_frame = df,x=\"HbA1c\",y=\"Peptide_27\",color=\"Class\",hover_data=[\"SampleID\"])\n"
   ]
  },
  {
   "cell_type": "code",
   "execution_count": 79,
   "id": "28fe0c77-d151-49e7-8c1d-9e311bf60075",
   "metadata": {},
   "outputs": [
    {
     "data": {
      "text/html": [
       "<div>\n",
       "<style scoped>\n",
       "    .dataframe tbody tr th:only-of-type {\n",
       "        vertical-align: middle;\n",
       "    }\n",
       "\n",
       "    .dataframe tbody tr th {\n",
       "        vertical-align: top;\n",
       "    }\n",
       "\n",
       "    .dataframe thead th {\n",
       "        text-align: right;\n",
       "    }\n",
       "</style>\n",
       "<table border=\"1\" class=\"dataframe\">\n",
       "  <thead>\n",
       "    <tr style=\"text-align: right;\">\n",
       "      <th></th>\n",
       "      <th>SampleID</th>\n",
       "      <th>Peptide_27</th>\n",
       "      <th>Fasting_plasma_glucose_(mmol/l)</th>\n",
       "      <th>HbA1c</th>\n",
       "      <th>Fasting_plasma_insulin_(pmol/l)</th>\n",
       "      <th>C-Peptide_(nmol/l)</th>\n",
       "      <th>HOMA-IR</th>\n",
       "      <th>Free_fatty_acids_(mmol/l)</th>\n",
       "      <th>Class</th>\n",
       "    </tr>\n",
       "  </thead>\n",
       "  <tbody>\n",
       "    <tr>\n",
       "      <th>count</th>\n",
       "      <td>96.000000</td>\n",
       "      <td>96.000000</td>\n",
       "      <td>96.000000</td>\n",
       "      <td>96.000000</td>\n",
       "      <td>96.000000</td>\n",
       "      <td>96.000000</td>\n",
       "      <td>96.000000</td>\n",
       "      <td>96.000000</td>\n",
       "      <td>96.000000</td>\n",
       "    </tr>\n",
       "    <tr>\n",
       "      <th>mean</th>\n",
       "      <td>51.541667</td>\n",
       "      <td>33.570208</td>\n",
       "      <td>6.711146</td>\n",
       "      <td>6.248958</td>\n",
       "      <td>155.566667</td>\n",
       "      <td>1.488632</td>\n",
       "      <td>7.240625</td>\n",
       "      <td>0.630937</td>\n",
       "      <td>0.500000</td>\n",
       "    </tr>\n",
       "    <tr>\n",
       "      <th>std</th>\n",
       "      <td>27.961596</td>\n",
       "      <td>23.398125</td>\n",
       "      <td>2.734147</td>\n",
       "      <td>1.455515</td>\n",
       "      <td>141.817693</td>\n",
       "      <td>0.778423</td>\n",
       "      <td>7.617384</td>\n",
       "      <td>0.343940</td>\n",
       "      <td>0.502625</td>\n",
       "    </tr>\n",
       "    <tr>\n",
       "      <th>min</th>\n",
       "      <td>3.000000</td>\n",
       "      <td>2.630000</td>\n",
       "      <td>3.800000</td>\n",
       "      <td>4.300000</td>\n",
       "      <td>15.000000</td>\n",
       "      <td>0.310000</td>\n",
       "      <td>0.500000</td>\n",
       "      <td>0.150000</td>\n",
       "      <td>0.000000</td>\n",
       "    </tr>\n",
       "    <tr>\n",
       "      <th>25%</th>\n",
       "      <td>27.750000</td>\n",
       "      <td>15.597500</td>\n",
       "      <td>5.037500</td>\n",
       "      <td>5.300000</td>\n",
       "      <td>64.550000</td>\n",
       "      <td>0.935000</td>\n",
       "      <td>2.200000</td>\n",
       "      <td>0.340000</td>\n",
       "      <td>0.000000</td>\n",
       "    </tr>\n",
       "    <tr>\n",
       "      <th>50%</th>\n",
       "      <td>51.500000</td>\n",
       "      <td>27.280000</td>\n",
       "      <td>5.670000</td>\n",
       "      <td>5.750000</td>\n",
       "      <td>112.600000</td>\n",
       "      <td>1.235000</td>\n",
       "      <td>4.100000</td>\n",
       "      <td>0.550000</td>\n",
       "      <td>0.500000</td>\n",
       "    </tr>\n",
       "    <tr>\n",
       "      <th>75%</th>\n",
       "      <td>75.250000</td>\n",
       "      <td>46.885000</td>\n",
       "      <td>7.352500</td>\n",
       "      <td>6.625000</td>\n",
       "      <td>199.775000</td>\n",
       "      <td>1.845000</td>\n",
       "      <td>10.125000</td>\n",
       "      <td>0.940000</td>\n",
       "      <td>1.000000</td>\n",
       "    </tr>\n",
       "    <tr>\n",
       "      <th>max</th>\n",
       "      <td>100.000000</td>\n",
       "      <td>114.610000</td>\n",
       "      <td>18.740000</td>\n",
       "      <td>10.900000</td>\n",
       "      <td>783.000000</td>\n",
       "      <td>4.180000</td>\n",
       "      <td>45.300000</td>\n",
       "      <td>1.350000</td>\n",
       "      <td>1.000000</td>\n",
       "    </tr>\n",
       "  </tbody>\n",
       "</table>\n",
       "</div>"
      ],
      "text/plain": [
       "         SampleID  Peptide_27  Fasting_plasma_glucose_(mmol/l)      HbA1c  \\\n",
       "count   96.000000   96.000000                        96.000000  96.000000   \n",
       "mean    51.541667   33.570208                         6.711146   6.248958   \n",
       "std     27.961596   23.398125                         2.734147   1.455515   \n",
       "min      3.000000    2.630000                         3.800000   4.300000   \n",
       "25%     27.750000   15.597500                         5.037500   5.300000   \n",
       "50%     51.500000   27.280000                         5.670000   5.750000   \n",
       "75%     75.250000   46.885000                         7.352500   6.625000   \n",
       "max    100.000000  114.610000                        18.740000  10.900000   \n",
       "\n",
       "       Fasting_plasma_insulin_(pmol/l)  C-Peptide_(nmol/l)    HOMA-IR  \\\n",
       "count                        96.000000           96.000000  96.000000   \n",
       "mean                        155.566667            1.488632   7.240625   \n",
       "std                         141.817693            0.778423   7.617384   \n",
       "min                          15.000000            0.310000   0.500000   \n",
       "25%                          64.550000            0.935000   2.200000   \n",
       "50%                         112.600000            1.235000   4.100000   \n",
       "75%                         199.775000            1.845000  10.125000   \n",
       "max                         783.000000            4.180000  45.300000   \n",
       "\n",
       "       Free_fatty_acids_(mmol/l)      Class  \n",
       "count                  96.000000  96.000000  \n",
       "mean                    0.630937   0.500000  \n",
       "std                     0.343940   0.502625  \n",
       "min                     0.150000   0.000000  \n",
       "25%                     0.340000   0.000000  \n",
       "50%                     0.550000   0.500000  \n",
       "75%                     0.940000   1.000000  \n",
       "max                     1.350000   1.000000  "
      ]
     },
     "execution_count": 79,
     "metadata": {},
     "output_type": "execute_result"
    }
   ],
   "source": [
    "df.describe()"
   ]
  },
  {
   "cell_type": "markdown",
   "id": "0c49c46b-24b0-4351-b3de-9b2929d90733",
   "metadata": {},
   "source": [
    "## barplot"
   ]
  },
  {
   "cell_type": "code",
   "execution_count": 83,
   "id": "92a28fe9-803f-40e0-a196-dc200718f973",
   "metadata": {},
   "outputs": [
    {
     "data": {
      "text/plain": [
       "<AxesSubplot:xlabel='variable', ylabel='value'>"
      ]
     },
     "execution_count": 83,
     "metadata": {},
     "output_type": "execute_result"
    },
    {
     "data": {
      "image/png": "[encoded data removed]",
      "text/plain": [
       "<Figure size 432x288 with 1 Axes>"
      ]
     },
     "metadata": {
      "needs_background": "light"
     },
     "output_type": "display_data"
    }
   ],
   "source": [
    "plot_df = df.melt(id_vars=['Class'],value_vars = ['Fasting_plasma_glucose_(mmol/l)','HbA1c'])\n",
    "sns.barplot(data=plot_df,x=\"variable\",y=\"value\",hue=\"Class\")"
   ]
  },
  {
   "cell_type": "code",
   "execution_count": 166,
   "id": "2a81f0e7-8096-4428-b3b2-425f3c21a15b",
   "metadata": {},
   "outputs": [
    {
     "data": {
      "text/html": [
       "<div>\n",
       "<style scoped>\n",
       "    .dataframe tbody tr th:only-of-type {\n",
       "        vertical-align: middle;\n",
       "    }\n",
       "\n",
       "    .dataframe tbody tr th {\n",
       "        vertical-align: top;\n",
       "    }\n",
       "\n",
       "    .dataframe thead th {\n",
       "        text-align: right;\n",
       "    }\n",
       "</style>\n",
       "<table border=\"1\" class=\"dataframe\">\n",
       "  <thead>\n",
       "    <tr style=\"text-align: right;\">\n",
       "      <th></th>\n",
       "      <th>SampleID</th>\n",
       "      <th>Peptide_27</th>\n",
       "      <th>Fasting_plasma_glucose_(mmol/l)</th>\n",
       "      <th>HbA1c</th>\n",
       "      <th>Fasting_plasma_insulin_(pmol/l)</th>\n",
       "      <th>C-Peptide_(nmol/l)</th>\n",
       "      <th>HOMA-IR</th>\n",
       "      <th>Free_fatty_acids_(mmol/l)</th>\n",
       "      <th>Class</th>\n",
       "    </tr>\n",
       "  </thead>\n",
       "  <tbody>\n",
       "    <tr>\n",
       "      <th>0</th>\n",
       "      <td>0.03</td>\n",
       "      <td>0.090917</td>\n",
       "      <td>0.252401</td>\n",
       "      <td>0.596330</td>\n",
       "      <td>0.155045</td>\n",
       "      <td>0.389952</td>\n",
       "      <td>0.081678</td>\n",
       "      <td>0.762963</td>\n",
       "      <td>1.0</td>\n",
       "    </tr>\n",
       "    <tr>\n",
       "      <th>1</th>\n",
       "      <td>0.05</td>\n",
       "      <td>0.897478</td>\n",
       "      <td>0.382070</td>\n",
       "      <td>0.697248</td>\n",
       "      <td>0.288633</td>\n",
       "      <td>0.265550</td>\n",
       "      <td>0.229581</td>\n",
       "      <td>0.725926</td>\n",
       "      <td>1.0</td>\n",
       "    </tr>\n",
       "    <tr>\n",
       "      <th>2</th>\n",
       "      <td>0.06</td>\n",
       "      <td>0.085856</td>\n",
       "      <td>0.270011</td>\n",
       "      <td>0.449541</td>\n",
       "      <td>0.050702</td>\n",
       "      <td>0.179426</td>\n",
       "      <td>0.028698</td>\n",
       "      <td>0.259259</td>\n",
       "      <td>0.0</td>\n",
       "    </tr>\n",
       "    <tr>\n",
       "      <th>3</th>\n",
       "      <td>0.07</td>\n",
       "      <td>0.357997</td>\n",
       "      <td>0.285486</td>\n",
       "      <td>0.577982</td>\n",
       "      <td>0.259642</td>\n",
       "      <td>0.483254</td>\n",
       "      <td>0.154525</td>\n",
       "      <td>0.866667</td>\n",
       "      <td>1.0</td>\n",
       "    </tr>\n",
       "    <tr>\n",
       "      <th>4</th>\n",
       "      <td>0.08</td>\n",
       "      <td>0.107320</td>\n",
       "      <td>0.286553</td>\n",
       "      <td>0.513761</td>\n",
       "      <td>0.064879</td>\n",
       "      <td>0.284689</td>\n",
       "      <td>0.037528</td>\n",
       "      <td>0.237037</td>\n",
       "      <td>0.0</td>\n",
       "    </tr>\n",
       "  </tbody>\n",
       "</table>\n",
       "</div>"
      ],
      "text/plain": [
       "   SampleID  Peptide_27  Fasting_plasma_glucose_(mmol/l)     HbA1c  \\\n",
       "0      0.03    0.090917                         0.252401  0.596330   \n",
       "1      0.05    0.897478                         0.382070  0.697248   \n",
       "2      0.06    0.085856                         0.270011  0.449541   \n",
       "3      0.07    0.357997                         0.285486  0.577982   \n",
       "4      0.08    0.107320                         0.286553  0.513761   \n",
       "\n",
       "   Fasting_plasma_insulin_(pmol/l)  C-Peptide_(nmol/l)   HOMA-IR  \\\n",
       "0                         0.155045            0.389952  0.081678   \n",
       "1                         0.288633            0.265550  0.229581   \n",
       "2                         0.050702            0.179426  0.028698   \n",
       "3                         0.259642            0.483254  0.154525   \n",
       "4                         0.064879            0.284689  0.037528   \n",
       "\n",
       "   Free_fatty_acids_(mmol/l)  Class  \n",
       "0                   0.762963    1.0  \n",
       "1                   0.725926    1.0  \n",
       "2                   0.259259    0.0  \n",
       "3                   0.866667    1.0  \n",
       "4                   0.237037    0.0  "
      ]
     },
     "execution_count": 166,
     "metadata": {},
     "output_type": "execute_result"
    }
   ],
   "source": [
    "df_norm = df/df.max(axis=0)\n",
    "df_norm.head()"
   ]
  },
  {
   "cell_type": "code",
   "execution_count": 175,
   "id": "d284643b-36c2-4a36-b353-7792f735d94a",
   "metadata": {},
   "outputs": [
    {
     "data": {
      "text/plain": [
       "<AxesSubplot:xlabel='value', ylabel='variable'>"
      ]
     },
     "execution_count": 175,
     "metadata": {},
     "output_type": "execute_result"
    },
    {
     "data": {
      "image/png": "[encoded data removed]",
      "text/plain": [
       "<Figure size 432x288 with 1 Axes>"
      ]
     },
     "metadata": {
      "needs_background": "light"
     },
     "output_type": "display_data"
    }
   ],
   "source": [
    "plot_df = df_norm.melt(id_vars=['Class'],value_vars =list(set(df_norm.columns)-set(['Class','SampleID'])) )\n",
    "sns.barplot(data=plot_df,y=\"variable\",x=\"value\",hue=\"Class\")"
   ]
  },
  {
   "cell_type": "markdown",
   "id": "4e54a0ff-416d-401f-b906-0ea03cad80ba",
   "metadata": {},
   "source": [
    "## boxplot"
   ]
  },
  {
   "cell_type": "code",
   "execution_count": 84,
   "id": "493a7e70-608e-4617-94ae-c0ae5ebc3da6",
   "metadata": {},
   "outputs": [
    {
     "data": {
      "text/plain": [
       "<AxesSubplot:xlabel='variable', ylabel='value'>"
      ]
     },
     "execution_count": 84,
     "metadata": {},
     "output_type": "execute_result"
    },
    {
     "data": {
      "image/png": "[encoded data removed]",
      "text/plain": [
       "<Figure size 432x288 with 1 Axes>"
      ]
     },
     "metadata": {
      "needs_background": "light"
     },
     "output_type": "display_data"
    }
   ],
   "source": [
    "sns.boxplot(data=plot_df,x=\"variable\",y=\"value\",hue=\"Class\")"
   ]
  },
  {
   "cell_type": "markdown",
   "id": "47b39415-811c-4658-b1a6-156e09cf5c88",
   "metadata": {},
   "source": [
    "## Violinplot"
   ]
  },
  {
   "cell_type": "code",
   "execution_count": 86,
   "id": "c843d671-0928-444b-8f03-e013eb47f3ea",
   "metadata": {},
   "outputs": [
    {
     "data": {
      "text/plain": [
       "<AxesSubplot:xlabel='variable', ylabel='value'>"
      ]
     },
     "execution_count": 86,
     "metadata": {},
     "output_type": "execute_result"
    },
    {
     "data": {
      "image/png": "[encoded data removed]",
      "text/plain": [
       "<Figure size 432x288 with 1 Axes>"
      ]
     },
     "metadata": {
      "needs_background": "light"
     },
     "output_type": "display_data"
    }
   ],
   "source": [
    "sns.violinplot(data=plot_df,x=\"variable\",y=\"value\",hue=\"Class\")"
   ]
  },
  {
   "cell_type": "markdown",
   "id": "e667f513-8b82-4a93-a69d-cbbaac67b022",
   "metadata": {},
   "source": [
    "## beeswarm plot"
   ]
  },
  {
   "cell_type": "code",
   "execution_count": 89,
   "id": "33c8c2ef-dfa6-4ca0-bf9e-4b900b1f2e8b",
   "metadata": {},
   "outputs": [
    {
     "data": {
      "text/plain": [
       "<AxesSubplot:xlabel='variable', ylabel='value'>"
      ]
     },
     "execution_count": 89,
     "metadata": {},
     "output_type": "execute_result"
    },
    {
     "data": {
      "image/png": "[encoded data removed]",
      "text/plain": [
       "<Figure size 432x288 with 1 Axes>"
      ]
     },
     "metadata": {
      "needs_background": "light"
     },
     "output_type": "display_data"
    }
   ],
   "source": [
    "sns.swarmplot(data=plot_df,x=\"variable\",y=\"value\",hue=\"Class\")"
   ]
  },
  {
   "cell_type": "code",
   "execution_count": 100,
   "id": "98818a52-8d28-4d2a-981c-4191569cf042",
   "metadata": {},
   "outputs": [
    {
     "data": {
      "text/plain": [
       "<AxesSubplot:xlabel='variable', ylabel='value'>"
      ]
     },
     "execution_count": 100,
     "metadata": {},
     "output_type": "execute_result"
    },
    {
     "data": {
      "image/png": "[encoded data removed]",
      "text/plain": [
       "<Figure size 432x288 with 1 Axes>"
      ]
     },
     "metadata": {
      "needs_background": "light"
     },
     "output_type": "display_data"
    }
   ],
   "source": [
    "sns.violinplot(data=plot_df,x=\"variable\",y=\"value\",hue=\"Class\",inner=None)\n",
    "sns.swarmplot(data=plot_df,x=\"variable\",y=\"value\",hue=\"Class\",dodge=True,color=\"black\",s=3)\n"
   ]
  },
  {
   "cell_type": "code",
   "execution_count": 101,
   "id": "73bb78c0-42e1-46a4-b98b-d861c2b3f540",
   "metadata": {},
   "outputs": [
    {
     "data": {
      "text/plain": [
       "<AxesSubplot:xlabel='variable', ylabel='value'>"
      ]
     },
     "execution_count": 101,
     "metadata": {},
     "output_type": "execute_result"
    },
    {
     "data": {
      "image/png": "[encoded data removed]",
      "text/plain": [
       "<Figure size 432x288 with 1 Axes>"
      ]
     },
     "metadata": {
      "needs_background": "light"
     },
     "output_type": "display_data"
    }
   ],
   "source": [
    "sns.boxplot(data=plot_df,x=\"variable\",y=\"value\",hue=\"Class\")\n",
    "sns.swarmplot(data=plot_df,x=\"variable\",y=\"value\",hue=\"Class\",dodge=True,color=\"black\",s=3)\n"
   ]
  },
  {
   "cell_type": "code",
   "execution_count": 102,
   "id": "d1ccb1f7-69fd-4831-a266-85c4849a1390",
   "metadata": {},
   "outputs": [
    {
     "data": {
      "text/html": [
       "<div>\n",
       "<style scoped>\n",
       "    .dataframe tbody tr th:only-of-type {\n",
       "        vertical-align: middle;\n",
       "    }\n",
       "\n",
       "    .dataframe tbody tr th {\n",
       "        vertical-align: top;\n",
       "    }\n",
       "\n",
       "    .dataframe thead th {\n",
       "        text-align: right;\n",
       "    }\n",
       "</style>\n",
       "<table border=\"1\" class=\"dataframe\">\n",
       "  <thead>\n",
       "    <tr style=\"text-align: right;\">\n",
       "      <th></th>\n",
       "      <th>SampleID</th>\n",
       "      <th>Peptide_27</th>\n",
       "      <th>Fasting_plasma_glucose_(mmol/l)</th>\n",
       "      <th>HbA1c</th>\n",
       "      <th>Fasting_plasma_insulin_(pmol/l)</th>\n",
       "      <th>C-Peptide_(nmol/l)</th>\n",
       "      <th>HOMA-IR</th>\n",
       "      <th>Free_fatty_acids_(mmol/l)</th>\n",
       "      <th>Class</th>\n",
       "    </tr>\n",
       "  </thead>\n",
       "  <tbody>\n",
       "    <tr>\n",
       "      <th>0</th>\n",
       "      <td>3</td>\n",
       "      <td>10.42</td>\n",
       "      <td>4.73</td>\n",
       "      <td>6.5</td>\n",
       "      <td>121.4</td>\n",
       "      <td>1.63</td>\n",
       "      <td>3.7</td>\n",
       "      <td>1.03</td>\n",
       "      <td>1</td>\n",
       "    </tr>\n",
       "    <tr>\n",
       "      <th>1</th>\n",
       "      <td>5</td>\n",
       "      <td>102.86</td>\n",
       "      <td>7.16</td>\n",
       "      <td>7.6</td>\n",
       "      <td>226.0</td>\n",
       "      <td>1.11</td>\n",
       "      <td>10.4</td>\n",
       "      <td>0.98</td>\n",
       "      <td>1</td>\n",
       "    </tr>\n",
       "    <tr>\n",
       "      <th>2</th>\n",
       "      <td>6</td>\n",
       "      <td>9.84</td>\n",
       "      <td>5.06</td>\n",
       "      <td>4.9</td>\n",
       "      <td>39.7</td>\n",
       "      <td>0.75</td>\n",
       "      <td>1.3</td>\n",
       "      <td>0.35</td>\n",
       "      <td>0</td>\n",
       "    </tr>\n",
       "    <tr>\n",
       "      <th>3</th>\n",
       "      <td>7</td>\n",
       "      <td>41.03</td>\n",
       "      <td>5.35</td>\n",
       "      <td>6.3</td>\n",
       "      <td>203.3</td>\n",
       "      <td>2.02</td>\n",
       "      <td>7.0</td>\n",
       "      <td>1.17</td>\n",
       "      <td>1</td>\n",
       "    </tr>\n",
       "    <tr>\n",
       "      <th>4</th>\n",
       "      <td>8</td>\n",
       "      <td>12.30</td>\n",
       "      <td>5.37</td>\n",
       "      <td>5.6</td>\n",
       "      <td>50.8</td>\n",
       "      <td>1.19</td>\n",
       "      <td>1.7</td>\n",
       "      <td>0.32</td>\n",
       "      <td>0</td>\n",
       "    </tr>\n",
       "  </tbody>\n",
       "</table>\n",
       "</div>"
      ],
      "text/plain": [
       "   SampleID  Peptide_27  Fasting_plasma_glucose_(mmol/l)  HbA1c  \\\n",
       "0         3       10.42                             4.73    6.5   \n",
       "1         5      102.86                             7.16    7.6   \n",
       "2         6        9.84                             5.06    4.9   \n",
       "3         7       41.03                             5.35    6.3   \n",
       "4         8       12.30                             5.37    5.6   \n",
       "\n",
       "   Fasting_plasma_insulin_(pmol/l)  C-Peptide_(nmol/l)  HOMA-IR  \\\n",
       "0                            121.4                1.63      3.7   \n",
       "1                            226.0                1.11     10.4   \n",
       "2                             39.7                0.75      1.3   \n",
       "3                            203.3                2.02      7.0   \n",
       "4                             50.8                1.19      1.7   \n",
       "\n",
       "   Free_fatty_acids_(mmol/l)  Class  \n",
       "0                       1.03      1  \n",
       "1                       0.98      1  \n",
       "2                       0.35      0  \n",
       "3                       1.17      1  \n",
       "4                       0.32      0  "
      ]
     },
     "execution_count": 102,
     "metadata": {},
     "output_type": "execute_result"
    }
   ],
   "source": [
    "df.head()"
   ]
  },
  {
   "cell_type": "markdown",
   "id": "db75d734-aa7c-4d23-991b-008ebc5ccc78",
   "metadata": {},
   "source": [
    "## Exercise"
   ]
  },
  {
   "cell_type": "markdown",
   "id": "5aee848f-4ee7-487c-8c7f-ca658a2e2cb6",
   "metadata": {},
   "source": [
    "### Can we still use the same HbA1c and Peptide27 cutoff for the second data?"
   ]
  },
  {
   "cell_type": "code",
   "execution_count": 160,
   "id": "4ed8e26e-5756-4919-862a-6520e123e065",
   "metadata": {},
   "outputs": [
    {
     "data": {
      "text/plain": [
       "Index(['Sample ID', 'Peptide 1', 'Peptide 2', 'Peptide 3', 'Peptide 4',\n",
       "       'Peptide 5', 'Peptide 6', 'Peptide 7', 'Peptide 8', 'Peptide 9',\n",
       "       'Peptide 10', 'Peptide 11', 'Peptide 12', 'Peptide 13', 'Peptide 14',\n",
       "       'Peptide 15', 'Peptide 16', 'Peptide 17', 'Peptide 18', 'Peptide 21',\n",
       "       'Peptide 22', 'Peptide 23', 'Peptide 24', 'Peptide 25', 'Peptide 26',\n",
       "       'Peptide 27', 'Peptide 29', 'Peptide 30', 'Age', 'Diagnosis', 'BMI',\n",
       "       'HbA1c (%)', 'Gender', 'Height', 'Body weight', 'BMI.1', 'Body fat',\n",
       "       'Fat free mass', 'Waist', 'Hip', 'WHR', 'Hemoglobin', 'Erythrozyten',\n",
       "       'Thrombozyten', 'Leukocytes', 'ALAT', 'ASAT', 'gGT',\n",
       "       'Fasting plasma glucose (mmol/l)', 'Fasting plasma insulin (pmol/l)',\n",
       "       'C-Peptide (nmol/l)', 'Proinsulin (pmol/l)', 'Creatinin',\n",
       "       'Triglycerides (mmol/l)', 'Cholesterol total (mmol/l)',\n",
       "       'HDL-Cholesterol (mmol/l)', 'LDL-Cholesterol (mmol/l)',\n",
       "       'Proteins total (g/l)', 'Albumin (g/l)', 'TSH (mU/l)', 'fT3 (pmol/l)',\n",
       "       'fT4 (pmol/l)', 'Cortisol (nmol/l)', 'Testosteron (nmol/l)', 'HOMA-IR',\n",
       "       'Free fatty acids (mmol/l)', 'RRsys (mmHg)', 'RR dia (mmHg)',\n",
       "       'ssCRP (mg/dl)'],\n",
       "      dtype='object')"
      ]
     },
     "execution_count": 160,
     "metadata": {},
     "output_type": "execute_result"
    }
   ],
   "source": [
    "df2.columns"
   ]
  },
  {
   "cell_type": "code",
   "execution_count": 161,
   "id": "81461961-2975-4457-be9b-dd7cfcfba2e5",
   "metadata": {},
   "outputs": [
    {
     "data": {
      "text/plain": [
       "<matplotlib.lines.Line2D at 0x2aab879ffd90>"
      ]
     },
     "execution_count": 161,
     "metadata": {},
     "output_type": "execute_result"
    },
    {
     "data": {
      "image/png": "[encoded data removed]",
      "text/plain": [
       "<Figure size 432x288 with 1 Axes>"
      ]
     },
     "metadata": {
      "needs_background": "light"
     },
     "output_type": "display_data"
    }
   ],
   "source": [
    "sns.scatterplot(data = df2,x=\"HbA1c (%)\",y=\"Peptide 27\",hue=\"Diagnosis\")\n",
    "plt.axhline(40,color=\"black\")\n",
    "plt.axvline(6,color=\"grey\")"
   ]
  },
  {
   "cell_type": "markdown",
   "id": "2971ec2a-c0fe-47f1-bf97-6125ac1a4315",
   "metadata": {},
   "source": [
    "### what is the data distribution for each feature?"
   ]
  },
  {
   "cell_type": "code",
   "execution_count": 179,
   "id": "40f128ab-2a6a-43ad-a114-4df45bfc761c",
   "metadata": {},
   "outputs": [
    {
     "data": {
      "text/html": [
       "<div>\n",
       "<style scoped>\n",
       "    .dataframe tbody tr th:only-of-type {\n",
       "        vertical-align: middle;\n",
       "    }\n",
       "\n",
       "    .dataframe tbody tr th {\n",
       "        vertical-align: top;\n",
       "    }\n",
       "\n",
       "    .dataframe thead th {\n",
       "        text-align: right;\n",
       "    }\n",
       "</style>\n",
       "<table border=\"1\" class=\"dataframe\">\n",
       "  <thead>\n",
       "    <tr style=\"text-align: right;\">\n",
       "      <th></th>\n",
       "      <th>Sample ID</th>\n",
       "      <th>Peptide 1</th>\n",
       "      <th>Peptide 2</th>\n",
       "      <th>Peptide 3</th>\n",
       "      <th>Peptide 4</th>\n",
       "      <th>Peptide 5</th>\n",
       "      <th>Peptide 6</th>\n",
       "      <th>Peptide 7</th>\n",
       "      <th>Peptide 8</th>\n",
       "      <th>Peptide 9</th>\n",
       "      <th>...</th>\n",
       "      <th>TSH (mU/l)</th>\n",
       "      <th>fT3 (pmol/l)</th>\n",
       "      <th>fT4 (pmol/l)</th>\n",
       "      <th>Cortisol (nmol/l)</th>\n",
       "      <th>Testosteron (nmol/l)</th>\n",
       "      <th>HOMA-IR</th>\n",
       "      <th>Free fatty acids (mmol/l)</th>\n",
       "      <th>RRsys (mmHg)</th>\n",
       "      <th>RR dia (mmHg)</th>\n",
       "      <th>ssCRP (mg/dl)</th>\n",
       "    </tr>\n",
       "  </thead>\n",
       "  <tbody>\n",
       "    <tr>\n",
       "      <th>0</th>\n",
       "      <td>sample 2</td>\n",
       "      <td>33.58</td>\n",
       "      <td>7.18</td>\n",
       "      <td>9.35</td>\n",
       "      <td>3.57</td>\n",
       "      <td>94.44</td>\n",
       "      <td>14.91</td>\n",
       "      <td>153.05</td>\n",
       "      <td>35.52</td>\n",
       "      <td>9.76</td>\n",
       "      <td>...</td>\n",
       "      <td>0.72</td>\n",
       "      <td>5.23</td>\n",
       "      <td>21.5</td>\n",
       "      <td>NaN</td>\n",
       "      <td>NaN</td>\n",
       "      <td>7.2</td>\n",
       "      <td>0.30</td>\n",
       "      <td>NaN</td>\n",
       "      <td>NaN</td>\n",
       "      <td>0.48</td>\n",
       "    </tr>\n",
       "    <tr>\n",
       "      <th>1</th>\n",
       "      <td>sample 3</td>\n",
       "      <td>37.57</td>\n",
       "      <td>8.70</td>\n",
       "      <td>10.79</td>\n",
       "      <td>3.36</td>\n",
       "      <td>94.11</td>\n",
       "      <td>15.99</td>\n",
       "      <td>198.88</td>\n",
       "      <td>39.65</td>\n",
       "      <td>8.62</td>\n",
       "      <td>...</td>\n",
       "      <td>0.97</td>\n",
       "      <td>NaN</td>\n",
       "      <td>NaN</td>\n",
       "      <td>NaN</td>\n",
       "      <td>NaN</td>\n",
       "      <td>9.3</td>\n",
       "      <td>1.04</td>\n",
       "      <td>NaN</td>\n",
       "      <td>NaN</td>\n",
       "      <td>7.15</td>\n",
       "    </tr>\n",
       "    <tr>\n",
       "      <th>2</th>\n",
       "      <td>sample 4</td>\n",
       "      <td>27.31</td>\n",
       "      <td>5.42</td>\n",
       "      <td>5.64</td>\n",
       "      <td>2.75</td>\n",
       "      <td>67.01</td>\n",
       "      <td>11.91</td>\n",
       "      <td>148.32</td>\n",
       "      <td>28.90</td>\n",
       "      <td>5.64</td>\n",
       "      <td>...</td>\n",
       "      <td>1.02</td>\n",
       "      <td>5.01</td>\n",
       "      <td>17.6</td>\n",
       "      <td>NaN</td>\n",
       "      <td>NaN</td>\n",
       "      <td>9.1</td>\n",
       "      <td>0.37</td>\n",
       "      <td>NaN</td>\n",
       "      <td>NaN</td>\n",
       "      <td>NaN</td>\n",
       "    </tr>\n",
       "    <tr>\n",
       "      <th>3</th>\n",
       "      <td>sample 5</td>\n",
       "      <td>29.09</td>\n",
       "      <td>5.81</td>\n",
       "      <td>4.69</td>\n",
       "      <td>3.61</td>\n",
       "      <td>65.99</td>\n",
       "      <td>12.42</td>\n",
       "      <td>154.55</td>\n",
       "      <td>26.48</td>\n",
       "      <td>6.38</td>\n",
       "      <td>...</td>\n",
       "      <td>1.00</td>\n",
       "      <td>4.61</td>\n",
       "      <td>15.7</td>\n",
       "      <td>NaN</td>\n",
       "      <td>NaN</td>\n",
       "      <td>24.5</td>\n",
       "      <td>0.99</td>\n",
       "      <td>168.0</td>\n",
       "      <td>95.0</td>\n",
       "      <td>0.20</td>\n",
       "    </tr>\n",
       "    <tr>\n",
       "      <th>4</th>\n",
       "      <td>sample 6</td>\n",
       "      <td>41.13</td>\n",
       "      <td>8.40</td>\n",
       "      <td>8.85</td>\n",
       "      <td>3.56</td>\n",
       "      <td>109.13</td>\n",
       "      <td>17.60</td>\n",
       "      <td>209.62</td>\n",
       "      <td>44.35</td>\n",
       "      <td>10.43</td>\n",
       "      <td>...</td>\n",
       "      <td>1.30</td>\n",
       "      <td>5.43</td>\n",
       "      <td>19.2</td>\n",
       "      <td>NaN</td>\n",
       "      <td>NaN</td>\n",
       "      <td>11.1</td>\n",
       "      <td>0.54</td>\n",
       "      <td>165.0</td>\n",
       "      <td>84.0</td>\n",
       "      <td>0.30</td>\n",
       "    </tr>\n",
       "  </tbody>\n",
       "</table>\n",
       "<p>5 rows × 69 columns</p>\n",
       "</div>"
      ],
      "text/plain": [
       "  Sample ID  Peptide 1  Peptide 2  Peptide 3  Peptide 4  Peptide 5  Peptide 6  \\\n",
       "0  sample 2      33.58       7.18       9.35       3.57      94.44      14.91   \n",
       "1  sample 3      37.57       8.70      10.79       3.36      94.11      15.99   \n",
       "2  sample 4      27.31       5.42       5.64       2.75      67.01      11.91   \n",
       "3  sample 5      29.09       5.81       4.69       3.61      65.99      12.42   \n",
       "4  sample 6      41.13       8.40       8.85       3.56     109.13      17.60   \n",
       "\n",
       "   Peptide 7  Peptide 8  Peptide 9  ...  TSH (mU/l)  fT3 (pmol/l)  \\\n",
       "0     153.05      35.52       9.76  ...        0.72          5.23   \n",
       "1     198.88      39.65       8.62  ...        0.97           NaN   \n",
       "2     148.32      28.90       5.64  ...        1.02          5.01   \n",
       "3     154.55      26.48       6.38  ...        1.00          4.61   \n",
       "4     209.62      44.35      10.43  ...        1.30          5.43   \n",
       "\n",
       "   fT4 (pmol/l)  Cortisol (nmol/l)  Testosteron (nmol/l)  HOMA-IR  \\\n",
       "0          21.5                NaN                   NaN      7.2   \n",
       "1           NaN                NaN                   NaN      9.3   \n",
       "2          17.6                NaN                   NaN      9.1   \n",
       "3          15.7                NaN                   NaN     24.5   \n",
       "4          19.2                NaN                   NaN     11.1   \n",
       "\n",
       "   Free fatty acids (mmol/l)  RRsys (mmHg)  RR dia (mmHg)  ssCRP (mg/dl)  \n",
       "0                       0.30           NaN            NaN           0.48  \n",
       "1                       1.04           NaN            NaN           7.15  \n",
       "2                       0.37           NaN            NaN            NaN  \n",
       "3                       0.99         168.0           95.0           0.20  \n",
       "4                       0.54         165.0           84.0           0.30  \n",
       "\n",
       "[5 rows x 69 columns]"
      ]
     },
     "execution_count": 179,
     "metadata": {},
     "output_type": "execute_result"
    }
   ],
   "source": [
    "df2.head()"
   ]
  },
  {
   "cell_type": "code",
   "execution_count": 200,
   "id": "bdc9ec91-ac1f-4224-b40a-f70f589ce6e9",
   "metadata": {
    "collapsed": true,
    "jupyter": {
     "outputs_hidden": true
    },
    "tags": []
   },
   "outputs": [
    {
     "name": "stderr",
     "output_type": "stream",
     "text": [
      "<ipython-input-200-795c994e6a81>:3: RuntimeWarning:\n",
      "\n",
      "More than 20 figures have been opened. Figures created through the pyplot interface (`matplotlib.pyplot.figure`) are retained until explicitly closed and may consume too much memory. (To control this warning, see the rcParam `figure.max_open_warning`).\n",
      "\n"
     ]
    },
    {
     "data": {
      "text/plain": [
       "<Figure size 288x144 with 0 Axes>"
      ]
     },
     "metadata": {},
     "output_type": "display_data"
    },
    {
     "data": {
      "image/png": "[encoded data removed]",
      "text/plain": [
       "<Figure size 288x144 with 1 Axes>"
      ]
     },
     "metadata": {
      "needs_background": "light"
     },
     "output_type": "display_data"
    },
    {
     "data": {
      "image/png": "[encoded data removed]",
      "text/plain": [
       "<Figure size 288x144 with 1 Axes>"
      ]
     },
     "metadata": {
      "needs_background": "light"
     },
     "output_type": "display_data"
    },
    {
     "data": {
      "image/png": "[encoded data removed]",
      "text/plain": [
       "<Figure size 288x144 with 1 Axes>"
      ]
     },
     "metadata": {
      "needs_background": "light"
     },
     "output_type": "display_data"
    },
    {
     "data": {
      "image/png": "[encoded data removed]",
      "text/plain": [
       "<Figure size 288x144 with 1 Axes>"
      ]
     },
     "metadata": {
      "needs_background": "light"
     },
     "output_type": "display_data"
    },
    {
     "data": {
      "image/png": "[encoded data removed]",
      "text/plain": [
       "<Figure size 288x144 with 1 Axes>"
      ]
     },
     "metadata": {
      "needs_background": "light"
     },
     "output_type": "display_data"
    },
    {
     "data": {
      "image/png": "[encoded data removed]",
      "text/plain": [
       "<Figure size 288x144 with 1 Axes>"
      ]
     },
     "metadata": {
      "needs_background": "light"
     },
     "output_type": "display_data"
    },
    {
     "data": {
      "image/png": "[encoded data removed]",
      "text/plain": [
       "<Figure size 288x144 with 1 Axes>"
      ]
     },
     "metadata": {
      "needs_background": "light"
     },
     "output_type": "display_data"
    },
    {
     "data": {
      "image/png": "[encoded data removed]",
      "text/plain": [
       "<Figure size 288x144 with 1 Axes>"
      ]
     },
     "metadata": {
      "needs_background": "light"
     },
     "output_type": "display_data"
    },
    {
     "data": {
      "image/png": "[encoded data removed]",
      "text/plain": [
       "<Figure size 288x144 with 1 Axes>"
      ]
     },
     "metadata": {
      "needs_background": "light"
     },
     "output_type": "display_data"
    },
    {
     "data": {
      "image/png": "[encoded data removed]",
      "text/plain": [
       "<Figure size 288x144 with 1 Axes>"
      ]
     },
     "metadata": {
      "needs_background": "light"
     },
     "output_type": "display_data"
    },
    {
     "data": {
      "image/png": "[encoded data removed]",
      "text/plain": [
       "<Figure size 288x144 with 1 Axes>"
      ]
     },
     "metadata": {
      "needs_background": "light"
     },
     "output_type": "display_data"
    },
    {
     "data": {
      "image/png": "[encoded data removed]",
      "text/plain": [
       "<Figure size 288x144 with 1 Axes>"
      ]
     },
     "metadata": {
      "needs_background": "light"
     },
     "output_type": "display_data"
    },
    {
     "data": {
      "image/png": "[encoded data removed]",
      "text/plain": [
       "<Figure size 288x144 with 1 Axes>"
      ]
     },
     "metadata": {
      "needs_background": "light"
     },
     "output_type": "display_data"
    },
    {
     "data": {
      "image/png": "[encoded data removed]",
      "text/plain": [
       "<Figure size 288x144 with 1 Axes>"
      ]
     },
     "metadata": {
      "needs_background": "light"
     },
     "output_type": "display_data"
    },
    {
     "data": {
      "image/png": "[encoded data removed]",
      "text/plain": [
       "<Figure size 288x144 with 1 Axes>"
      ]
     },
     "metadata": {
      "needs_background": "light"
     },
     "output_type": "display_data"
    },
    {
     "data": {
      "image/png": "[encoded data removed]",
      "text/plain": [
       "<Figure size 288x144 with 1 Axes>"
      ]
     },
     "metadata": {
      "needs_background": "light"
     },
     "output_type": "display_data"
    },
    {
     "data": {
      "image/png": "[encoded data removed]",
      "text/plain": [
       "<Figure size 288x144 with 1 Axes>"
      ]
     },
     "metadata": {
      "needs_background": "light"
     },
     "output_type": "display_data"
    },
    {
     "data": {
      "image/png": "[encoded data removed]",
      "text/plain": [
       "<Figure size 288x144 with 1 Axes>"
      ]
     },
     "metadata": {
      "needs_background": "light"
     },
     "output_type": "display_data"
    },
    {
     "data": {
      "image/png": "[encoded data removed]",
      "text/plain": [
       "<Figure size 288x144 with 1 Axes>"
      ]
     },
     "metadata": {
      "needs_background": "light"
     },
     "output_type": "display_data"
    },
    {
     "data": {
      "image/png": "[encoded data removed]",
      "text/plain": [
       "<Figure size 288x144 with 1 Axes>"
      ]
     },
     "metadata": {
      "needs_background": "light"
     },
     "output_type": "display_data"
    },
    {
     "data": {
      "image/png": "[encoded data removed]",
      "text/plain": [
       "<Figure size 288x144 with 1 Axes>"
      ]
     },
     "metadata": {
      "needs_background": "light"
     },
     "output_type": "display_data"
    },
    {
     "data": {
      "image/png": "[encoded data removed]",
      "text/plain": [
       "<Figure size 288x144 with 1 Axes>"
      ]
     },
     "metadata": {
      "needs_background": "light"
     },
     "output_type": "display_data"
    },
    {
     "data": {
      "image/png": "[encoded data removed]",
      "text/plain": [
       "<Figure size 288x144 with 1 Axes>"
      ]
     },
     "metadata": {
      "needs_background": "light"
     },
     "output_type": "display_data"
    },
    {
     "data": {
      "image/png": "[encoded data removed]",
      "text/plain": [
       "<Figure size 288x144 with 1 Axes>"
      ]
     },
     "metadata": {
      "needs_background": "light"
     },
     "output_type": "display_data"
    },
    {
     "data": {
      "image/png": "[encoded data removed]",
      "text/plain": [
       "<Figure size 288x144 with 1 Axes>"
      ]
     },
     "metadata": {
      "needs_background": "light"
     },
     "output_type": "display_data"
    },
    {
     "data": {
      "image/png": "[encoded data removed]",
      "text/plain": [
       "<Figure size 288x144 with 1 Axes>"
      ]
     },
     "metadata": {
      "needs_background": "light"
     },
     "output_type": "display_data"
    },
    {
     "data": {
      "image/png": "[encoded data removed]",
      "text/plain": [
       "<Figure size 288x144 with 1 Axes>"
      ]
     },
     "metadata": {
      "needs_background": "light"
     },
     "output_type": "display_data"
    },
    {
     "data": {
      "image/png": "[encoded data removed]",
      "text/plain": [
       "<Figure size 288x144 with 1 Axes>"
      ]
     },
     "metadata": {
      "needs_background": "light"
     },
     "output_type": "display_data"
    },
    {
     "data": {
      "text/plain": [
       "<Figure size 288x144 with 0 Axes>"
      ]
     },
     "metadata": {},
     "output_type": "display_data"
    },
    {
     "data": {
      "image/png": "[encoded data removed]",
      "text/plain": [
       "<Figure size 288x144 with 1 Axes>"
      ]
     },
     "metadata": {
      "needs_background": "light"
     },
     "output_type": "display_data"
    },
    {
     "data": {
      "image/png": "[encoded data removed]",
      "text/plain": [
       "<Figure size 288x144 with 1 Axes>"
      ]
     },
     "metadata": {
      "needs_background": "light"
     },
     "output_type": "display_data"
    },
    {
     "data": {
      "text/plain": [
       "<Figure size 288x144 with 0 Axes>"
      ]
     },
     "metadata": {},
     "output_type": "display_data"
    },
    {
     "data": {
      "image/png": "[encoded data removed]",
      "text/plain": [
       "<Figure size 288x144 with 1 Axes>"
      ]
     },
     "metadata": {
      "needs_background": "light"
     },
     "output_type": "display_data"
    },
    {
     "data": {
      "image/png": "[encoded data removed]",
      "text/plain": [
       "<Figure size 288x144 with 1 Axes>"
      ]
     },
     "metadata": {
      "needs_background": "light"
     },
     "output_type": "display_data"
    },
    {
     "data": {
      "image/png": "[encoded data removed]",
      "text/plain": [
       "<Figure size 288x144 with 1 Axes>"
      ]
     },
     "metadata": {
      "needs_background": "light"
     },
     "output_type": "display_data"
    },
    {
     "data": {
      "image/png": "[encoded data removed]",
      "text/plain": [
       "<Figure size 288x144 with 1 Axes>"
      ]
     },
     "metadata": {
      "needs_background": "light"
     },
     "output_type": "display_data"
    },
    {
     "data": {
      "image/png": "[encoded data removed]",
      "text/plain": [
       "<Figure size 288x144 with 1 Axes>"
      ]
     },
     "metadata": {
      "needs_background": "light"
     },
     "output_type": "display_data"
    },
    {
     "data": {
      "image/png": "[encoded data removed]",
      "text/plain": [
       "<Figure size 288x144 with 1 Axes>"
      ]
     },
     "metadata": {
      "needs_background": "light"
     },
     "output_type": "display_data"
    },
    {
     "data": {
      "image/png": "[encoded data removed]",
      "text/plain": [
       "<Figure size 288x144 with 1 Axes>"
      ]
     },
     "metadata": {
      "needs_background": "light"
     },
     "output_type": "display_data"
    },
    {
     "data": {
      "text/plain": [
       "<Figure size 288x144 with 0 Axes>"
      ]
     },
     "metadata": {},
     "output_type": "display_data"
    },
    {
     "data": {
      "image/png": "[encoded data removed]",
      "text/plain": [
       "<Figure size 288x144 with 1 Axes>"
      ]
     },
     "metadata": {
      "needs_background": "light"
     },
     "output_type": "display_data"
    },
    {
     "data": {
      "image/png": "[encoded data removed]",
      "text/plain": [
       "<Figure size 288x144 with 1 Axes>"
      ]
     },
     "metadata": {
      "needs_background": "light"
     },
     "output_type": "display_data"
    },
    {
     "data": {
      "image/png": "[encoded data removed]",
      "text/plain": [
       "<Figure size 288x144 with 1 Axes>"
      ]
     },
     "metadata": {
      "needs_background": "light"
     },
     "output_type": "display_data"
    },
    {
     "data": {
      "image/png": "[encoded data removed]",
      "text/plain": [
       "<Figure size 288x144 with 1 Axes>"
      ]
     },
     "metadata": {
      "needs_background": "light"
     },
     "output_type": "display_data"
    },
    {
     "data": {
      "image/png": "[encoded data removed]",
      "text/plain": [
       "<Figure size 288x144 with 1 Axes>"
      ]
     },
     "metadata": {
      "needs_background": "light"
     },
     "output_type": "display_data"
    },
    {
     "data": {
      "image/png": "[encoded data removed]",
      "text/plain": [
       "<Figure size 288x144 with 1 Axes>"
      ]
     },
     "metadata": {
      "needs_background": "light"
     },
     "output_type": "display_data"
    },
    {
     "data": {
      "image/png": "[encoded data removed]",
      "text/plain": [
       "<Figure size 288x144 with 1 Axes>"
      ]
     },
     "metadata": {
      "needs_background": "light"
     },
     "output_type": "display_data"
    },
    {
     "data": {
      "image/png": "[encoded data removed]",
      "text/plain": [
       "<Figure size 288x144 with 1 Axes>"
      ]
     },
     "metadata": {
      "needs_background": "light"
     },
     "output_type": "display_data"
    },
    {
     "data": {
      "image/png": "[encoded data removed]",
      "text/plain": [
       "<Figure size 288x144 with 1 Axes>"
      ]
     },
     "metadata": {
      "needs_background": "light"
     },
     "output_type": "display_data"
    },
    {
     "data": {
      "image/png": "[encoded data removed]",
      "text/plain": [
       "<Figure size 288x144 with 1 Axes>"
      ]
     },
     "metadata": {
      "needs_background": "light"
     },
     "output_type": "display_data"
    },
    {
     "data": {
      "image/png": "[encoded data removed]",
      "text/plain": [
       "<Figure size 288x144 with 1 Axes>"
      ]
     },
     "metadata": {
      "needs_background": "light"
     },
     "output_type": "display_data"
    },
    {
     "data": {
      "image/png": "[encoded data removed]",
      "text/plain": [
       "<Figure size 288x144 with 1 Axes>"
      ]
     },
     "metadata": {
      "needs_background": "light"
     },
     "output_type": "display_data"
    },
    {
     "data": {
      "image/png": "[encoded data removed]",
      "text/plain": [
       "<Figure size 288x144 with 1 Axes>"
      ]
     },
     "metadata": {
      "needs_background": "light"
     },
     "output_type": "display_data"
    },
    {
     "data": {
      "image/png": "[encoded data removed]",
      "text/plain": [
       "<Figure size 288x144 with 1 Axes>"
      ]
     },
     "metadata": {
      "needs_background": "light"
     },
     "output_type": "display_data"
    },
    {
     "data": {
      "image/png": "[encoded data removed]",
      "text/plain": [
       "<Figure size 288x144 with 1 Axes>"
      ]
     },
     "metadata": {
      "needs_background": "light"
     },
     "output_type": "display_data"
    },
    {
     "data": {
      "image/png": "[encoded data removed]",
      "text/plain": [
       "<Figure size 288x144 with 1 Axes>"
      ]
     },
     "metadata": {
      "needs_background": "light"
     },
     "output_type": "display_data"
    },
    {
     "data": {
      "image/png": "[encoded data removed]",
      "text/plain": [
       "<Figure size 288x144 with 1 Axes>"
      ]
     },
     "metadata": {
      "needs_background": "light"
     },
     "output_type": "display_data"
    },
    {
     "data": {
      "image/png": "[encoded data removed]",
      "text/plain": [
       "<Figure size 288x144 with 1 Axes>"
      ]
     },
     "metadata": {
      "needs_background": "light"
     },
     "output_type": "display_data"
    },
    {
     "data": {
      "image/png": "[encoded data removed]",
      "text/plain": [
       "<Figure size 288x144 with 1 Axes>"
      ]
     },
     "metadata": {
      "needs_background": "light"
     },
     "output_type": "display_data"
    },
    {
     "data": {
      "image/png": "[encoded data removed]",
      "text/plain": [
       "<Figure size 288x144 with 1 Axes>"
      ]
     },
     "metadata": {
      "needs_background": "light"
     },
     "output_type": "display_data"
    },
    {
     "data": {
      "image/png": "[encoded data removed]",
      "text/plain": [
       "<Figure size 288x144 with 1 Axes>"
      ]
     },
     "metadata": {
      "needs_background": "light"
     },
     "output_type": "display_data"
    },
    {
     "data": {
      "image/png": "[encoded data removed]",
      "text/plain": [
       "<Figure size 288x144 with 1 Axes>"
      ]
     },
     "metadata": {
      "needs_background": "light"
     },
     "output_type": "display_data"
    },
    {
     "data": {
      "image/png": "[encoded data removed]",
      "text/plain": [
       "<Figure size 288x144 with 1 Axes>"
      ]
     },
     "metadata": {
      "needs_background": "light"
     },
     "output_type": "display_data"
    },
    {
     "data": {
      "image/png": "[encoded data removed]",
      "text/plain": [
       "<Figure size 288x144 with 1 Axes>"
      ]
     },
     "metadata": {
      "needs_background": "light"
     },
     "output_type": "display_data"
    },
    {
     "data": {
      "image/png": "[encoded data removed]",
      "text/plain": [
       "<Figure size 288x144 with 1 Axes>"
      ]
     },
     "metadata": {
      "needs_background": "light"
     },
     "output_type": "display_data"
    },
    {
     "data": {
      "image/png": "[encoded data removed]",
      "text/plain": [
       "<Figure size 288x144 with 1 Axes>"
      ]
     },
     "metadata": {
      "needs_background": "light"
     },
     "output_type": "display_data"
    },
    {
     "data": {
      "image/png": "[encoded data removed]",
      "text/plain": [
       "<Figure size 288x144 with 1 Axes>"
      ]
     },
     "metadata": {
      "needs_background": "light"
     },
     "output_type": "display_data"
    },
    {
     "data": {
      "image/png": "[encoded data removed]",
      "text/plain": [
       "<Figure size 288x144 with 1 Axes>"
      ]
     },
     "metadata": {
      "needs_background": "light"
     },
     "output_type": "display_data"
    }
   ],
   "source": [
    "for c in df2.columns:\n",
    "    try:\n",
    "        plt.figure(figsize=(4,2))\n",
    "        tmp = df2.melt(id_vars=['Diagnosis'],value_vars=c)\n",
    "        sns.boxplot(data=tmp,y=\"variable\",x=\"value\",hue=\"Diagnosis\")\n",
    "    except:\n",
    "        continue"
   ]
  },
  {
   "cell_type": "code",
   "execution_count": null,
   "id": "4084db2d-4dd1-469a-acb6-59b5b706bf3f",
   "metadata": {},
   "outputs": [],
   "source": []
  }
 ],
 "metadata": {
  "kernelspec": {
   "display_name": "Python 3",
   "language": "python",
   "name": "python3"
  },
  "language_info": {
   "codemirror_mode": {
    "name": "ipython",
    "version": 3
   },
   "file_extension": ".py",
   "mimetype": "text/x-python",
   "name": "python",
   "nbconvert_exporter": "python",
   "pygments_lexer": "ipython3",
   "version": "3.8.5"
  },
  "toc-autonumbering": true,
  "toc-showtags": false
 },
 "nbformat": 4,
 "nbformat_minor": 5
}
