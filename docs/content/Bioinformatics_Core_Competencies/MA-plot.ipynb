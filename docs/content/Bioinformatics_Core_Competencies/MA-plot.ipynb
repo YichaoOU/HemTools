{
 "cells": [
  {
   "cell_type": "markdown",
   "id": "23a7decd-5ff2-4ccc-bdbc-dbdaa460c8a1",
   "metadata": {},
   "source": [
    "# What is MA plot?\n",
    "\n",
    "[MA plot](https://en.wikipedia.org/wiki/MA_plot) shows the log average (`A`) on the $x$-axis and the log ratio (`M`) on the $y$-axis. Here, `M` stands for `minus` because $log(A/B) = logA-logB$\n",
    "\n",
    "Similar plots are [Bland-Altman plot](https://en.wikipedia.org/wiki/Bland%E2%80%93Altman_plot), [Tukey mean-difference plot](https://dl.acm.org/doi/abs/10.5555/529269), mean-difference plot, or [MD plot](https://academic.oup.com/nar/article/43/7/e47/2414268). \n",
    "\n",
    "This type of plot is good to show the data distribution between two individuals or two groups. Examples include:\n",
    "\n",
    "- show data distribution in two replicates or two groups to identify systematic bias (if normalization is needed)\n",
    "- show gene expression distribution comparing A to B, potentially highlighting differentially expressed genes, and/or other gene categories such as housekeeping genes, highly variable genes.\n",
    "\n",
    "\n",
    "![](https://upload.wikimedia.org/wikipedia/commons/6/63/Pre-normalization.MAplot.png)\n"
   ]
  },
  {
   "cell_type": "code",
   "execution_count": 50,
   "id": "bb93574f-4476-47dd-abe0-ad1c7b21456e",
   "metadata": {
    "execution": {
     "iopub.execute_input": "2021-07-06T14:20:54.431284Z",
     "iopub.status.busy": "2021-07-06T14:20:54.431108Z",
     "iopub.status.idle": "2021-07-06T14:20:54.433720Z",
     "shell.execute_reply": "2021-07-06T14:20:54.433391Z",
     "shell.execute_reply.started": "2021-07-06T14:20:54.431267Z"
    },
    "tags": []
   },
   "outputs": [],
   "source": [
    "import pandas as pd\n",
    "import matplotlib.pylab as plt\n",
    "import seaborn as sns"
   ]
  },
  {
   "cell_type": "code",
   "execution_count": 51,
   "id": "737d7a87-e59c-4ccc-9ffd-a7d763c91843",
   "metadata": {
    "execution": {
     "iopub.execute_input": "2021-07-06T14:20:56.734683Z",
     "iopub.status.busy": "2021-07-06T14:20:56.734499Z",
     "iopub.status.idle": "2021-07-06T14:20:56.832631Z",
     "shell.execute_reply": "2021-07-06T14:20:56.832271Z",
     "shell.execute_reply.started": "2021-07-06T14:20:56.734666Z"
    },
    "tags": []
   },
   "outputs": [
    {
     "data": {
      "text/html": [
       "<div>\n",
       "<style scoped>\n",
       "    .dataframe tbody tr th:only-of-type {\n",
       "        vertical-align: middle;\n",
       "    }\n",
       "\n",
       "    .dataframe tbody tr th {\n",
       "        vertical-align: top;\n",
       "    }\n",
       "\n",
       "    .dataframe thead th {\n",
       "        text-align: right;\n",
       "    }\n",
       "</style>\n",
       "<table border=\"1\" class=\"dataframe\">\n",
       "  <thead>\n",
       "    <tr style=\"text-align: right;\">\n",
       "      <th></th>\n",
       "      <th>logFC</th>\n",
       "      <th>AveExpr</th>\n",
       "      <th>t</th>\n",
       "      <th>P.Value</th>\n",
       "      <th>adj.P.Val</th>\n",
       "      <th>B</th>\n",
       "      <th>WT_1_log2CPM</th>\n",
       "      <th>WT_2_log2CPM</th>\n",
       "      <th>WT_3_log2CPM</th>\n",
       "      <th>KO_1_log2CPM</th>\n",
       "      <th>KO_2_log2CPM</th>\n",
       "      <th>KO_3_log2CPM</th>\n",
       "    </tr>\n",
       "    <tr>\n",
       "      <th>gene</th>\n",
       "      <th></th>\n",
       "      <th></th>\n",
       "      <th></th>\n",
       "      <th></th>\n",
       "      <th></th>\n",
       "      <th></th>\n",
       "      <th></th>\n",
       "      <th></th>\n",
       "      <th></th>\n",
       "      <th></th>\n",
       "      <th></th>\n",
       "      <th></th>\n",
       "    </tr>\n",
       "  </thead>\n",
       "  <tbody>\n",
       "    <tr>\n",
       "      <th>D17H6S56E-5</th>\n",
       "      <td>-3.0830</td>\n",
       "      <td>9.3418</td>\n",
       "      <td>-97.669</td>\n",
       "      <td>2.276800e-15</td>\n",
       "      <td>3.597600e-11</td>\n",
       "      <td>25.102</td>\n",
       "      <td>10.8880</td>\n",
       "      <td>10.9120</td>\n",
       "      <td>10.8500</td>\n",
       "      <td>7.7671</td>\n",
       "      <td>7.8119</td>\n",
       "      <td>7.8218</td>\n",
       "    </tr>\n",
       "    <tr>\n",
       "      <th>Scd1</th>\n",
       "      <td>-2.2133</td>\n",
       "      <td>6.1060</td>\n",
       "      <td>-50.068</td>\n",
       "      <td>1.151200e-12</td>\n",
       "      <td>9.095200e-09</td>\n",
       "      <td>19.799</td>\n",
       "      <td>7.2574</td>\n",
       "      <td>7.1911</td>\n",
       "      <td>7.1920</td>\n",
       "      <td>5.0828</td>\n",
       "      <td>4.9264</td>\n",
       "      <td>4.9864</td>\n",
       "    </tr>\n",
       "    <tr>\n",
       "      <th>Coro2a</th>\n",
       "      <td>-1.4558</td>\n",
       "      <td>7.9154</td>\n",
       "      <td>-46.998</td>\n",
       "      <td>2.073900e-12</td>\n",
       "      <td>1.092300e-08</td>\n",
       "      <td>19.285</td>\n",
       "      <td>8.6433</td>\n",
       "      <td>8.6614</td>\n",
       "      <td>8.6256</td>\n",
       "      <td>7.1924</td>\n",
       "      <td>7.2202</td>\n",
       "      <td>7.1495</td>\n",
       "    </tr>\n",
       "    <tr>\n",
       "      <th>Plxnb2</th>\n",
       "      <td>-2.9373</td>\n",
       "      <td>3.6346</td>\n",
       "      <td>-42.033</td>\n",
       "      <td>5.854300e-12</td>\n",
       "      <td>1.598600e-08</td>\n",
       "      <td>17.639</td>\n",
       "      <td>5.0743</td>\n",
       "      <td>5.1443</td>\n",
       "      <td>5.1107</td>\n",
       "      <td>2.2122</td>\n",
       "      <td>2.2622</td>\n",
       "      <td>2.0040</td>\n",
       "    </tr>\n",
       "    <tr>\n",
       "      <th>Gzmb</th>\n",
       "      <td>-1.8469</td>\n",
       "      <td>4.9198</td>\n",
       "      <td>-41.606</td>\n",
       "      <td>6.436800e-12</td>\n",
       "      <td>1.598600e-08</td>\n",
       "      <td>18.097</td>\n",
       "      <td>5.7934</td>\n",
       "      <td>5.8635</td>\n",
       "      <td>5.8686</td>\n",
       "      <td>3.9655</td>\n",
       "      <td>3.9610</td>\n",
       "      <td>4.0665</td>\n",
       "    </tr>\n",
       "  </tbody>\n",
       "</table>\n",
       "</div>"
      ],
      "text/plain": [
       "              logFC  AveExpr       t       P.Value     adj.P.Val       B  \\\n",
       "gene                                                                       \n",
       "D17H6S56E-5 -3.0830   9.3418 -97.669  2.276800e-15  3.597600e-11  25.102   \n",
       "Scd1        -2.2133   6.1060 -50.068  1.151200e-12  9.095200e-09  19.799   \n",
       "Coro2a      -1.4558   7.9154 -46.998  2.073900e-12  1.092300e-08  19.285   \n",
       "Plxnb2      -2.9373   3.6346 -42.033  5.854300e-12  1.598600e-08  17.639   \n",
       "Gzmb        -1.8469   4.9198 -41.606  6.436800e-12  1.598600e-08  18.097   \n",
       "\n",
       "             WT_1_log2CPM  WT_2_log2CPM  WT_3_log2CPM  KO_1_log2CPM  \\\n",
       "gene                                                                  \n",
       "D17H6S56E-5       10.8880       10.9120       10.8500        7.7671   \n",
       "Scd1               7.2574        7.1911        7.1920        5.0828   \n",
       "Coro2a             8.6433        8.6614        8.6256        7.1924   \n",
       "Plxnb2             5.0743        5.1443        5.1107        2.2122   \n",
       "Gzmb               5.7934        5.8635        5.8686        3.9655   \n",
       "\n",
       "             KO_2_log2CPM  KO_3_log2CPM  \n",
       "gene                                     \n",
       "D17H6S56E-5        7.8119        7.8218  \n",
       "Scd1               4.9264        4.9864  \n",
       "Coro2a             7.2202        7.1495  \n",
       "Plxnb2             2.2622        2.0040  \n",
       "Gzmb               3.9610        4.0665  "
      ]
     },
     "execution_count": 51,
     "metadata": {},
     "output_type": "execute_result"
    }
   ],
   "source": [
    "df = pd.read_csv(\"/home/yli11/tmp/results.KO_vs_WT.csv\",sep=\"\\t\",index_col=0)\n",
    "df.head()"
   ]
  },
  {
   "cell_type": "markdown",
   "id": "e9da40d6-a40f-4383-b581-7f63d95bf2ea",
   "metadata": {},
   "source": [
    "## compare between replicates"
   ]
  },
  {
   "cell_type": "code",
   "execution_count": 26,
   "id": "7ca27776-11c4-4012-bc53-6b92178c0027",
   "metadata": {},
   "outputs": [
    {
     "data": {
      "text/plain": [
       "<matplotlib.collections.PathCollection at 0x2aad8f7f0280>"
      ]
     },
     "execution_count": 26,
     "metadata": {},
     "output_type": "execute_result"
    },
    {
     "data": {
      "image/png": "[encoded data removed]",
      "text/plain": [
       "<Figure size 432x288 with 1 Axes>"
      ]
     },
     "metadata": {
      "needs_background": "light"
     },
     "output_type": "display_data"
    }
   ],
   "source": [
    "A = (df['WT_1_log2CPM']+df['WT_2_log2CPM'])/2\n",
    "M = df['WT_1_log2CPM']-df['WT_2_log2CPM']\n",
    "plt.scatter(x=A,y=M,s=1) # s is point size"
   ]
  },
  {
   "cell_type": "markdown",
   "id": "2261d33a-1e4f-48b0-a47b-0b9445a94bbf",
   "metadata": {},
   "source": [
    "## compare between two samples from different group"
   ]
  },
  {
   "cell_type": "code",
   "execution_count": 59,
   "id": "28b44032-1e5c-4c71-b318-1c9a04080a83",
   "metadata": {
    "execution": {
     "iopub.execute_input": "2021-07-06T15:27:04.196896Z",
     "iopub.status.busy": "2021-07-06T15:27:04.196716Z",
     "iopub.status.idle": "2021-07-06T15:27:04.356465Z",
     "shell.execute_reply": "2021-07-06T15:27:04.356104Z",
     "shell.execute_reply.started": "2021-07-06T15:27:04.196879Z"
    },
    "tags": []
   },
   "outputs": [
    {
     "data": {
      "text/plain": [
       "<matplotlib.legend.Legend at 0x2aad901dd6a0>"
      ]
     },
     "execution_count": 59,
     "metadata": {},
     "output_type": "execute_result"
    },
    {
     "data": {
      "image/png": "[encoded data removed]",
      "text/plain": [
       "<Figure size 432x288 with 1 Axes>"
      ]
     },
     "metadata": {
      "needs_background": "light"
     },
     "output_type": "display_data"
    }
   ],
   "source": [
    "A = (df['WT_1_log2CPM']+df['KO_1_log2CPM'])/2\n",
    "M = df['WT_1_log2CPM']-df['KO_1_log2CPM']\n",
    "plt.scatter(x=A,y=M,s=1) # s is point size\n",
    "plt.legend([\"test\"])"
   ]
  },
  {
   "cell_type": "markdown",
   "id": "c1745adf-7617-4d02-b114-5ce7b1a74c7e",
   "metadata": {},
   "source": [
    "## compare between groups"
   ]
  },
  {
   "cell_type": "code",
   "execution_count": 20,
   "id": "31ed1501-5537-4be5-b17b-62e46949e503",
   "metadata": {},
   "outputs": [
    {
     "name": "stdout",
     "output_type": "stream",
     "text": [
      "['WT_1_log2CPM', 'WT_2_log2CPM', 'WT_3_log2CPM']\n",
      "['KO_1_log2CPM', 'KO_2_log2CPM', 'KO_3_log2CPM']\n"
     ]
    }
   ],
   "source": [
    "# extract column names, you can also just type column names manually\n",
    "WT_column_names = [x for x in df.columns if \"WT\" in x] # When using only 'if', put 'for' in the beginning\n",
    "KO_column_names = [x for x in df.columns if \"KO\" in x] # When using only 'if', put 'for' in the beginning\n",
    "print (WT_column_names)\n",
    "print (KO_column_names)"
   ]
  },
  {
   "cell_type": "code",
   "execution_count": 42,
   "id": "134f2868-d079-4744-a747-dd122d8912d1",
   "metadata": {
    "execution": {
     "iopub.execute_input": "2021-07-06T14:13:00.162898Z",
     "iopub.status.busy": "2021-07-06T14:13:00.162646Z",
     "iopub.status.idle": "2021-07-06T14:13:00.167334Z",
     "shell.execute_reply": "2021-07-06T14:13:00.166857Z",
     "shell.execute_reply.started": "2021-07-06T14:13:00.162866Z"
    }
   },
   "outputs": [
    {
     "data": {
      "text/plain": [
       "[1, 2, 3, 'asd']"
      ]
     },
     "execution_count": 42,
     "metadata": {},
     "output_type": "execute_result"
    }
   ],
   "source": [
    "a=[1,2,3,\"asd\"]\n",
    "a"
   ]
  },
  {
   "cell_type": "code",
   "execution_count": 43,
   "id": "134d1d70-45b2-4f34-8c5c-f227627a0e61",
   "metadata": {
    "execution": {
     "iopub.execute_input": "2021-07-06T14:13:41.791937Z",
     "iopub.status.busy": "2021-07-06T14:13:41.791754Z",
     "iopub.status.idle": "2021-07-06T14:13:41.795066Z",
     "shell.execute_reply": "2021-07-06T14:13:41.794742Z",
     "shell.execute_reply.started": "2021-07-06T14:13:41.791919Z"
    }
   },
   "outputs": [
    {
     "data": {
      "text/plain": [
       "[0, 1, 2, 3, 4, 5, 6, 7, 8, 9]"
      ]
     },
     "execution_count": 43,
     "metadata": {},
     "output_type": "execute_result"
    }
   ],
   "source": [
    "list(range(0,10))"
   ]
  },
  {
   "cell_type": "code",
   "execution_count": 45,
   "id": "e3a7a0e6-9289-46bc-9610-133631cb2229",
   "metadata": {
    "execution": {
     "iopub.execute_input": "2021-07-06T14:14:57.181151Z",
     "iopub.status.busy": "2021-07-06T14:14:57.180963Z",
     "iopub.status.idle": "2021-07-06T14:14:57.184417Z",
     "shell.execute_reply": "2021-07-06T14:14:57.184058Z",
     "shell.execute_reply.started": "2021-07-06T14:14:57.181133Z"
    },
    "tags": []
   },
   "outputs": [
    {
     "data": {
      "text/plain": [
       "[0.0, 0.5, 1.0, 1.5, 2.0, 2.5, 3.0, 3.5, 4.0, 4.5]"
      ]
     },
     "execution_count": 45,
     "metadata": {},
     "output_type": "execute_result"
    }
   ],
   "source": [
    "[i/2 for i in range(0,10)]"
   ]
  },
  {
   "cell_type": "code",
   "execution_count": 46,
   "id": "06decf0c-606f-411a-a12f-96bc6f021cef",
   "metadata": {
    "execution": {
     "iopub.execute_input": "2021-07-06T14:15:58.125810Z",
     "iopub.status.busy": "2021-07-06T14:15:58.125629Z",
     "iopub.status.idle": "2021-07-06T14:15:58.129073Z",
     "shell.execute_reply": "2021-07-06T14:15:58.128741Z",
     "shell.execute_reply.started": "2021-07-06T14:15:58.125792Z"
    }
   },
   "outputs": [
    {
     "data": {
      "text/plain": [
       "[0.0, 0.5, 1.0, 1.5, 2.0, 2.5, 3.0, 3.5, 4.0, 4.5]"
      ]
     },
     "execution_count": 46,
     "metadata": {},
     "output_type": "execute_result"
    }
   ],
   "source": [
    "output = []\n",
    "for i in range(0,10):\n",
    "    output.append(i/2)\n",
    "output"
   ]
  },
  {
   "cell_type": "code",
   "execution_count": 47,
   "id": "d9e1898a-90bb-4310-83af-32d022b177c1",
   "metadata": {
    "execution": {
     "iopub.execute_input": "2021-07-06T14:16:50.976298Z",
     "iopub.status.busy": "2021-07-06T14:16:50.976114Z",
     "iopub.status.idle": "2021-07-06T14:16:50.979606Z",
     "shell.execute_reply": "2021-07-06T14:16:50.979257Z",
     "shell.execute_reply.started": "2021-07-06T14:16:50.976281Z"
    }
   },
   "outputs": [
    {
     "data": {
      "text/plain": [
       "Index(['logFC', 'AveExpr', 't', 'P.Value', 'adj.P.Val', 'B', 'WT_1_log2CPM',\n",
       "       'WT_2_log2CPM', 'WT_3_log2CPM', 'KO_1_log2CPM', 'KO_2_log2CPM',\n",
       "       'KO_3_log2CPM'],\n",
       "      dtype='object')"
      ]
     },
     "execution_count": 47,
     "metadata": {},
     "output_type": "execute_result"
    }
   ],
   "source": [
    "df.columns"
   ]
  },
  {
   "cell_type": "code",
   "execution_count": 48,
   "id": "a68e758a-1096-430e-b28f-26d4d06176da",
   "metadata": {
    "execution": {
     "iopub.execute_input": "2021-07-06T14:16:57.369248Z",
     "iopub.status.busy": "2021-07-06T14:16:57.369068Z",
     "iopub.status.idle": "2021-07-06T14:16:57.372042Z",
     "shell.execute_reply": "2021-07-06T14:16:57.371686Z",
     "shell.execute_reply.started": "2021-07-06T14:16:57.369230Z"
    }
   },
   "outputs": [
    {
     "data": {
      "text/plain": [
       "(15801, 12)"
      ]
     },
     "execution_count": 48,
     "metadata": {},
     "output_type": "execute_result"
    }
   ],
   "source": [
    "df.shape"
   ]
  },
  {
   "cell_type": "code",
   "execution_count": 49,
   "id": "dbf653cc-9839-4452-8aaf-a15eb07c1807",
   "metadata": {
    "execution": {
     "iopub.execute_input": "2021-07-06T14:18:10.572534Z",
     "iopub.status.busy": "2021-07-06T14:18:10.572282Z",
     "iopub.status.idle": "2021-07-06T14:18:10.575583Z",
     "shell.execute_reply": "2021-07-06T14:18:10.575243Z",
     "shell.execute_reply.started": "2021-07-06T14:18:10.572517Z"
    },
    "tags": []
   },
   "outputs": [
    {
     "data": {
      "text/plain": [
       "['WT_1_log2CPM', 'WT_2_log2CPM', 'WT_3_log2CPM']"
      ]
     },
     "execution_count": 49,
     "metadata": {},
     "output_type": "execute_result"
    }
   ],
   "source": [
    "[i for i in df.columns if \"W\" in i]"
   ]
  },
  {
   "cell_type": "code",
   "execution_count": 25,
   "id": "558a936d-5c08-4831-ab3d-d433c322c540",
   "metadata": {},
   "outputs": [
    {
     "data": {
      "text/plain": [
       "Text(0, 0.5, 'log fold change')"
      ]
     },
     "execution_count": 25,
     "metadata": {},
     "output_type": "execute_result"
    },
    {
     "data": {
      "image/png": "[encoded data removed]",
      "text/plain": [
       "<Figure size 432x288 with 1 Axes>"
      ]
     },
     "metadata": {
      "needs_background": "light"
     },
     "output_type": "display_data"
    }
   ],
   "source": [
    "A = (df[WT_column_names].mean(axis=1)+df[KO_column_names].mean(axis=1))/2\n",
    "M = df[KO_column_names].mean(axis=1)-df[WT_column_names].mean(axis=1)\n",
    "plt.scatter(x=A,y=M,s=1) # s is point size\n",
    "## add cosmetics\n",
    "plt.title(\"KO vs WT\")\n",
    "plt.xlabel(\"log mean expression\")\n",
    "plt.ylabel(\"log fold change\")"
   ]
  },
  {
   "cell_type": "code",
   "execution_count": 52,
   "id": "e9ab1294-d325-4545-aa03-c83985c7ea97",
   "metadata": {
    "execution": {
     "iopub.execute_input": "2021-07-06T14:21:28.321199Z",
     "iopub.status.busy": "2021-07-06T14:21:28.321016Z",
     "iopub.status.idle": "2021-07-06T14:21:28.333210Z",
     "shell.execute_reply": "2021-07-06T14:21:28.332865Z",
     "shell.execute_reply.started": "2021-07-06T14:21:28.321182Z"
    },
    "tags": []
   },
   "outputs": [
    {
     "data": {
      "text/html": [
       "<div>\n",
       "<style scoped>\n",
       "    .dataframe tbody tr th:only-of-type {\n",
       "        vertical-align: middle;\n",
       "    }\n",
       "\n",
       "    .dataframe tbody tr th {\n",
       "        vertical-align: top;\n",
       "    }\n",
       "\n",
       "    .dataframe thead th {\n",
       "        text-align: right;\n",
       "    }\n",
       "</style>\n",
       "<table border=\"1\" class=\"dataframe\">\n",
       "  <thead>\n",
       "    <tr style=\"text-align: right;\">\n",
       "      <th></th>\n",
       "      <th>logFC</th>\n",
       "      <th>AveExpr</th>\n",
       "      <th>t</th>\n",
       "      <th>P.Value</th>\n",
       "      <th>adj.P.Val</th>\n",
       "      <th>B</th>\n",
       "      <th>WT_1_log2CPM</th>\n",
       "      <th>WT_2_log2CPM</th>\n",
       "      <th>WT_3_log2CPM</th>\n",
       "      <th>KO_1_log2CPM</th>\n",
       "      <th>KO_2_log2CPM</th>\n",
       "      <th>KO_3_log2CPM</th>\n",
       "    </tr>\n",
       "    <tr>\n",
       "      <th>gene</th>\n",
       "      <th></th>\n",
       "      <th></th>\n",
       "      <th></th>\n",
       "      <th></th>\n",
       "      <th></th>\n",
       "      <th></th>\n",
       "      <th></th>\n",
       "      <th></th>\n",
       "      <th></th>\n",
       "      <th></th>\n",
       "      <th></th>\n",
       "      <th></th>\n",
       "    </tr>\n",
       "  </thead>\n",
       "  <tbody>\n",
       "    <tr>\n",
       "      <th>D17H6S56E-5</th>\n",
       "      <td>-3.0830</td>\n",
       "      <td>9.3418</td>\n",
       "      <td>-97.669</td>\n",
       "      <td>2.276800e-15</td>\n",
       "      <td>3.597600e-11</td>\n",
       "      <td>25.102</td>\n",
       "      <td>10.8880</td>\n",
       "      <td>10.9120</td>\n",
       "      <td>10.8500</td>\n",
       "      <td>7.7671</td>\n",
       "      <td>7.8119</td>\n",
       "      <td>7.8218</td>\n",
       "    </tr>\n",
       "    <tr>\n",
       "      <th>Scd1</th>\n",
       "      <td>-2.2133</td>\n",
       "      <td>6.1060</td>\n",
       "      <td>-50.068</td>\n",
       "      <td>1.151200e-12</td>\n",
       "      <td>9.095200e-09</td>\n",
       "      <td>19.799</td>\n",
       "      <td>7.2574</td>\n",
       "      <td>7.1911</td>\n",
       "      <td>7.1920</td>\n",
       "      <td>5.0828</td>\n",
       "      <td>4.9264</td>\n",
       "      <td>4.9864</td>\n",
       "    </tr>\n",
       "    <tr>\n",
       "      <th>Coro2a</th>\n",
       "      <td>-1.4558</td>\n",
       "      <td>7.9154</td>\n",
       "      <td>-46.998</td>\n",
       "      <td>2.073900e-12</td>\n",
       "      <td>1.092300e-08</td>\n",
       "      <td>19.285</td>\n",
       "      <td>8.6433</td>\n",
       "      <td>8.6614</td>\n",
       "      <td>8.6256</td>\n",
       "      <td>7.1924</td>\n",
       "      <td>7.2202</td>\n",
       "      <td>7.1495</td>\n",
       "    </tr>\n",
       "    <tr>\n",
       "      <th>Plxnb2</th>\n",
       "      <td>-2.9373</td>\n",
       "      <td>3.6346</td>\n",
       "      <td>-42.033</td>\n",
       "      <td>5.854300e-12</td>\n",
       "      <td>1.598600e-08</td>\n",
       "      <td>17.639</td>\n",
       "      <td>5.0743</td>\n",
       "      <td>5.1443</td>\n",
       "      <td>5.1107</td>\n",
       "      <td>2.2122</td>\n",
       "      <td>2.2622</td>\n",
       "      <td>2.0040</td>\n",
       "    </tr>\n",
       "    <tr>\n",
       "      <th>Gzmb</th>\n",
       "      <td>-1.8469</td>\n",
       "      <td>4.9198</td>\n",
       "      <td>-41.606</td>\n",
       "      <td>6.436800e-12</td>\n",
       "      <td>1.598600e-08</td>\n",
       "      <td>18.097</td>\n",
       "      <td>5.7934</td>\n",
       "      <td>5.8635</td>\n",
       "      <td>5.8686</td>\n",
       "      <td>3.9655</td>\n",
       "      <td>3.9610</td>\n",
       "      <td>4.0665</td>\n",
       "    </tr>\n",
       "  </tbody>\n",
       "</table>\n",
       "</div>"
      ],
      "text/plain": [
       "              logFC  AveExpr       t       P.Value     adj.P.Val       B  \\\n",
       "gene                                                                       \n",
       "D17H6S56E-5 -3.0830   9.3418 -97.669  2.276800e-15  3.597600e-11  25.102   \n",
       "Scd1        -2.2133   6.1060 -50.068  1.151200e-12  9.095200e-09  19.799   \n",
       "Coro2a      -1.4558   7.9154 -46.998  2.073900e-12  1.092300e-08  19.285   \n",
       "Plxnb2      -2.9373   3.6346 -42.033  5.854300e-12  1.598600e-08  17.639   \n",
       "Gzmb        -1.8469   4.9198 -41.606  6.436800e-12  1.598600e-08  18.097   \n",
       "\n",
       "             WT_1_log2CPM  WT_2_log2CPM  WT_3_log2CPM  KO_1_log2CPM  \\\n",
       "gene                                                                  \n",
       "D17H6S56E-5       10.8880       10.9120       10.8500        7.7671   \n",
       "Scd1               7.2574        7.1911        7.1920        5.0828   \n",
       "Coro2a             8.6433        8.6614        8.6256        7.1924   \n",
       "Plxnb2             5.0743        5.1443        5.1107        2.2122   \n",
       "Gzmb               5.7934        5.8635        5.8686        3.9655   \n",
       "\n",
       "             KO_2_log2CPM  KO_3_log2CPM  \n",
       "gene                                     \n",
       "D17H6S56E-5        7.8119        7.8218  \n",
       "Scd1               4.9264        4.9864  \n",
       "Coro2a             7.2202        7.1495  \n",
       "Plxnb2             2.2622        2.0040  \n",
       "Gzmb               3.9610        4.0665  "
      ]
     },
     "execution_count": 52,
     "metadata": {},
     "output_type": "execute_result"
    }
   ],
   "source": [
    "df.head()"
   ]
  },
  {
   "cell_type": "code",
   "execution_count": 53,
   "id": "e295ac94-5372-460d-83a8-fae96cc9ac8b",
   "metadata": {
    "collapsed": true,
    "execution": {
     "iopub.execute_input": "2021-07-06T14:24:41.049449Z",
     "iopub.status.busy": "2021-07-06T14:24:41.049235Z",
     "iopub.status.idle": "2021-07-06T14:24:41.070676Z",
     "shell.execute_reply": "2021-07-06T14:24:41.070323Z",
     "shell.execute_reply.started": "2021-07-06T14:24:41.049432Z"
    },
    "jupyter": {
     "outputs_hidden": true
    },
    "tags": []
   },
   "outputs": [
    {
     "name": "stderr",
     "output_type": "stream",
     "text": [
      "/home/yli11/.conda/envs/captureC/lib/python3.8/site-packages/HemTools/HemData.py:11: ParserWarning: Falling back to the 'python' engine because the 'c' engine does not support regex separators (separators > 1 char and different from '\\s+' are interpreted as regex); you can avoid this warning by specifying engine='python'.\n",
      "  names = pd.read_csv(f\"{pdir}/../HemData/index.tsv\", sep=\"\\s\", header=None, index_col=0)[1].to_dict()\n"
     ]
    },
    {
     "data": {
      "text/html": [
       "<div>\n",
       "<style scoped>\n",
       "    .dataframe tbody tr th:only-of-type {\n",
       "        vertical-align: middle;\n",
       "    }\n",
       "\n",
       "    .dataframe tbody tr th {\n",
       "        vertical-align: top;\n",
       "    }\n",
       "\n",
       "    .dataframe thead th {\n",
       "        text-align: right;\n",
       "    }\n",
       "</style>\n",
       "<table border=\"1\" class=\"dataframe\">\n",
       "  <thead>\n",
       "    <tr style=\"text-align: right;\">\n",
       "      <th></th>\n",
       "      <th>Mouse</th>\n",
       "      <th>Human</th>\n",
       "    </tr>\n",
       "  </thead>\n",
       "  <tbody>\n",
       "    <tr>\n",
       "      <th>0</th>\n",
       "      <td>1600012H06Rik</td>\n",
       "      <td>C6orf120</td>\n",
       "    </tr>\n",
       "    <tr>\n",
       "      <th>1</th>\n",
       "      <td>1700123O20Rik</td>\n",
       "      <td>C14orf119</td>\n",
       "    </tr>\n",
       "    <tr>\n",
       "      <th>2</th>\n",
       "      <td>1810009A15Rik</td>\n",
       "      <td>C11orf98</td>\n",
       "    </tr>\n",
       "    <tr>\n",
       "      <th>3</th>\n",
       "      <td>1810013L24Rik</td>\n",
       "      <td>C16orf72</td>\n",
       "    </tr>\n",
       "    <tr>\n",
       "      <th>4</th>\n",
       "      <td>2610507B11Rik</td>\n",
       "      <td>KIAA0100</td>\n",
       "    </tr>\n",
       "    <tr>\n",
       "      <th>...</th>\n",
       "      <td>...</td>\n",
       "      <td>...</td>\n",
       "    </tr>\n",
       "    <tr>\n",
       "      <th>1125</th>\n",
       "      <td>Zmynd19</td>\n",
       "      <td>ZMYND19</td>\n",
       "    </tr>\n",
       "    <tr>\n",
       "      <th>1126</th>\n",
       "      <td>Zranb1</td>\n",
       "      <td>ZRANB1</td>\n",
       "    </tr>\n",
       "    <tr>\n",
       "      <th>1127</th>\n",
       "      <td>Zranb2</td>\n",
       "      <td>ZRANB2</td>\n",
       "    </tr>\n",
       "    <tr>\n",
       "      <th>1128</th>\n",
       "      <td>Zrsr1</td>\n",
       "      <td>ZRSR2</td>\n",
       "    </tr>\n",
       "    <tr>\n",
       "      <th>1129</th>\n",
       "      <td>Zyg11b</td>\n",
       "      <td>ZYG11B</td>\n",
       "    </tr>\n",
       "  </tbody>\n",
       "</table>\n",
       "<p>1130 rows × 2 columns</p>\n",
       "</div>"
      ],
      "text/plain": [
       "              Mouse      Human\n",
       "0     1600012H06Rik   C6orf120\n",
       "1     1700123O20Rik  C14orf119\n",
       "2     1810009A15Rik   C11orf98\n",
       "3     1810013L24Rik   C16orf72\n",
       "4     2610507B11Rik   KIAA0100\n",
       "...             ...        ...\n",
       "1125        Zmynd19    ZMYND19\n",
       "1126         Zranb1     ZRANB1\n",
       "1127         Zranb2     ZRANB2\n",
       "1128          Zrsr1      ZRSR2\n",
       "1129         Zyg11b     ZYG11B\n",
       "\n",
       "[1130 rows x 2 columns]"
      ]
     },
     "execution_count": 53,
     "metadata": {},
     "output_type": "execute_result"
    }
   ],
   "source": [
    "hk_genes = HemData.get_housekeeping_genes()\n",
    "hk_genes"
   ]
  },
  {
   "cell_type": "code",
   "execution_count": null,
   "id": "2dec4ec9-586a-4aef-b0b5-e920149d8d6d",
   "metadata": {},
   "outputs": [],
   "source": []
  },
  {
   "cell_type": "code",
   "execution_count": 56,
   "id": "4e23a217-dedd-4a28-bd8f-00897ba36da9",
   "metadata": {
    "execution": {
     "iopub.execute_input": "2021-07-06T14:26:07.486009Z",
     "iopub.status.busy": "2021-07-06T14:26:07.485829Z",
     "iopub.status.idle": "2021-07-06T14:26:07.705210Z",
     "shell.execute_reply": "2021-07-06T14:26:07.704846Z",
     "shell.execute_reply.started": "2021-07-06T14:26:07.485991Z"
    },
    "tags": []
   },
   "outputs": [
    {
     "name": "stderr",
     "output_type": "stream",
     "text": [
      "/home/yli11/.conda/envs/captureC/lib/python3.8/site-packages/HemTools/HemData.py:11: ParserWarning: Falling back to the 'python' engine because the 'c' engine does not support regex separators (separators > 1 char and different from '\\s+' are interpreted as regex); you can avoid this warning by specifying engine='python'.\n",
      "  names = pd.read_csv(f\"{pdir}/../HemData/index.tsv\", sep=\"\\s\", header=None, index_col=0)[1].to_dict()\n"
     ]
    },
    {
     "data": {
      "text/plain": [
       "<matplotlib.legend.Legend at 0x2aad9008ff10>"
      ]
     },
     "execution_count": 56,
     "metadata": {},
     "output_type": "execute_result"
    },
    {
     "data": {
      "image/png": "[encoded data removed]",
      "text/plain": [
       "<Figure size 432x288 with 1 Axes>"
      ]
     },
     "metadata": {
      "needs_background": "light"
     },
     "output_type": "display_data"
    }
   ],
   "source": [
    "A = (df[WT_column_names].mean(axis=1)+df[KO_column_names].mean(axis=1))/2\n",
    "M = df[KO_column_names].mean(axis=1)-df[WT_column_names].mean(axis=1)\n",
    "plt.scatter(x=A,y=M,s=1) # s is point size\n",
    "\n",
    "# deg\n",
    "deg = df[(df['logFC'].abs()>=2)&(df['adj.P.Val']<=0.01)]\n",
    "degA = (deg[WT_column_names].mean(axis=1)+deg[KO_column_names].mean(axis=1))/2\n",
    "degM = deg[KO_column_names].mean(axis=1)-deg[WT_column_names].mean(axis=1)\n",
    "plt.scatter(x=degA,y=degM,s=3,color=\"red\",label=\"DEG\") # s is point size\n",
    "\n",
    "from HemTools import HemData\n",
    "hk_genes = HemData.get_housekeeping_genes()\n",
    "\n",
    "# deg\n",
    "hk = df.loc[df.index.intersection(hk_genes.Mouse)]\n",
    "hkA = (hk[WT_column_names].mean(axis=1)+hk[KO_column_names].mean(axis=1))/2\n",
    "hkM = hk[KO_column_names].mean(axis=1)-hk[WT_column_names].mean(axis=1)\n",
    "plt.scatter(x=hkA,y=hkM,s=3,color=\"purple\",label=\"housekeeping\") # s is point size\n",
    "\n",
    "\n",
    "## add cosmetics\n",
    "plt.title(\"KO vs WT\")\n",
    "plt.xlabel(\"log mean expression\")\n",
    "plt.ylabel(\"log fold change\")\n",
    "plt.legend()"
   ]
  },
  {
   "cell_type": "code",
   "execution_count": null,
   "id": "a7420bdf-036c-4565-a5f0-e8734ec5f3c1",
   "metadata": {},
   "outputs": [],
   "source": []
  },
  {
   "cell_type": "markdown",
   "id": "b656a915-fc0f-431f-adb3-9adbe1538ced",
   "metadata": {},
   "source": [
    "## add more gene categories\n",
    "- differentially expressed genes\n",
    "- housekeeping genes"
   ]
  },
  {
   "cell_type": "code",
   "execution_count": 41,
   "id": "274727ac-b505-43c1-9824-de7803fd102c",
   "metadata": {},
   "outputs": [
    {
     "name": "stderr",
     "output_type": "stream",
     "text": [
      "/home/yli11/.conda/envs/captureC/lib/python3.8/site-packages/HemTools/HemData.py:11: ParserWarning: Falling back to the 'python' engine because the 'c' engine does not support regex separators (separators > 1 char and different from '\\s+' are interpreted as regex); you can avoid this warning by specifying engine='python'.\n",
      "  names = pd.read_csv(f\"{pdir}/../HemData/index.tsv\", sep=\"\\s\", header=None, index_col=0)[1].to_dict()\n"
     ]
    },
    {
     "data": {
      "text/plain": [
       "<matplotlib.legend.Legend at 0x2aad8ffe1e50>"
      ]
     },
     "execution_count": 41,
     "metadata": {},
     "output_type": "execute_result"
    },
    {
     "data": {
      "image/png": "[encoded data removed]",
      "text/plain": [
       "<Figure size 432x288 with 1 Axes>"
      ]
     },
     "metadata": {
      "needs_background": "light"
     },
     "output_type": "display_data"
    }
   ],
   "source": [
    "A = (df[WT_column_names].mean(axis=1)+df[KO_column_names].mean(axis=1))/2\n",
    "M = df[KO_column_names].mean(axis=1)-df[WT_column_names].mean(axis=1)\n",
    "\n",
    "deg = df[(df['logFC'].abs()>=1)&(df['adj.P.Val']<=0.01)]\n",
    "# Tip: use Ctrl+D (Windows) or Command + D (Mac) to do multi-selection and replace\n",
    "degA = (deg[WT_column_names].mean(axis=1)+deg[KO_column_names].mean(axis=1))/2\n",
    "degM = deg[KO_column_names].mean(axis=1)-deg[WT_column_names].mean(axis=1)\n",
    "\n",
    "from HemTools import HemData\n",
    "hk_genes = HemData.get_housekeeping_genes()\n",
    "hk = df.loc[df.index.intersection(hk_genes.Mouse)]\n",
    "# Tip: use Ctrl+D (Windows) or Command + D (Mac) to do multi-selection and replace\n",
    "hkA = (hk[WT_column_names].mean(axis=1)+hk[KO_column_names].mean(axis=1))/2\n",
    "hkM = hk[KO_column_names].mean(axis=1)-hk[WT_column_names].mean(axis=1)\n",
    "\n",
    "\n",
    "plt.scatter(x=A,y=M,s=1,color=\"grey\") # s is point size\n",
    "plt.scatter(x=degA,y=degM,s=3,color=\"#E64B35\",label=\"DEG\") # s is point size\n",
    "plt.scatter(x=hkA,y=hkM,s=3,color=\"purple\",label=\"housekeeping\") # s is point size\n",
    "\n",
    "## add cosmetics\n",
    "plt.title(\"KO vs WT\")\n",
    "plt.xlabel(\"log mean expression\")\n",
    "plt.ylabel(\"log fold change\")\n",
    "plt.legend()"
   ]
  }
 ],
 "metadata": {
  "kernelspec": {
   "display_name": "Python 3",
   "language": "python",
   "name": "python3"
  },
  "language_info": {
   "codemirror_mode": {
    "name": "ipython",
    "version": 3
   },
   "file_extension": ".py",
   "mimetype": "text/x-python",
   "name": "python",
   "nbconvert_exporter": "python",
   "pygments_lexer": "ipython3",
   "version": "3.8.5"
  }
 },
 "nbformat": 4,
 "nbformat_minor": 5
}
