{
 "cells": [
  {
   "cell_type": "markdown",
   "id": "aa60e7b9-7eb8-4d7a-a2b1-c42fccc6e8bb",
   "metadata": {},
   "source": [
    "# Common NGS data formats and tools\n",
    "\n",
    "## Data formats\n",
    "\n",
    "- fasta\n",
    "- fastq\n",
    "- bam / bam.bai / sam\n",
    "- bed / bed4 / bed6 / bed6+4 == narrowPeak / bed12\n",
    "- wiggle / bedgraph / bigwiggle\n",
    "- vcf\n",
    "- gtf / gff / gff3\n",
    "- tsv / csv\n",
    "- .py / .R / .sh / .jar / .pl\n",
    "\n",
    "## Tools\n",
    "\n",
    "- fastqc / fastp\n",
    "- seqtk\n",
    "- BWA / bowtie2 / STAR\n",
    "- samtools \n",
    "- bedtools\n",
    "- deeptools\n",
    "- scripting languange: Python\n",
    "\n"
   ]
  },
  {
   "cell_type": "markdown",
   "id": "c09b29b2-4dbd-4a1e-a8bc-332242d769d7",
   "metadata": {
    "execution": {
     "iopub.execute_input": "2021-08-10T02:54:25.666518Z",
     "iopub.status.busy": "2021-08-10T02:54:25.666012Z",
     "iopub.status.idle": "2021-08-10T02:54:25.678220Z",
     "shell.execute_reply": "2021-08-10T02:54:25.677551Z",
     "shell.execute_reply.started": "2021-08-10T02:54:25.666253Z"
    }
   },
   "source": [
    "## FASTA format\n",
    "\n",
    "An example shown below.\n",
    "\n",
    "```\n",
    ";LCBO - Prolactin precursor - Bovine\n",
    "; a sample sequence in FASTA format\n",
    "; MDSKGSSQKGSRLLLLLVVSNLLLCQGVVSTPVCPNGPGNCQVSLRDLFDRAVMVSHYIHDLSS\n",
    "EMFNEFDKRYAQGKGFITMALNSCHTSSLPTPEDKEQAQQTHHEVLMSLILGLLRSWNDPLYHL\n",
    "VTEVRGMKGAPDAILSRAIEIEEENKRLLEGMEMIFGQVIPGAKETEPYPVWSGLPSLQTKDED\n",
    "ARYSAFYNLLHCLRRDSSKIDTYLKLLNCRIIYNNNC*\n",
    "\n",
    ">MCHU - Calmodulin - Human, rabbit, bovine, rat, and chicken\n",
    "MADQLTEEQIAEFKEAFSLFDKDGDGTITTKELGTVMRSLGQNPTEAELQDMINEVDADGNGTID\n",
    "FPEFLTMMARKMKDTDSEEEIREAFRVFDKDGNGYISAAELRHVMTNLGEKLTDEEVDEMIREA\n",
    "DIDGDGQVNYEEFVQMMTAK*\n",
    "\n",
    ">gi|5524211|gb|AAD44166.1| cytochrome b [Elephas maximus maximus]\n",
    "LCLYTHIGRNIYYGSYLYSETWNTGIMLLLITMATAFMGYVLPWGQMSFWGATVITNLFSAIPYIGTNLV\n",
    "EWIWGGFSVDKATLNRFFAFHFILPFTMVALAGVHLTFLHETGSNNPLGLTSDSDKIPFHPYYTIKDFLG\n",
    "LLILILLLLLLALLSPDMLGDPDNHMPADPLNTPLHIKPEWYFLFAYAILRSVPNKLGGVLALFLSIVIL\n",
    "GLMPFLHTSKHRSMMLRPLSQALFWTLTMDLLTLTWIGSQPVEYPYTIIGQMASILYFSIILAFLPIAGX\n",
    "IENY\n",
    "```\n",
    "\n",
    "### Syntax\n",
    "\n",
    "- \";\" is for comments\n",
    "- \">\" is for the name of a DNA/RNA/protein sequence\n",
    "- The sequence name can only be written in one line, no matter how long it is\n",
    "- The next line following \">\" should not be an empty line\n",
    "\n",
    "```\n",
    "; invalid FASTA format\n",
    ">Sequence_1\n",
    "\n",
    "ACTTGG\n",
    "\n",
    "; invalid FASTA format\n",
    ">Sequence_2\n",
    ">split line for names new sequence in human\n",
    "ACGTGG\n",
    "```\n",
    "\n",
    "### Other notes\n",
    "\n",
    "#### IUPAC code for DNA letters:\n",
    "\n",
    "\n",
    "| IUPAC nucleotide code | Base                |   |   |   |\n",
    "|-----------------------|---------------------|---|---|---|\n",
    "| A                     | Adenine             |   |   |   |\n",
    "| C                     | Cytosine            |   |   |   |\n",
    "| G                     | Guanine             |   |   |   |\n",
    "| T (or U)              | Thymine (or Uracil) |   |   |   |\n",
    "| R                     | A or G              |   |   |   |\n",
    "| Y                     | C or T              |   |   |   |\n",
    "| S                     | G or C              |   |   |   |\n",
    "| W                     | A or T              |   |   |   |\n",
    "| K                     | G or T              |   |   |   |\n",
    "| M                     | A or C              |   |   |   |\n",
    "| B                     | C or G or T         |   |   |   |\n",
    "| D                     | A or G or T         |   |   |   |\n",
    "| H                     | A or C or T         |   |   |   |\n",
    "| V                     | A or C or G         |   |   |   |\n",
    "| N                     | any base            |   |   |   |\n",
    "| . or -                | gap                 |   |   |   |\n",
    "\n",
    "#### Filename extension\n",
    "\n",
    "| Extension    | Meaning                          | Notes                                                                                                   |\n",
    "|--------------|----------------------------------|---------------------------------------------------------------------------------------------------------|\n",
    "| fasta, fa | generic FASTA                    | Any generic fasta file. See below for other common FASTA file extensions                                |\n",
    "| fna          | FASTA nucleic acid               | Used generically to specify nucleic acids.                                                              |\n",
    "| ffn          | FASTA nucleotide of gene regions | Contains coding regions for a genome.                                                                   |\n",
    "| faa          | FASTA amino acid                 | Contains amino acid sequences. A multiple protein fasta file can have the more specific extension mpfa. |\n",
    "| frn          | FASTA non-coding RNA             | Contains non-coding RNA regions for a genome, in DNA alphabet e.g. tRNA, rRNA                           |\n",
    "\n",
    "### Reference\n",
    "\n",
    "See [this](https://en.wikipedia.org/wiki/FASTA_format) wiki."
   ]
  },
  {
   "cell_type": "markdown",
   "id": "f28d13e7-2653-4dfc-90c9-fef67e99b442",
   "metadata": {
    "execution": {
     "iopub.execute_input": "2021-08-10T03:09:10.905723Z",
     "iopub.status.busy": "2021-08-10T03:09:10.905492Z",
     "iopub.status.idle": "2021-08-10T03:09:10.908522Z",
     "shell.execute_reply": "2021-08-10T03:09:10.908105Z",
     "shell.execute_reply.started": "2021-08-10T03:09:10.905703Z"
    }
   },
   "source": [
    "## FASTA examples"
   ]
  },
  {
   "cell_type": "markdown",
   "id": "1a6c413f-cef5-40ba-b439-f618f7f2b268",
   "metadata": {},
   "source": [
    "### 1. Download human genome sequence from UCSC\n",
    "\n",
    "```shell\n",
    "wget https://hgdownload.soe.ucsc.edu/goldenPath/hg38/bigZips/hg38.fa.gz\n",
    "\n",
    "ls\n",
    "\n",
    "gunzip hg38.fa.gz\n",
    "\n",
    "head hg38.fa\n",
    "```\n"
   ]
  },
  {
   "cell_type": "markdown",
   "id": "9a35a051-d5bb-41cc-ad11-7187e78b7442",
   "metadata": {},
   "source": [
    "```\n",
    "# How many chromosomes do we have?\n",
    "grep \">\" hg38.fa | wc -l\n",
    "```"
   ]
  },
  {
   "cell_type": "markdown",
   "id": "243acbc3-c3fb-4bf6-a28c-87f042e9e5c1",
   "metadata": {},
   "source": [
    "### 2. Sequence Retrieval using online tools\n",
    "\n",
    "This is a common task. For example: given several genes, we want to extract gene promoters, or gene exons. \n",
    "\n",
    "The question is simple, however, for many people who have never done it before, what we really need is a list of `genomic coordinates`.\n",
    "\n"
   ]
  },
  {
   "cell_type": "markdown",
   "id": "27aa565a-d52b-4d0b-80ff-1ee7d6ce794e",
   "metadata": {
    "execution": {
     "iopub.execute_input": "2021-08-10T03:35:31.770155Z",
     "iopub.status.busy": "2021-08-10T03:35:31.769943Z",
     "iopub.status.idle": "2021-08-10T03:35:31.773470Z",
     "shell.execute_reply": "2021-08-10T03:35:31.772887Z",
     "shell.execute_reply.started": "2021-08-10T03:35:31.770137Z"
    }
   },
   "source": [
    "\n",
    "#### Solution 1: Using ProteinPaint (https://proteinpaint.stjude.org/)\n",
    "\n",
    "Fastest way for a single given genomic coordinate: e.g. `chr11:5248160-5248251` or `chr11\t5248160\t5248251`\n",
    "\n",
    "To get the reverse completement, just use some online tool, such as: https://www.bioinformatics.org/sms/rev_comp.html"
   ]
  },
  {
   "cell_type": "markdown",
   "id": "db1ad53c-a412-4d6f-8255-7e5c4ceaae98",
   "metadata": {
    "execution": {
     "iopub.execute_input": "2021-08-10T03:42:58.800837Z",
     "iopub.status.busy": "2021-08-10T03:42:58.800618Z",
     "iopub.status.idle": "2021-08-10T03:42:58.804192Z",
     "shell.execute_reply": "2021-08-10T03:42:58.803614Z",
     "shell.execute_reply.started": "2021-08-10T03:42:58.800819Z"
    },
    "tags": []
   },
   "source": [
    "\n",
    "#### Solution 2: Using Ensembl BioMart (https://www.ensembl.org/biomart/martview/)\n",
    "\n",
    "Google `ensembl biomart`, click on the first hit.\n",
    "\n",
    "Convenient way for getting promoter/UTR/exon/intron sequences given a list of gene names/IDs.\n",
    "\n",
    "**Exercise: get the promoter sequences for these genes**\n",
    "\n",
    "```\n",
    "Hbg1\n",
    "Hbg2\n",
    "hbb\n",
    "hba1\n",
    "```"
   ]
  },
  {
   "cell_type": "markdown",
   "id": "6799a71d-1006-456a-acd6-3acf8a9acef2",
   "metadata": {
    "execution": {
     "iopub.execute_input": "2021-08-10T03:45:54.588114Z",
     "iopub.status.busy": "2021-08-10T03:45:54.587890Z",
     "iopub.status.idle": "2021-08-10T03:45:54.591441Z",
     "shell.execute_reply": "2021-08-10T03:45:54.590877Z",
     "shell.execute_reply.started": "2021-08-10T03:45:54.588096Z"
    },
    "tags": []
   },
   "source": [
    "\n",
    "### 3: Sequence Retrieval using [bedtools](https://bedtools.readthedocs.io/en/latest/)\n",
    "\n",
    "The ultimate solution.\n",
    "\n"
   ]
  },
  {
   "cell_type": "code",
   "execution_count": 6,
   "id": "0ce266e2-d992-40e3-9086-4ae63645f89c",
   "metadata": {
    "execution": {
     "iopub.execute_input": "2021-08-10T03:57:11.276391Z",
     "iopub.status.busy": "2021-08-10T03:57:11.276171Z",
     "iopub.status.idle": "2021-08-10T03:57:11.550449Z",
     "shell.execute_reply": "2021-08-10T03:57:11.549983Z",
     "shell.execute_reply.started": "2021-08-10T03:57:11.276372Z"
    }
   },
   "outputs": [
    {
     "name": "stdout",
     "output_type": "stream",
     "text": [
      "\n",
      "Tool:    bedtools getfasta (aka fastaFromBed)\n",
      "Version: v2.30.0\n",
      "Summary: Extract DNA sequences from a fasta file based on feature coordinates.\n",
      "\n",
      "Usage:   bedtools getfasta [OPTIONS] -fi <fasta> -bed <bed/gff/vcf>\n",
      "\n",
      "Options: \n",
      "\t-fi\t\tInput FASTA file\n",
      "\t-fo\t\tOutput file (opt., default is STDOUT\n",
      "\t-bed\t\tBED/GFF/VCF file of ranges to extract from -fi\n",
      "\t-name\t\tUse the name field and coordinates for the FASTA header\n",
      "\t-name+\t\t(deprecated) Use the name field and coordinates for the FASTA header\n",
      "\t-nameOnly\tUse the name field for the FASTA header\n",
      "\t-split\t\tGiven BED12 fmt., extract and concatenate the sequences\n",
      "\t\t\tfrom the BED \"blocks\" (e.g., exons)\n",
      "\t-tab\t\tWrite output in TAB delimited format.\n",
      "\t-bedOut\t\tReport extract sequences in a tab-delimited BED format instead of in FASTA format.\n",
      "\t\t\t- Default is FASTA format.\n",
      "\t-s\t\tForce strandedness. If the feature occupies the antisense,\n",
      "\t\t\tstrand, the sequence will be reverse complemented.\n",
      "\t\t\t- By default, strand information is ignored.\n",
      "\t-fullHeader\tUse full fasta header.\n",
      "\t\t\t- By default, only the word before the first space or tab \n",
      "\t\t\tis used.\n",
      "\t-rna\tThe FASTA is RNA not DNA. Reverse complementation handled accordingly.\n",
      "\n"
     ]
    }
   ],
   "source": [
    "!bedtools getfasta"
   ]
  },
  {
   "cell_type": "markdown",
   "id": "eecced49-c2de-4946-b2a2-6fa2d2f7ab24",
   "metadata": {
    "execution": {
     "iopub.execute_input": "2021-08-10T04:01:53.340011Z",
     "iopub.status.busy": "2021-08-10T04:01:53.339759Z",
     "iopub.status.idle": "2021-08-10T04:01:53.343177Z",
     "shell.execute_reply": "2021-08-10T04:01:53.342616Z",
     "shell.execute_reply.started": "2021-08-10T04:01:53.339990Z"
    }
   },
   "source": [
    "## bed format\n",
    "\n",
    "We are going to use a bed6 or a standard bed format, which contains 6 columns: chr, start, end, name, value, strand."
   ]
  },
  {
   "cell_type": "code",
   "execution_count": 8,
   "id": "a01b805d-64c8-4785-9a87-5dc2ff162206",
   "metadata": {
    "execution": {
     "iopub.execute_input": "2021-08-10T04:02:07.233782Z",
     "iopub.status.busy": "2021-08-10T04:02:07.233566Z",
     "iopub.status.idle": "2021-08-10T04:02:07.356037Z",
     "shell.execute_reply": "2021-08-10T04:02:07.355628Z",
     "shell.execute_reply.started": "2021-08-10T04:02:07.233764Z"
    }
   },
   "outputs": [
    {
     "name": "stdout",
     "output_type": "stream",
     "text": [
      "chr6\t92372038\t92372057\tJASPA_MA0139.1_CTCF_chr6_92372039\t9.80328\t-\n",
      "chr1\t113890670\t113890689\tJASPA_MA0139.1_CTCF_chr1_113890671\t8.7541\t-\n",
      "chr16\t12677107\t12677126\tJASPA_MA0139.1_CTCF_chr16_12677108\t13.9836\t-\n",
      "chr11\t116687055\t116687074\tJASPA_MA0139.1_CTCF_chr11_116687056\t9.04918\t-\n",
      "chr13\t32306850\t32306869\tJASPA_MA0139.1_CTCF_chr13_32306851\t8.11475\t+\n",
      "chr4\t55038826\t55038845\tJASPA_MA0139.1_CTCF_chr4_55038827\t8.18033\t+\n",
      "chr4\t116198084\t116198103\tJASPA_MA0139.1_CTCF_chr4_116198085\t12.0328\t-\n",
      "chr12\t24244394\t24244413\tJASPA_MA0139.1_CTCF_chr12_24244395\t8.44262\t-\n",
      "chr8\t47186476\t47186495\tJASPA_MA0139.1_CTCF_chr8_47186477\t8.85246\t+\n",
      "chr4\t82671394\t82671413\tJASPA_MA0139.1_CTCF_chr4_82671395\t9.55738\t-\n"
     ]
    }
   ],
   "source": [
    "!head CTCF.hg38.random.bed"
   ]
  },
  {
   "cell_type": "markdown",
   "id": "8199ef47-e9e8-4e6e-99ae-08069524380f",
   "metadata": {
    "execution": {
     "iopub.execute_input": "2021-08-10T04:07:56.480528Z",
     "iopub.status.busy": "2021-08-10T04:07:56.480302Z",
     "iopub.status.idle": "2021-08-10T04:07:56.484641Z",
     "shell.execute_reply": "2021-08-10T04:07:56.484143Z",
     "shell.execute_reply.started": "2021-08-10T04:07:56.480510Z"
    },
    "tags": []
   },
   "source": [
    "#### Other bed formats, [ref](https://bedtools.readthedocs.io/en/latest/content/general-usage.html)\n",
    "    \n",
    "BED3: A BED file where each feature is described by chrom, start, and end.\n",
    "\n",
    "For example: `chr1          11873   14409`\n",
    "\n",
    "BED4: A BED file where each feature is described by chrom, start, end, and name.\n",
    "\n",
    "For example: `chr1  11873  14409  uc001aaa.3`\n",
    "\n",
    "BED5: A BED file where each feature is described by chrom, start, end, name, and score.\n",
    "\n",
    "For example: `chr1 11873 14409 uc001aaa.3 0`\n",
    "\n",
    "BED6: A BED file where each feature is described by chrom, start, end, name, score, and strand.\n",
    "\n",
    "For example: `chr1 11873 14409 uc001aaa.3 0 +`\n",
    "\n",
    "BED12: A BED file where each feature is described by all twelve columns listed above.\n",
    "\n",
    "For example: `chr1 11873 14409 uc001aaa.3 0 + 11873 11873 0 3 354,109,1189, 0,739,1347`"
   ]
  },
  {
   "cell_type": "markdown",
   "id": "67c6190f-319d-42fb-96a2-e83c1a2da957",
   "metadata": {
    "execution": {
     "iopub.execute_input": "2021-08-10T04:12:06.163146Z",
     "iopub.status.busy": "2021-08-10T04:12:06.162927Z",
     "iopub.status.idle": "2021-08-10T04:12:06.165297Z",
     "shell.execute_reply": "2021-08-10T04:12:06.164880Z",
     "shell.execute_reply.started": "2021-08-10T04:12:06.163127Z"
    },
    "tags": []
   },
   "source": [
    "#### Standard bedtools getfasta usage"
   ]
  },
  {
   "cell_type": "code",
   "execution_count": 12,
   "id": "ac2648fe-7c6c-427b-974a-58dc7d587b3a",
   "metadata": {
    "execution": {
     "iopub.execute_input": "2021-08-10T04:11:21.809274Z",
     "iopub.status.busy": "2021-08-10T04:11:21.809042Z",
     "iopub.status.idle": "2021-08-10T04:11:21.943097Z",
     "shell.execute_reply": "2021-08-10T04:11:21.942588Z",
     "shell.execute_reply.started": "2021-08-10T04:11:21.809254Z"
    },
    "tags": []
   },
   "outputs": [
    {
     "name": "stdout",
     "output_type": "stream",
     "text": [
      ">chr6:92372038-92372057\n",
      "TAGCTCCCTCTTCTGAAGC\n",
      ">chr1:113890670-113890689\n",
      "TCTTGCCACCCTCTGACCA\n",
      ">chr16:12677107-12677126\n",
      "GACTGGCACCTGCTGGGCA\n",
      ">chr11:116687055-116687074\n",
      "CACCTCCACCTCTAGGTCT\n",
      ">chr13:32306850-32306869\n",
      "aatccaggaggtggagatt\n"
     ]
    }
   ],
   "source": [
    "!bedtools getfasta -fi hg38.fa -bed CTCF.hg38.random.bed -fo CTCF.fa ; head CTCF.fa"
   ]
  },
  {
   "cell_type": "markdown",
   "id": "8e609b6e-74b4-42d8-bdd7-bd78a2e4cef9",
   "metadata": {},
   "source": [
    "#### strand-specific sequence"
   ]
  },
  {
   "cell_type": "code",
   "execution_count": 13,
   "id": "962c74db-2757-478e-93ae-a97b99dbf252",
   "metadata": {
    "execution": {
     "iopub.execute_input": "2021-08-10T04:11:31.319351Z",
     "iopub.status.busy": "2021-08-10T04:11:31.319128Z",
     "iopub.status.idle": "2021-08-10T04:11:31.450574Z",
     "shell.execute_reply": "2021-08-10T04:11:31.450078Z",
     "shell.execute_reply.started": "2021-08-10T04:11:31.319330Z"
    }
   },
   "outputs": [
    {
     "name": "stdout",
     "output_type": "stream",
     "text": [
      ">chr6:92372038-92372057(-)\n",
      "GCTTCAGAAGAGGGAGCTA\n",
      ">chr1:113890670-113890689(-)\n",
      "TGGTCAGAGGGTGGCAAGA\n",
      ">chr16:12677107-12677126(-)\n",
      "TGCCCAGCAGGTGCCAGTC\n",
      ">chr11:116687055-116687074(-)\n",
      "AGACCTAGAGGTGGAGGTG\n",
      ">chr13:32306850-32306869(+)\n",
      "aatccaggaggtggagatt\n"
     ]
    }
   ],
   "source": [
    "!bedtools getfasta -fi hg38.fa -bed CTCF.hg38.random.bed -fo CTCF.fa -s; head CTCF.fa"
   ]
  },
  {
   "cell_type": "markdown",
   "id": "6c85bdfb-8443-4233-8108-e412752fc73a",
   "metadata": {},
   "source": [
    "#### use the original name as the FASTA header"
   ]
  },
  {
   "cell_type": "code",
   "execution_count": 15,
   "id": "335eba04-2ff3-4a5c-8d08-3dddc77675db",
   "metadata": {
    "execution": {
     "iopub.execute_input": "2021-08-10T04:13:06.949328Z",
     "iopub.status.busy": "2021-08-10T04:13:06.949110Z",
     "iopub.status.idle": "2021-08-10T04:13:07.205163Z",
     "shell.execute_reply": "2021-08-10T04:13:07.204666Z",
     "shell.execute_reply.started": "2021-08-10T04:13:06.949310Z"
    }
   },
   "outputs": [
    {
     "name": "stdout",
     "output_type": "stream",
     "text": [
      ">JASPA_MA0139.1_CTCF_chr6_92372039::chr6:92372038-92372057(-)\n",
      "GCTTCAGAAGAGGGAGCTA\n",
      ">JASPA_MA0139.1_CTCF_chr1_113890671::chr1:113890670-113890689(-)\n",
      "TGGTCAGAGGGTGGCAAGA\n",
      ">JASPA_MA0139.1_CTCF_chr16_12677108::chr16:12677107-12677126(-)\n",
      "TGCCCAGCAGGTGCCAGTC\n",
      ">JASPA_MA0139.1_CTCF_chr11_116687056::chr11:116687055-116687074(-)\n",
      "AGACCTAGAGGTGGAGGTG\n",
      ">JASPA_MA0139.1_CTCF_chr13_32306851::chr13:32306850-32306869(+)\n",
      "aatccaggaggtggagatt\n"
     ]
    }
   ],
   "source": [
    "!bedtools getfasta -fi hg38.fa -bed CTCF.hg38.random.bed -fo CTCF.fa -s -name; head CTCF.fa"
   ]
  },
  {
   "cell_type": "markdown",
   "id": "3beb1b3f-9b74-451d-a187-1ffcfc3c0c27",
   "metadata": {
    "execution": {
     "iopub.execute_input": "2021-08-10T04:14:07.909616Z",
     "iopub.status.busy": "2021-08-10T04:14:07.909386Z",
     "iopub.status.idle": "2021-08-10T04:14:07.911728Z",
     "shell.execute_reply": "2021-08-10T04:14:07.911291Z",
     "shell.execute_reply.started": "2021-08-10T04:14:07.909595Z"
    },
    "tags": []
   },
   "source": [
    "#### In new bedtools version, -name adds the coordinates, we need to use -nameOnly to just use the original name"
   ]
  },
  {
   "cell_type": "code",
   "execution_count": 17,
   "id": "d96d7848-bc76-4f54-b5e6-d9d3ac38c71f",
   "metadata": {
    "execution": {
     "iopub.execute_input": "2021-08-10T04:14:15.008560Z",
     "iopub.status.busy": "2021-08-10T04:14:15.008339Z",
     "iopub.status.idle": "2021-08-10T04:14:15.186235Z",
     "shell.execute_reply": "2021-08-10T04:14:15.185692Z",
     "shell.execute_reply.started": "2021-08-10T04:14:15.008541Z"
    }
   },
   "outputs": [
    {
     "name": "stdout",
     "output_type": "stream",
     "text": [
      ">JASPA_MA0139.1_CTCF_chr6_92372039(-)\n",
      "GCTTCAGAAGAGGGAGCTA\n",
      ">JASPA_MA0139.1_CTCF_chr1_113890671(-)\n",
      "TGGTCAGAGGGTGGCAAGA\n",
      ">JASPA_MA0139.1_CTCF_chr16_12677108(-)\n",
      "TGCCCAGCAGGTGCCAGTC\n",
      ">JASPA_MA0139.1_CTCF_chr11_116687056(-)\n",
      "AGACCTAGAGGTGGAGGTG\n",
      ">JASPA_MA0139.1_CTCF_chr13_32306851(+)\n",
      "aatccaggaggtggagatt\n"
     ]
    }
   ],
   "source": [
    "!bedtools getfasta -fi hg38.fa -bed CTCF.hg38.random.bed -fo CTCF.fa -s -nameOnly; head CTCF.fa"
   ]
  },
  {
   "cell_type": "markdown",
   "id": "c4806244-1d17-4b0f-868d-1297f53251b7",
   "metadata": {},
   "source": [
    "#### TSV output"
   ]
  },
  {
   "cell_type": "code",
   "execution_count": 19,
   "id": "62610017-1dec-46cc-9d5e-16c3c70004c3",
   "metadata": {
    "execution": {
     "iopub.execute_input": "2021-08-10T04:15:44.006795Z",
     "iopub.status.busy": "2021-08-10T04:15:44.006569Z",
     "iopub.status.idle": "2021-08-10T04:15:44.180161Z",
     "shell.execute_reply": "2021-08-10T04:15:44.179669Z",
     "shell.execute_reply.started": "2021-08-10T04:15:44.006775Z"
    },
    "tags": []
   },
   "outputs": [
    {
     "name": "stdout",
     "output_type": "stream",
     "text": [
      "JASPA_MA0139.1_CTCF_chr6_92372039(-)\tGCTTCAGAAGAGGGAGCTA\n",
      "JASPA_MA0139.1_CTCF_chr1_113890671(-)\tTGGTCAGAGGGTGGCAAGA\n",
      "JASPA_MA0139.1_CTCF_chr16_12677108(-)\tTGCCCAGCAGGTGCCAGTC\n",
      "JASPA_MA0139.1_CTCF_chr11_116687056(-)\tAGACCTAGAGGTGGAGGTG\n",
      "JASPA_MA0139.1_CTCF_chr13_32306851(+)\taatccaggaggtggagatt\n",
      "JASPA_MA0139.1_CTCF_chr4_55038827(+)\taagtcagcaggtgccacaa\n",
      "JASPA_MA0139.1_CTCF_chr4_116198085(-)\tctgccacaagaggatacaa\n",
      "JASPA_MA0139.1_CTCF_chr12_24244395(-)\tCAGTCAGTAGGAGGGGCTG\n",
      "JASPA_MA0139.1_CTCF_chr8_47186477(+)\ttaatcaccagtggtcagta\n",
      "JASPA_MA0139.1_CTCF_chr4_82671395(-)\ttagcctgtagatgtcaatt\n"
     ]
    }
   ],
   "source": [
    "!bedtools getfasta -fi hg38.fa -bed CTCF.hg38.random.bed -fo CTCF.fa -s -nameOnly -tab; head CTCF.fa"
   ]
  },
  {
   "cell_type": "markdown",
   "id": "0ebb170d-4eed-415b-8a92-d5a5db8ee63a",
   "metadata": {
    "execution": {
     "iopub.execute_input": "2021-08-10T04:18:56.327723Z",
     "iopub.status.busy": "2021-08-10T04:18:56.327489Z",
     "iopub.status.idle": "2021-08-10T04:18:56.330527Z",
     "shell.execute_reply": "2021-08-10T04:18:56.329993Z",
     "shell.execute_reply.started": "2021-08-10T04:18:56.327702Z"
    }
   },
   "source": [
    "\n",
    "### 4: Sequence Retrieval using Python\n",
    "\n",
    "The ultimate solution for more customized analyses.\n"
   ]
  },
  {
   "cell_type": "markdown",
   "id": "9cf585da-3a3a-4d5d-91b7-c18ca2701390",
   "metadata": {
    "execution": {
     "iopub.execute_input": "2021-08-10T05:50:27.085489Z",
     "iopub.status.busy": "2021-08-10T05:50:27.085257Z",
     "iopub.status.idle": "2021-08-10T05:50:27.087704Z",
     "shell.execute_reply": "2021-08-10T05:50:27.087254Z",
     "shell.execute_reply.started": "2021-08-10T05:50:27.085471Z"
    },
    "tags": []
   },
   "source": [
    "#### PyRanges"
   ]
  },
  {
   "cell_type": "code",
   "execution_count": 56,
   "id": "70ab7266-e79e-4d99-ad7f-6d268d48a52e",
   "metadata": {
    "execution": {
     "iopub.execute_input": "2021-08-10T05:16:39.878053Z",
     "iopub.status.busy": "2021-08-10T05:16:39.877773Z",
     "iopub.status.idle": "2021-08-10T05:16:39.880888Z",
     "shell.execute_reply": "2021-08-10T05:16:39.880310Z",
     "shell.execute_reply.started": "2021-08-10T05:16:39.878033Z"
    },
    "tags": []
   },
   "outputs": [],
   "source": [
    "import pyranges as pr\n",
    "import pandas as pd"
   ]
  },
  {
   "cell_type": "code",
   "execution_count": 57,
   "id": "5c31bf6d-157b-48fa-bc11-18cede30859d",
   "metadata": {
    "execution": {
     "iopub.execute_input": "2021-08-10T05:16:41.227250Z",
     "iopub.status.busy": "2021-08-10T05:16:41.226971Z",
     "iopub.status.idle": "2021-08-10T05:16:41.376931Z",
     "shell.execute_reply": "2021-08-10T05:16:41.376263Z",
     "shell.execute_reply.started": "2021-08-10T05:16:41.227230Z"
    },
    "tags": []
   },
   "outputs": [
    {
     "data": {
      "text/html": [
       "<div>\n",
       "<style scoped>\n",
       "    .dataframe tbody tr th:only-of-type {\n",
       "        vertical-align: middle;\n",
       "    }\n",
       "\n",
       "    .dataframe tbody tr th {\n",
       "        vertical-align: top;\n",
       "    }\n",
       "\n",
       "    .dataframe thead th {\n",
       "        text-align: right;\n",
       "    }\n",
       "</style>\n",
       "<table border=\"1\" class=\"dataframe\">\n",
       "  <thead>\n",
       "    <tr style=\"text-align: right;\">\n",
       "      <th></th>\n",
       "      <th>Chromosome</th>\n",
       "      <th>Start</th>\n",
       "      <th>End</th>\n",
       "      <th>Name</th>\n",
       "      <th>Score</th>\n",
       "      <th>Strand</th>\n",
       "    </tr>\n",
       "  </thead>\n",
       "  <tbody>\n",
       "    <tr>\n",
       "      <th>0</th>\n",
       "      <td>chr1</td>\n",
       "      <td>11804507</td>\n",
       "      <td>11804526</td>\n",
       "      <td>JASPA_MA0139.1_CTCF_chr1_11804508</td>\n",
       "      <td>13.27870</td>\n",
       "      <td>+</td>\n",
       "    </tr>\n",
       "    <tr>\n",
       "      <th>1</th>\n",
       "      <td>chr1</td>\n",
       "      <td>29824616</td>\n",
       "      <td>29824635</td>\n",
       "      <td>JASPA_MA0139.1_CTCF_chr1_29824617</td>\n",
       "      <td>9.62295</td>\n",
       "      <td>+</td>\n",
       "    </tr>\n",
       "    <tr>\n",
       "      <th>2</th>\n",
       "      <td>chr1</td>\n",
       "      <td>23368354</td>\n",
       "      <td>23368373</td>\n",
       "      <td>JASPA_MA0139.1_CTCF_chr1_23368355</td>\n",
       "      <td>15.57380</td>\n",
       "      <td>-</td>\n",
       "    </tr>\n",
       "    <tr>\n",
       "      <th>3</th>\n",
       "      <td>chr1</td>\n",
       "      <td>29744978</td>\n",
       "      <td>29744997</td>\n",
       "      <td>JASPA_MA0139.1_CTCF_chr1_29744979</td>\n",
       "      <td>8.57377</td>\n",
       "      <td>-</td>\n",
       "    </tr>\n",
       "    <tr>\n",
       "      <th>4</th>\n",
       "      <td>chr1</td>\n",
       "      <td>113890670</td>\n",
       "      <td>113890689</td>\n",
       "      <td>JASPA_MA0139.1_CTCF_chr1_113890671</td>\n",
       "      <td>8.75410</td>\n",
       "      <td>-</td>\n",
       "    </tr>\n",
       "    <tr>\n",
       "      <th>5</th>\n",
       "      <td>chr1</td>\n",
       "      <td>116134359</td>\n",
       "      <td>116134378</td>\n",
       "      <td>JASPA_MA0139.1_CTCF_chr1_116134360</td>\n",
       "      <td>11.63930</td>\n",
       "      <td>-</td>\n",
       "    </tr>\n",
       "    <tr>\n",
       "      <th>6</th>\n",
       "      <td>chr1</td>\n",
       "      <td>153684245</td>\n",
       "      <td>153684264</td>\n",
       "      <td>JASPA_MA0139.1_CTCF_chr1_153684246</td>\n",
       "      <td>8.45902</td>\n",
       "      <td>-</td>\n",
       "    </tr>\n",
       "    <tr>\n",
       "      <th>7</th>\n",
       "      <td>chr1</td>\n",
       "      <td>223429627</td>\n",
       "      <td>223429646</td>\n",
       "      <td>JASPA_MA0139.1_CTCF_chr1_223429628</td>\n",
       "      <td>10.93440</td>\n",
       "      <td>-</td>\n",
       "    </tr>\n",
       "  </tbody>\n",
       "</table>\n",
       "</div>"
      ],
      "text/plain": [
       "+--------------+-----------+-----------+-------+\n",
       "| Chromosome   |     Start |       End | +3    |\n",
       "| (category)   |   (int32) |   (int32) | ...   |\n",
       "|--------------+-----------+-----------+-------|\n",
       "| chr1         |  11804507 |  11804526 | ...   |\n",
       "| chr1         |  29824616 |  29824635 | ...   |\n",
       "| chr1         |  23368354 |  23368373 | ...   |\n",
       "| chr1         |  29744978 |  29744997 | ...   |\n",
       "| chr1         | 113890670 | 113890689 | ...   |\n",
       "| chr1         | 116134359 | 116134378 | ...   |\n",
       "| chr1         | 153684245 | 153684264 | ...   |\n",
       "| chr1         | 223429627 | 223429646 | ...   |\n",
       "+--------------+-----------+-----------+-------+\n",
       "Stranded PyRanges object has 8 rows and 6 columns from 1 chromosomes.\n",
       "For printing, the PyRanges was sorted on Chromosome and Strand.\n",
       "3 hidden columns: Name, Score, Strand"
      ]
     },
     "execution_count": 57,
     "metadata": {},
     "output_type": "execute_result"
    }
   ],
   "source": [
    "ctcf = pr.read_bed(\"CTCF.hg38.random.bed\",as_df=False).sort() # sort will increase downstream analysis speed\n",
    "ctcf.head()"
   ]
  },
  {
   "cell_type": "code",
   "execution_count": 58,
   "id": "ab9d938b-cf56-4721-bffa-846bc676cc43",
   "metadata": {
    "execution": {
     "iopub.execute_input": "2021-08-10T05:16:43.312294Z",
     "iopub.status.busy": "2021-08-10T05:16:43.312015Z",
     "iopub.status.idle": "2021-08-10T05:16:43.316358Z",
     "shell.execute_reply": "2021-08-10T05:16:43.315805Z",
     "shell.execute_reply.started": "2021-08-10T05:16:43.312273Z"
    },
    "tags": []
   },
   "outputs": [
    {
     "data": {
      "text/plain": [
       "pyranges.pyranges.PyRanges"
      ]
     },
     "execution_count": 58,
     "metadata": {},
     "output_type": "execute_result"
    }
   ],
   "source": [
    "type(ctcf)"
   ]
  },
  {
   "cell_type": "code",
   "execution_count": 59,
   "id": "59e5f2b2-5f9e-4cb5-9fa0-42d8b7690bd0",
   "metadata": {
    "execution": {
     "iopub.execute_input": "2021-08-10T05:16:45.025649Z",
     "iopub.status.busy": "2021-08-10T05:16:45.025364Z",
     "iopub.status.idle": "2021-08-10T05:16:49.790159Z",
     "shell.execute_reply": "2021-08-10T05:16:49.789654Z",
     "shell.execute_reply.started": "2021-08-10T05:16:45.025629Z"
    },
    "tags": []
   },
   "outputs": [],
   "source": [
    "ctcf.seq = pr.get_fasta(ctcf.unstrand(), \"hg38.fa\")"
   ]
  },
  {
   "cell_type": "code",
   "execution_count": 60,
   "id": "b0f0484f-13b2-4420-abac-4d9ada18b7a8",
   "metadata": {
    "execution": {
     "iopub.execute_input": "2021-08-10T05:16:49.791143Z",
     "iopub.status.busy": "2021-08-10T05:16:49.790945Z",
     "iopub.status.idle": "2021-08-10T05:16:49.900351Z",
     "shell.execute_reply": "2021-08-10T05:16:49.899960Z",
     "shell.execute_reply.started": "2021-08-10T05:16:49.791125Z"
    },
    "tags": []
   },
   "outputs": [
    {
     "data": {
      "text/html": [
       "<div>\n",
       "<style scoped>\n",
       "    .dataframe tbody tr th:only-of-type {\n",
       "        vertical-align: middle;\n",
       "    }\n",
       "\n",
       "    .dataframe tbody tr th {\n",
       "        vertical-align: top;\n",
       "    }\n",
       "\n",
       "    .dataframe thead th {\n",
       "        text-align: right;\n",
       "    }\n",
       "</style>\n",
       "<table border=\"1\" class=\"dataframe\">\n",
       "  <thead>\n",
       "    <tr style=\"text-align: right;\">\n",
       "      <th></th>\n",
       "      <th>Chromosome</th>\n",
       "      <th>Start</th>\n",
       "      <th>End</th>\n",
       "      <th>Name</th>\n",
       "      <th>Score</th>\n",
       "      <th>Strand</th>\n",
       "      <th>seq</th>\n",
       "    </tr>\n",
       "  </thead>\n",
       "  <tbody>\n",
       "    <tr>\n",
       "      <th>0</th>\n",
       "      <td>chr1</td>\n",
       "      <td>11804507</td>\n",
       "      <td>11804526</td>\n",
       "      <td>JASPA_MA0139.1_CTCF_chr1_11804508</td>\n",
       "      <td>13.27870</td>\n",
       "      <td>+</td>\n",
       "      <td>AGGCCAACAGAGGGCATAG</td>\n",
       "    </tr>\n",
       "    <tr>\n",
       "      <th>1</th>\n",
       "      <td>chr1</td>\n",
       "      <td>29824616</td>\n",
       "      <td>29824635</td>\n",
       "      <td>JASPA_MA0139.1_CTCF_chr1_29824617</td>\n",
       "      <td>9.62295</td>\n",
       "      <td>+</td>\n",
       "      <td>AGATCAGCAGAGGGCCCCT</td>\n",
       "    </tr>\n",
       "    <tr>\n",
       "      <th>2</th>\n",
       "      <td>chr1</td>\n",
       "      <td>23368354</td>\n",
       "      <td>23368373</td>\n",
       "      <td>JASPA_MA0139.1_CTCF_chr1_23368355</td>\n",
       "      <td>15.57380</td>\n",
       "      <td>-</td>\n",
       "      <td>CTCTGCCATCTCGAGGCCG</td>\n",
       "    </tr>\n",
       "    <tr>\n",
       "      <th>3</th>\n",
       "      <td>chr1</td>\n",
       "      <td>29744978</td>\n",
       "      <td>29744997</td>\n",
       "      <td>JASPA_MA0139.1_CTCF_chr1_29744979</td>\n",
       "      <td>8.57377</td>\n",
       "      <td>-</td>\n",
       "      <td>ccctgacctctgtaggtcc</td>\n",
       "    </tr>\n",
       "    <tr>\n",
       "      <th>4</th>\n",
       "      <td>chr1</td>\n",
       "      <td>113890670</td>\n",
       "      <td>113890689</td>\n",
       "      <td>JASPA_MA0139.1_CTCF_chr1_113890671</td>\n",
       "      <td>8.75410</td>\n",
       "      <td>-</td>\n",
       "      <td>TCTTGCCACCCTCTGACCA</td>\n",
       "    </tr>\n",
       "    <tr>\n",
       "      <th>5</th>\n",
       "      <td>chr1</td>\n",
       "      <td>116134359</td>\n",
       "      <td>116134378</td>\n",
       "      <td>JASPA_MA0139.1_CTCF_chr1_116134360</td>\n",
       "      <td>11.63930</td>\n",
       "      <td>-</td>\n",
       "      <td>GGATGCCACCTAATGGTGG</td>\n",
       "    </tr>\n",
       "    <tr>\n",
       "      <th>6</th>\n",
       "      <td>chr1</td>\n",
       "      <td>153684245</td>\n",
       "      <td>153684264</td>\n",
       "      <td>JASPA_MA0139.1_CTCF_chr1_153684246</td>\n",
       "      <td>8.45902</td>\n",
       "      <td>-</td>\n",
       "      <td>TCCTGCCGTCCAGTGGAGG</td>\n",
       "    </tr>\n",
       "    <tr>\n",
       "      <th>7</th>\n",
       "      <td>chr1</td>\n",
       "      <td>223429627</td>\n",
       "      <td>223429646</td>\n",
       "      <td>JASPA_MA0139.1_CTCF_chr1_223429628</td>\n",
       "      <td>10.93440</td>\n",
       "      <td>-</td>\n",
       "      <td>GCTTGCCCTCTGCAGCCCA</td>\n",
       "    </tr>\n",
       "  </tbody>\n",
       "</table>\n",
       "</div>"
      ],
      "text/plain": [
       "+--------------+-----------+-----------+-------+\n",
       "| Chromosome   |     Start |       End | +4    |\n",
       "| (category)   |   (int32) |   (int32) | ...   |\n",
       "|--------------+-----------+-----------+-------|\n",
       "| chr1         |  11804507 |  11804526 | ...   |\n",
       "| chr1         |  29824616 |  29824635 | ...   |\n",
       "| chr1         |  23368354 |  23368373 | ...   |\n",
       "| chr1         |  29744978 |  29744997 | ...   |\n",
       "| chr1         | 113890670 | 113890689 | ...   |\n",
       "| chr1         | 116134359 | 116134378 | ...   |\n",
       "| chr1         | 153684245 | 153684264 | ...   |\n",
       "| chr1         | 223429627 | 223429646 | ...   |\n",
       "+--------------+-----------+-----------+-------+\n",
       "Stranded PyRanges object has 8 rows and 7 columns from 1 chromosomes.\n",
       "For printing, the PyRanges was sorted on Chromosome and Strand.\n",
       "4 hidden columns: Name, Score, Strand, seq"
      ]
     },
     "execution_count": 60,
     "metadata": {},
     "output_type": "execute_result"
    }
   ],
   "source": [
    "ctcf.head()"
   ]
  },
  {
   "cell_type": "markdown",
   "id": "5e5a1266-b591-4118-bd72-c396d99f5159",
   "metadata": {},
   "source": [
    "Pyrange only works for unstranded dataframe"
   ]
  },
  {
   "cell_type": "code",
   "execution_count": 61,
   "id": "af37a6a1-4789-4e20-99be-157dc6a0b7ca",
   "metadata": {
    "execution": {
     "iopub.execute_input": "2021-08-10T05:16:53.576789Z",
     "iopub.status.busy": "2021-08-10T05:16:53.576499Z",
     "iopub.status.idle": "2021-08-10T05:16:53.637979Z",
     "shell.execute_reply": "2021-08-10T05:16:53.637309Z",
     "shell.execute_reply.started": "2021-08-10T05:16:53.576768Z"
    },
    "tags": []
   },
   "outputs": [],
   "source": [
    "def revcomp(seq):\n",
    "    tab = str.maketrans(\"ACTG\", \"TGAC\")\n",
    "    return seq.translate(tab)[::-1]\n",
    "ctcf.seq = ctcf.as_df().apply(lambda r: revcomp(r['seq']) if r['Strand']==\"-\" else r['seq'],axis=1)"
   ]
  },
  {
   "cell_type": "code",
   "execution_count": 66,
   "id": "267f427a-b848-4ebc-ad40-5bba13a7b75b",
   "metadata": {
    "execution": {
     "iopub.execute_input": "2021-08-10T05:22:27.793283Z",
     "iopub.status.busy": "2021-08-10T05:22:27.793020Z",
     "iopub.status.idle": "2021-08-10T05:22:28.067082Z",
     "shell.execute_reply": "2021-08-10T05:22:28.066455Z",
     "shell.execute_reply.started": "2021-08-10T05:22:27.793265Z"
    },
    "tags": []
   },
   "outputs": [
    {
     "data": {
      "text/html": [
       "<div>\n",
       "<style scoped>\n",
       "    .dataframe tbody tr th:only-of-type {\n",
       "        vertical-align: middle;\n",
       "    }\n",
       "\n",
       "    .dataframe tbody tr th {\n",
       "        vertical-align: top;\n",
       "    }\n",
       "\n",
       "    .dataframe thead th {\n",
       "        text-align: right;\n",
       "    }\n",
       "</style>\n",
       "<table border=\"1\" class=\"dataframe\">\n",
       "  <thead>\n",
       "    <tr style=\"text-align: right;\">\n",
       "      <th></th>\n",
       "      <th>Chromosome</th>\n",
       "      <th>Start</th>\n",
       "      <th>End</th>\n",
       "      <th>Name</th>\n",
       "      <th>Score</th>\n",
       "      <th>Strand</th>\n",
       "      <th>seq</th>\n",
       "    </tr>\n",
       "  </thead>\n",
       "  <tbody>\n",
       "    <tr>\n",
       "      <th>0</th>\n",
       "      <td>chr1</td>\n",
       "      <td>11804507</td>\n",
       "      <td>11804526</td>\n",
       "      <td>JASPA_MA0139.1_CTCF_chr1_11804508</td>\n",
       "      <td>13.27870</td>\n",
       "      <td>+</td>\n",
       "      <td>AGGCCAACAGAGGGCATAG</td>\n",
       "    </tr>\n",
       "    <tr>\n",
       "      <th>1</th>\n",
       "      <td>chr1</td>\n",
       "      <td>29824616</td>\n",
       "      <td>29824635</td>\n",
       "      <td>JASPA_MA0139.1_CTCF_chr1_29824617</td>\n",
       "      <td>9.62295</td>\n",
       "      <td>+</td>\n",
       "      <td>AGATCAGCAGAGGGCCCCT</td>\n",
       "    </tr>\n",
       "    <tr>\n",
       "      <th>2</th>\n",
       "      <td>chr1</td>\n",
       "      <td>23368354</td>\n",
       "      <td>23368373</td>\n",
       "      <td>JASPA_MA0139.1_CTCF_chr1_23368355</td>\n",
       "      <td>15.57380</td>\n",
       "      <td>-</td>\n",
       "      <td>CGGCCTCGAGATGGCAGAG</td>\n",
       "    </tr>\n",
       "    <tr>\n",
       "      <th>3</th>\n",
       "      <td>chr1</td>\n",
       "      <td>29744978</td>\n",
       "      <td>29744997</td>\n",
       "      <td>JASPA_MA0139.1_CTCF_chr1_29744979</td>\n",
       "      <td>8.57377</td>\n",
       "      <td>-</td>\n",
       "      <td>cctggatgtctccagtccc</td>\n",
       "    </tr>\n",
       "    <tr>\n",
       "      <th>4</th>\n",
       "      <td>chr1</td>\n",
       "      <td>113890670</td>\n",
       "      <td>113890689</td>\n",
       "      <td>JASPA_MA0139.1_CTCF_chr1_113890671</td>\n",
       "      <td>8.75410</td>\n",
       "      <td>-</td>\n",
       "      <td>TGGTCAGAGGGTGGCAAGA</td>\n",
       "    </tr>\n",
       "    <tr>\n",
       "      <th>5</th>\n",
       "      <td>chr1</td>\n",
       "      <td>116134359</td>\n",
       "      <td>116134378</td>\n",
       "      <td>JASPA_MA0139.1_CTCF_chr1_116134360</td>\n",
       "      <td>11.63930</td>\n",
       "      <td>-</td>\n",
       "      <td>CCACCATTAGGTGGCATCC</td>\n",
       "    </tr>\n",
       "    <tr>\n",
       "      <th>6</th>\n",
       "      <td>chr1</td>\n",
       "      <td>153684245</td>\n",
       "      <td>153684264</td>\n",
       "      <td>JASPA_MA0139.1_CTCF_chr1_153684246</td>\n",
       "      <td>8.45902</td>\n",
       "      <td>-</td>\n",
       "      <td>CCTCCACTGGACGGCAGGA</td>\n",
       "    </tr>\n",
       "    <tr>\n",
       "      <th>7</th>\n",
       "      <td>chr1</td>\n",
       "      <td>223429627</td>\n",
       "      <td>223429646</td>\n",
       "      <td>JASPA_MA0139.1_CTCF_chr1_223429628</td>\n",
       "      <td>10.93440</td>\n",
       "      <td>-</td>\n",
       "      <td>TGGGCTGCAGAGGGCAAGC</td>\n",
       "    </tr>\n",
       "  </tbody>\n",
       "</table>\n",
       "</div>"
      ],
      "text/plain": [
       "+--------------+-----------+-----------+-------+\n",
       "| Chromosome   |     Start |       End | +4    |\n",
       "| (category)   |   (int32) |   (int32) | ...   |\n",
       "|--------------+-----------+-----------+-------|\n",
       "| chr1         |  11804507 |  11804526 | ...   |\n",
       "| chr1         |  29824616 |  29824635 | ...   |\n",
       "| chr1         |  23368354 |  23368373 | ...   |\n",
       "| chr1         |  29744978 |  29744997 | ...   |\n",
       "| chr1         | 113890670 | 113890689 | ...   |\n",
       "| chr1         | 116134359 | 116134378 | ...   |\n",
       "| chr1         | 153684245 | 153684264 | ...   |\n",
       "| chr1         | 223429627 | 223429646 | ...   |\n",
       "+--------------+-----------+-----------+-------+\n",
       "Stranded PyRanges object has 8 rows and 7 columns from 1 chromosomes.\n",
       "For printing, the PyRanges was sorted on Chromosome and Strand.\n",
       "4 hidden columns: Name, Score, Strand, seq"
      ]
     },
     "execution_count": 66,
     "metadata": {},
     "output_type": "execute_result"
    }
   ],
   "source": [
    "ctcf.head()"
   ]
  },
  {
   "cell_type": "markdown",
   "id": "2a529d81-a357-4686-96eb-7bb3368150ee",
   "metadata": {},
   "source": [
    "#### Look at sequence logo"
   ]
  },
  {
   "cell_type": "code",
   "execution_count": 77,
   "id": "9a1327b1-6235-4c5d-a472-1a537aa6014a",
   "metadata": {
    "execution": {
     "iopub.execute_input": "2021-08-10T05:28:28.829280Z",
     "iopub.status.busy": "2021-08-10T05:28:28.829026Z",
     "iopub.status.idle": "2021-08-10T05:28:28.875592Z",
     "shell.execute_reply": "2021-08-10T05:28:28.874865Z",
     "shell.execute_reply.started": "2021-08-10T05:28:28.829261Z"
    },
    "tags": []
   },
   "outputs": [],
   "source": [
    "from Bio import motifs\n",
    "from Bio.Seq import Seq"
   ]
  },
  {
   "cell_type": "code",
   "execution_count": 82,
   "id": "bf1fe1a8-d21d-4bd9-9645-96da6b2bd8fb",
   "metadata": {
    "execution": {
     "iopub.execute_input": "2021-08-10T05:29:48.433191Z",
     "iopub.status.busy": "2021-08-10T05:29:48.432935Z",
     "iopub.status.idle": "2021-08-10T05:29:48.444880Z",
     "shell.execute_reply": "2021-08-10T05:29:48.444252Z",
     "shell.execute_reply.started": "2021-08-10T05:29:48.433172Z"
    },
    "tags": []
   },
   "outputs": [],
   "source": [
    "m = motifs.create([Seq(x.upper()) for x in ctcf.seq.tolist()])"
   ]
  },
  {
   "cell_type": "code",
   "execution_count": 84,
   "id": "d6d1f50d-2a81-4585-ac72-a3d87d473036",
   "metadata": {
    "execution": {
     "iopub.execute_input": "2021-08-10T05:30:19.549230Z",
     "iopub.status.busy": "2021-08-10T05:30:19.548972Z",
     "iopub.status.idle": "2021-08-10T05:30:20.471863Z",
     "shell.execute_reply": "2021-08-10T05:30:20.471145Z",
     "shell.execute_reply.started": "2021-08-10T05:30:19.549212Z"
    },
    "tags": []
   },
   "outputs": [],
   "source": [
    "m.weblogo(\"CTCF.png\")"
   ]
  },
  {
   "cell_type": "code",
   "execution_count": 86,
   "id": "b50eec10-6445-425e-aafb-325c10f7336d",
   "metadata": {
    "execution": {
     "iopub.execute_input": "2021-08-10T05:30:42.384707Z",
     "iopub.status.busy": "2021-08-10T05:30:42.384459Z",
     "iopub.status.idle": "2021-08-10T05:30:42.406267Z",
     "shell.execute_reply": "2021-08-10T05:30:42.405703Z",
     "shell.execute_reply.started": "2021-08-10T05:30:42.384688Z"
    },
    "tags": []
   },
   "outputs": [
    {
     "data": {
      "image/png": "[encoded data removed]",
      "text/plain": [
       "<IPython.core.display.Image object>"
      ]
     },
     "execution_count": 86,
     "metadata": {},
     "output_type": "execute_result"
    }
   ],
   "source": [
    "from IPython.display import Image\n",
    "Image(\"CTCF.png\")"
   ]
  },
  {
   "cell_type": "markdown",
   "id": "dbf514e9-2df7-4ef9-b664-03a4176b9a11",
   "metadata": {},
   "source": [
    "#### Manhattan plot"
   ]
  },
  {
   "cell_type": "code",
   "execution_count": 108,
   "id": "879f942a-82b4-4d49-a3f6-fb496d8092e3",
   "metadata": {
    "execution": {
     "iopub.execute_input": "2021-08-10T05:50:00.734543Z",
     "iopub.status.busy": "2021-08-10T05:50:00.734328Z",
     "iopub.status.idle": "2021-08-10T05:50:01.160221Z",
     "shell.execute_reply": "2021-08-10T05:50:01.159795Z",
     "shell.execute_reply.started": "2021-08-10T05:50:00.734526Z"
    },
    "tags": []
   },
   "outputs": [
    {
     "data": {
      "image/png": "[encoded data removed]",
      "text/plain": [
       "<Figure size 648x216 with 1 Axes>"
      ]
     },
     "metadata": {},
     "output_type": "display_data"
    },
    {
     "data": {
      "text/plain": [
       "<AxesSubplot:xlabel='Chromosome', ylabel='Score'>"
      ]
     },
     "execution_count": 108,
     "metadata": {},
     "output_type": "execute_result"
    }
   ],
   "source": [
    "from qmplot import manhattanplot\n",
    "# https://github.com/ShujiaHuang/qmplot\n",
    "manhattanplot(data=ctcf.as_df(),\n",
    "              chrom=\"Chromosome\",\n",
    "              pos=\"Start\",\n",
    "              pv=\"Score\",\n",
    "              snp=\"Name\",\n",
    "              logp=False,\n",
    "              ylabel=\"Score\",\n",
    "              xlabel=\"Chromosome\",\n",
    "               xticklabel_kws={\"rotation\": \"vertical\"},\n",
    "               is_show=True,  # display the plot in screen\n",
    "               figname=\"output_manhattan_plot.png\")"
   ]
  },
  {
   "cell_type": "markdown",
   "id": "f89c720a-3911-4aa8-9cc3-4202c788ef4a",
   "metadata": {},
   "source": [
    "## FASTQ format\n"
   ]
  },
  {
   "cell_type": "code",
   "execution_count": 110,
   "id": "5b85cb25-097d-400b-9e11-3486dc18d45d",
   "metadata": {
    "execution": {
     "iopub.execute_input": "2021-08-10T05:56:29.679388Z",
     "iopub.status.busy": "2021-08-10T05:56:29.679166Z",
     "iopub.status.idle": "2021-08-10T05:56:29.926715Z",
     "shell.execute_reply": "2021-08-10T05:56:29.926134Z",
     "shell.execute_reply.started": "2021-08-10T05:56:29.679371Z"
    }
   },
   "outputs": [
    {
     "name": "stdout",
     "output_type": "stream",
     "text": [
      "@M04990:66:000000000-G83PY:1:2101:2222:14575 1:N:0:TCTTCCTTTCCTTTTTTTGTTTTTCCTTCTTTCTCTTTCTTTTTTTTTGTTTTTTTTATTTGGTTTTTTTTTTTTTTTTCCTCTTGCATCTGTTGTTCT+TCTTTCCC\n",
      "GCTCGACGCCATTAATAATGTTTTCCGTAAATTCAGCGCCTTCCATGATG\n",
      "+\n",
      "CCCDDDDCCCCCGGGGGGGGGGHHHHGHHGHHHHHHHGGGGGHHHHHHHH\n",
      "@M04990:66:000000000-G83PY:1:1102:10573:9495 1:N:0:TCGTCCTCTCCTTGTGCCTGTTTCAATGCGTCCTCGCTCGCACTCACTTTTATCGAAGTGACTCGTTCGCCGTTGTGACACCTCGTCCACGCCAATTAT+TATCCTCT\n",
      "CAATAGTCGTACGCCGATGCGAAACATCGGCCACGTGTGTCGATCTCGTA\n",
      "+\n",
      "CCCCBFFFCBFCGGGGFGGGGGGGGHHHGGGGGGGHHHHHHGHGFHGHGG\n",
      "@M04990:66:000000000-G83PY:1:1102:15470:5522 1:N:0:CCCCGCCACCGTGGGGCGGGGTGGAAGCATGCGCCGCCCCCCGCCGGGCGGGGCGATGTTTTGTGGTAGCCGCGGCGCAAACACCCCCCCCACTAACCC+AGAGTAGA\n",
      "CATTGGCACAGCTTGTCTCCAGGACCTTTTATTTTAGAACAAAAAAAAAA\n",
      "\n",
      "gzip: stdout: Broken pipe\n"
     ]
    }
   ],
   "source": [
    "!zcat test.10K.R1.fastq.gz | head"
   ]
  },
  {
   "cell_type": "markdown",
   "id": "701b339e-fdd9-4b2b-afb6-4f5b28f3a43a",
   "metadata": {},
   "source": [
    "\n",
    "### Syntax:\n",
    "\n",
    "- Each sequence/read is represented in 4 lines\n",
    "- first line is read name, followed by some descriptions\n",
    "- second line is the sequence\n",
    "- third line is just +\n",
    "- fourth line is the quality scores, same length as the sequence\n",
    "\n",
    "### Base qualities, increasing order:\n",
    "```\n",
    " !\"#$%&'()*+,-./0123456789:;<=>?@ABCDEFGHIJKLMNOPQRSTUVWXYZ[\\]^_`abcdefghijklmnopqrstuvwxyz{|}~\n",
    "```"
   ]
  },
  {
   "cell_type": "markdown",
   "id": "fa3fb285-0e1f-4256-8ef4-bf1660869d85",
   "metadata": {},
   "source": [
    "## FASTQ examples\n",
    "\n",
    "### 1. take a look at the fastq files\n",
    "\n",
    "Usually I just use `less`.\n",
    "\n",
    "### 2. check sequencing quality\n",
    "\n",
    "Use `fastqc`"
   ]
  },
  {
   "cell_type": "code",
   "execution_count": 112,
   "id": "edb5cbae-67df-4c5f-b132-b830800cb7b7",
   "metadata": {
    "execution": {
     "iopub.execute_input": "2021-08-10T06:02:04.021672Z",
     "iopub.status.busy": "2021-08-10T06:02:04.021450Z",
     "iopub.status.idle": "2021-08-10T06:02:15.997420Z",
     "shell.execute_reply": "2021-08-10T06:02:15.996920Z",
     "shell.execute_reply.started": "2021-08-10T06:02:04.021653Z"
    },
    "tags": []
   },
   "outputs": [
    {
     "name": "stdout",
     "output_type": "stream",
     "text": [
      "Started analysis of test.10K.R1.fastq.gz\n",
      "Approx 10% complete for test.10K.R1.fastq.gz\n",
      "Approx 20% complete for test.10K.R1.fastq.gz\n",
      "Approx 30% complete for test.10K.R1.fastq.gz\n",
      "Approx 40% complete for test.10K.R1.fastq.gz\n",
      "Approx 50% complete for test.10K.R1.fastq.gz\n",
      "Approx 60% complete for test.10K.R1.fastq.gz\n",
      "Approx 70% complete for test.10K.R1.fastq.gz\n",
      "Approx 80% complete for test.10K.R1.fastq.gz\n",
      "Approx 90% complete for test.10K.R1.fastq.gz\n",
      "Approx 100% complete for test.10K.R1.fastq.gz\n",
      "Analysis complete for test.10K.R1.fastq.gz\n"
     ]
    }
   ],
   "source": [
    "!mkdir test_fastqc\n",
    "!module load fastqc; fastqc test.10K.R1.fastq.gz -o test_fastqc"
   ]
  },
  {
   "cell_type": "markdown",
   "id": "928f0891-7e74-486e-8ac5-34839b70cf8b",
   "metadata": {},
   "source": [
    "Also see: https://hemtools.readthedocs.io/en/latest/content/Bioinformatics_tools/fastqc.html for batch run"
   ]
  },
  {
   "cell_type": "markdown",
   "id": "f4ca41c4-9854-4b54-9b79-bdae16eb2bc4",
   "metadata": {},
   "source": [
    "### 3. read alignment using BWA\n"
   ]
  },
  {
   "cell_type": "code",
   "execution_count": 116,
   "id": "a4e96283-be5f-42d7-90c9-5916a971614c",
   "metadata": {
    "execution": {
     "iopub.execute_input": "2021-08-10T06:10:30.769541Z",
     "iopub.status.busy": "2021-08-10T06:10:30.769314Z",
     "iopub.status.idle": "2021-08-10T06:10:58.603060Z",
     "shell.execute_reply": "2021-08-10T06:10:58.602460Z",
     "shell.execute_reply.started": "2021-08-10T06:10:30.769522Z"
    },
    "tags": []
   },
   "outputs": [
    {
     "name": "stdout",
     "output_type": "stream",
     "text": [
      "[M::bwa_idx_load_from_disk] read 0 ALT contigs\n",
      "[M::process] read 20000 sequences (1000000 bp)...\n",
      "[M::mem_pestat] # candidate unique pairs for (FF, FR, RF, RR): (0, 2289, 1, 0)\n",
      "[M::mem_pestat] skip orientation FF as there are not enough pairs\n",
      "[M::mem_pestat] analyzing insert size distribution for orientation FR...\n",
      "[M::mem_pestat] (25, 50, 75) percentile: (62, 168, 228)\n",
      "[M::mem_pestat] low and high boundaries for computing mean and std.dev: (1, 560)\n",
      "[M::mem_pestat] mean and std.dev: (162.87, 115.26)\n",
      "[M::mem_pestat] low and high boundaries for proper pairs: (1, 726)\n",
      "[M::mem_pestat] skip orientation RF as there are not enough pairs\n",
      "[M::mem_pestat] skip orientation RR as there are not enough pairs\n",
      "[M::mem_process_seqs] Processed 20000 reads in 2.793 CPU sec, 2.793 real sec\n",
      "[main] Version: 0.7.12-r1039\n",
      "[main] CMD: bwa mem /home/yli11/Data/Human/hg38/bwa_16a_index/hg38.fa test.10K.R1.fastq.gz test.10K.R2.fastq.gz\n",
      "[main] Real time: 22.389 sec; CPU: 4.152 sec\n"
     ]
    }
   ],
   "source": [
    "!module load bwa;\\\n",
    "bwa_index=/home/yli11/Data/Human/hg38/bwa_16a_index/hg38.fa;\\\n",
    "bwa mem $bwa_index test.10K.R1.fastq.gz test.10K.R2.fastq.gz > test.sam"
   ]
  },
  {
   "cell_type": "markdown",
   "id": "bd00da96-90ba-4a6c-b31e-f687e8adf336",
   "metadata": {},
   "source": [
    "**IMPORTANT**\n",
    "\n",
    "Notice that the bwa version is `0.7.12-r1039`, but my index was created by `0.7.16a`, so the aligned results may have some error. Better to use the same bwa version."
   ]
  },
  {
   "cell_type": "code",
   "execution_count": 118,
   "id": "13e852c4-fc47-4223-a346-f07a8c53649a",
   "metadata": {
    "execution": {
     "iopub.execute_input": "2021-08-10T06:13:19.702643Z",
     "iopub.status.busy": "2021-08-10T06:13:19.702381Z",
     "iopub.status.idle": "2021-08-10T06:13:20.476653Z",
     "shell.execute_reply": "2021-08-10T06:13:20.475885Z",
     "shell.execute_reply.started": "2021-08-10T06:13:19.702621Z"
    },
    "tags": []
   },
   "outputs": [
    {
     "name": "stdout",
     "output_type": "stream",
     "text": [
      "M04990:66:000000000-G83PY:1:2101:2222:14575\t77\t*\t0\t0\t*\t*\t0\t0\tGCTCGACGCCATTAATAATGTTTTCCGTAAATTCAGCGCCTTCCATGATG\tCCCDDDDCCCCCGGGGGGGGGGHHHHGHHGHHHHHHHGGGGGHHHHHHHH\tAS:i:0\tXS:i:0\n",
      "M04990:66:000000000-G83PY:1:2101:2222:14575\t141\t*\t0\t0\t*\t*\t0\t0\tATCATGAGTCAAGTTACTGAACAATCCGTACGTTTCCAGACCGCTTTGGC\tAABCCFFFFFFFGGGGGGGGGGHHHHHGGHGGHHHHHGHHGHGGGGGHHH\tAS:i:0\tXS:i:0\n",
      "M04990:66:000000000-G83PY:1:1102:10573:9495\t77\t*\t0\t0\t*\t*\t0\t0\tCAATAGTCGTACGCCGATGCGAAACATCGGCCACGTGTGTCGATCTCGTA\tCCCCBFFFCBFCGGGGFGGGGGGGGHHHGGGGGGGHHHHHHGHGFHGHGG\tAS:i:0\tXS:i:0\n",
      "M04990:66:000000000-G83PY:1:1102:10573:9495\t141\t*\t0\t0\t*\t*\t0\t0\tAACTACACAATCAACGACGCCCTCGTCTTCCTTCTCTTCCTTCCTGTCTC\t1>111@@BD1F1FB11AE0AE00BA0AF021A2BG1GGFGFD1B111B2D\tAS:i:0\tXS:i:0\n",
      "M04990:66:000000000-G83PY:1:1102:15470:5522\t83\tchr7\t113829330\t0\t21M29S\t=\t113829329\t-22\tTTTTTTTTTTGTTCTAAAATAAAAGGTCCTGGAGACAAGCTGTGCCAATG\tGEAECGA0GFHFAFHGHHGGGHHHGGC11BGGFGGGGGAFFFFC1A@AAA\tNM:i:0\tMD:Z:21\tAS:i:21\tXS:i:21\tXA:Z:chr12,+60139811,26S21M3S,0;chr2,-139726748,3S20M27S,0;chr7,+88270110,23S19M8S,0;\n",
      "M04990:66:000000000-G83PY:1:1102:15470:5522\t163\tchr7\t113829329\t0\t16S22M12S\t=\t113829330\t22\tATGTAAGGGGTTTTTTTTTTTTTTTTTGTTCTAAAATAAAAGGTCCTGGA\tAABAAFFFFBBBGFGGGGGGGGGGGGG0BF3@BFFFEGHGB3EBFE3GF2\tNM:i:0\tMD:Z:22\tAS:i:22\tXS:i:25\n",
      "M04990:66:000000000-G83PY:1:1103:16433:22048\t65\tchrX\t24701555\t0\t50M\tchr9\t92816867\t0\tCCTCCCAAGTAGCTGGGATTACAGGTGTCTGCCACCACGCCTGGCTGATT\tCCCCCCFFCFFFGGGGGGGGGGHHHHHHHHHHHHHHHHGGGHHHHHGHHH\tNM:i:1\tMD:Z:46A3\tAS:i:46\tXS:i:46\n",
      "M04990:66:000000000-G83PY:1:1103:16433:22048\t129\tchr9\t92816867\t0\t50M\tchrX\t24701555\t0\tCTGTAATCCCAGTACTTTGGGGGGCTGAGATGGGTGGATCATGAGGTCAG\tBBBBBFFFFFFFGCGGGGGGGGGGGGGHHGHHHHGEGHHHHHHGHFHGHH\tNM:i:2\tMD:Z:12C8A28\tAS:i:40\tXS:i:40\n",
      "M04990:66:000000000-G83PY:1:2104:26463:8539\t99\tchr8\t113276127\t60\t50M\t=\t113276316\t239\tGCATGAAATTGTAGGCCAAATAATGCCCCTCTACCTCCCCAAAAATGTAT\tBBBBBFFFFFFFGGC4GGGGGGHFFHHHGHGHHHHHHHGGHGHHHHHHHH\tNM:i:0\tMD:Z:50\tAS:i:50\tXS:i:0\n",
      "M04990:66:000000000-G83PY:1:2104:26463:8539\t147\tchr8\t113276316\t60\t50M\t=\t113276127\t-239\tAGAAATTTCTTCACCTGGAGTATAAGATGTGTGGAGGGAGAAAGTAGCAG\tHHHHHHGHHHHHHHHHHHHHHHHHHHHGGGGGGGGGGGFFFFFFFBBBBB\tNM:i:0\tMD:Z:50\tAS:i:50\tXS:i:19\n",
      "samtools view: writing to standard output failed: Broken pipe\n",
      "samtools view: error closing standard output: -1\n"
     ]
    }
   ],
   "source": [
    "!module load samtools/1.7;\\\n",
    "samtools view test.sam | head"
   ]
  },
  {
   "cell_type": "code",
   "execution_count": null,
   "id": "fbab30b9-a07e-44ef-a62b-69b69acd6fbc",
   "metadata": {},
   "outputs": [],
   "source": []
  }
 ],
 "metadata": {
  "kernelspec": {
   "display_name": "Python 3",
   "language": "python",
   "name": "python3"
  },
  "language_info": {
   "codemirror_mode": {
    "name": "ipython",
    "version": 3
   },
   "file_extension": ".py",
   "mimetype": "text/x-python",
   "name": "python",
   "nbconvert_exporter": "python",
   "pygments_lexer": "ipython3",
   "version": "3.8.5"
  },
  "toc-autonumbering": false,
  "toc-showcode": false,
  "toc-showmarkdowntxt": false,
  "toc-showtags": false
 },
 "nbformat": 4,
 "nbformat_minor": 5
}
