{
 "cells": [
  {
   "cell_type": "markdown",
   "id": "f35c9ffb-1117-4542-9d6f-2cfa47c85737",
   "metadata": {
    "execution": {
     "iopub.execute_input": "2021-08-06T21:59:09.787802Z",
     "iopub.status.busy": "2021-08-06T21:59:09.787564Z",
     "iopub.status.idle": "2021-08-06T21:59:09.790845Z",
     "shell.execute_reply": "2021-08-06T21:59:09.790048Z",
     "shell.execute_reply.started": "2021-08-06T21:59:09.787782Z"
    },
    "tags": []
   },
   "source": [
    "# pysam example: checking softclip reads"
   ]
  },
  {
   "cell_type": "code",
   "execution_count": 1,
   "id": "e648316c-b081-4ab3-a8c1-2727ded4a9ad",
   "metadata": {
    "execution": {
     "iopub.execute_input": "2021-08-06T20:34:09.553375Z",
     "iopub.status.busy": "2021-08-06T20:34:09.553194Z",
     "iopub.status.idle": "2021-08-06T20:34:09.559155Z",
     "shell.execute_reply": "2021-08-06T20:34:09.558612Z",
     "shell.execute_reply.started": "2021-08-06T20:34:09.553332Z"
    }
   },
   "outputs": [],
   "source": [
    "region = \"chr11:134033589-134033627\""
   ]
  },
  {
   "cell_type": "code",
   "execution_count": 2,
   "id": "95c40abf-6905-43a0-b669-34c73b02fe91",
   "metadata": {
    "execution": {
     "iopub.execute_input": "2021-08-06T20:34:09.560204Z",
     "iopub.status.busy": "2021-08-06T20:34:09.560044Z",
     "iopub.status.idle": "2021-08-06T20:34:09.684201Z",
     "shell.execute_reply": "2021-08-06T20:34:09.683570Z",
     "shell.execute_reply.started": "2021-08-06T20:34:09.560188Z"
    }
   },
   "outputs": [
    {
     "name": "stdout",
     "output_type": "stream",
     "text": [
      "Control_CRL3128_MKSR_Digenomeseq_buffer_rep1.st.bam\n",
      "Control_CRL3128_MKSR_Digenomeseq_buffer_rep1.st.name_sorted.bam\n",
      "Control_CRL3129_MKSR_Digenomeseq_buffer_rep2.st.bam\n",
      "Control_CRL3129_MKSR_Digenomeseq_buffer_rep2.st.name_sorted.bam\n",
      "Control_CRL3130_MKSR_Digenomeseq_buffer_2xABE_rep1.st.bam\n",
      "Control_CRL3130_MKSR_Digenomeseq_buffer_2xABE_rep1.st.name_sorted.bam\n",
      "Control_CRL3131_MKSR_Digenomeseq_buffer_2xABE_rep2.st.bam\n",
      "Control_CRL3131_MKSR_Digenomeseq_buffer_2xABE_rep2.st.name_sorted.bam\n",
      "CRL3128_MKSR_Digenomeseq_buffer_rep1.st.bam\n",
      "CRL3128_MKSR_Digenomeseq_buffer_rep1.st.name_sorted.bam\n",
      "CRL3129_MKSR_Digenomeseq_buffer_rep2.st.bam\n",
      "CRL3129_MKSR_Digenomeseq_buffer_rep2.st.name_sorted.bam\n",
      "CRL3130_MKSR_Digenomeseq_buffer_2xABE_rep1.st.bam\n",
      "CRL3130_MKSR_Digenomeseq_buffer_2xABE_rep1.st.name_sorted.bam\n",
      "CRL3131_MKSR_Digenomeseq_buffer_2xABE_rep2.st.bam\n",
      "CRL3131_MKSR_Digenomeseq_buffer_2xABE_rep2.st.name_sorted.bam\n"
     ]
    }
   ],
   "source": [
    "!ls *bam"
   ]
  },
  {
   "cell_type": "code",
   "execution_count": 5,
   "id": "03b62c93-862f-4c6f-bfde-2316b0d062d4",
   "metadata": {
    "execution": {
     "iopub.execute_input": "2021-08-06T20:36:29.930613Z",
     "iopub.status.busy": "2021-08-06T20:36:29.930375Z",
     "iopub.status.idle": "2021-08-06T20:36:32.660570Z",
     "shell.execute_reply": "2021-08-06T20:36:32.660001Z",
     "shell.execute_reply.started": "2021-08-06T20:36:29.930595Z"
    },
    "tags": []
   },
   "outputs": [],
   "source": [
    "!module load samtools/1.7;samtools view -b CRL3131_MKSR_Digenomeseq_buffer_2xABE_rep2.st.bam chr11:134033589-134033627 > CRL3131.chr11_134M.bam"
   ]
  },
  {
   "cell_type": "code",
   "execution_count": 6,
   "id": "5e34beaf-5fd0-4d1e-80e2-797cbb2eb96e",
   "metadata": {
    "execution": {
     "iopub.execute_input": "2021-08-06T20:36:38.129053Z",
     "iopub.status.busy": "2021-08-06T20:36:38.128788Z",
     "iopub.status.idle": "2021-08-06T20:36:38.262506Z",
     "shell.execute_reply": "2021-08-06T20:36:38.261989Z",
     "shell.execute_reply.started": "2021-08-06T20:36:38.129031Z"
    }
   },
   "outputs": [
    {
     "name": "stdout",
     "output_type": "stream",
     "text": [
      "Control_CRL3128_MKSR_Digenomeseq_buffer_rep1.st.bam\n",
      "Control_CRL3128_MKSR_Digenomeseq_buffer_rep1.st.name_sorted.bam\n",
      "Control_CRL3129_MKSR_Digenomeseq_buffer_rep2.st.bam\n",
      "Control_CRL3129_MKSR_Digenomeseq_buffer_rep2.st.name_sorted.bam\n",
      "Control_CRL3130_MKSR_Digenomeseq_buffer_2xABE_rep1.st.bam\n",
      "Control_CRL3130_MKSR_Digenomeseq_buffer_2xABE_rep1.st.name_sorted.bam\n",
      "Control_CRL3131_MKSR_Digenomeseq_buffer_2xABE_rep2.st.bam\n",
      "Control_CRL3131_MKSR_Digenomeseq_buffer_2xABE_rep2.st.name_sorted.bam\n",
      "CRL3128_MKSR_Digenomeseq_buffer_rep1.st.bam\n",
      "CRL3128_MKSR_Digenomeseq_buffer_rep1.st.name_sorted.bam\n",
      "CRL3129_MKSR_Digenomeseq_buffer_rep2.st.bam\n",
      "CRL3129_MKSR_Digenomeseq_buffer_rep2.st.name_sorted.bam\n",
      "CRL3130_MKSR_Digenomeseq_buffer_2xABE_rep1.st.bam\n",
      "CRL3130_MKSR_Digenomeseq_buffer_2xABE_rep1.st.name_sorted.bam\n",
      "CRL3131.chr11_134M.bam\n",
      "CRL3131_MKSR_Digenomeseq_buffer_2xABE_rep2.st.bam\n",
      "CRL3131_MKSR_Digenomeseq_buffer_2xABE_rep2.st.name_sorted.bam\n"
     ]
    }
   ],
   "source": [
    "!ls *bam"
   ]
  },
  {
   "cell_type": "code",
   "execution_count": 7,
   "id": "0db2f070-ae03-4096-b7f6-2a4d0d51590c",
   "metadata": {
    "execution": {
     "iopub.execute_input": "2021-08-06T20:36:47.246920Z",
     "iopub.status.busy": "2021-08-06T20:36:47.246686Z",
     "iopub.status.idle": "2021-08-06T20:36:47.391597Z",
     "shell.execute_reply": "2021-08-06T20:36:47.391006Z",
     "shell.execute_reply.started": "2021-08-06T20:36:47.246889Z"
    }
   },
   "outputs": [
    {
     "name": "stdout",
     "output_type": "stream",
     "text": [
      "NB551526:165:H2FWWAFX3:1:11110:4648:3276\t83\tchr11\t134033461\t60\t151M\t=\t134033605\t-7\tGCCCACACCCAAGGTCCGGGGGGCCTGCCTGTGGCCCAAAGTGCACAAGAGGCAAGCCCTGGGCGGGAAGCGGGCTGTGGGGTAGCGGGGGGGGAGGACAGTGTCGATTGCAGGCGCAATCCGAGCAAAAGACGGGCACCACAGGAGCCAG\t/EE<//E/A///EE///AA<A/AE/<<<////</<A/EE//A///AA/E/E/////AE/<E<//EA///E//EA////</E///A/AEE/<AEEEAEA/<E/EEEAEEEE/<//EEAAAEA/EEEEE/E/EEA//EA//AE6EA/EA/AAA\tNM:i:11\tMD:Z:0T15A4T7A33A6A3T0A1A4A6T61\tAS:i:100\tXS:i:19\n",
      "NB551526:165:H2FWWAFX3:2:11111:12498:1139\t83\tchr11\t134033526\t60\t65S86M\t=\t134033603\t-9\tGGTATTATCGGGGCATGATTGACCCTGTATATTATACACATCTAGGTTTTTGTTTTTATGAGACAGGAAGAGGGTTGAGGGGATGCGGGTGGGGAGGACAGTGTCGATTGCAGGCGCAATCCGAGCAAAAGACGGGCACCACAGGAGCCAG\t<E////6</6EE////E/////////E////E////////A/<///E/////<6///A////AA/EE//E/AAEE/E/EEEE</EAEEE/EEEEAEEEEEEEE/EEEEEEEEEEEEEEEEEEEEEEEEEEEEEEEEEEEEEEEEEEAAAAA\tNM:i:2\tMD:Z:10A7A67\tAS:i:76\tXS:i:19\n",
      "NB551526:165:H2FWWAFX3:3:11506:23842:15959\t129\tchr11\t134033552\t60\t10S141M\tchr4\t15229442\t0\tATGGTGGCACGGGAGGACAGTGTCGATTGCAGGCGCAATCCGAGCAAAAGACGGGCACCACAGGAGCCAGATGGGCCAAGAAGAAACAGAAGTTCAGTAGGAAGAGACAGATAAACAGCAGACCCCAAGCAAGCAGCCAAGCATATGCTTT\tA/A//AEE/AE/EE/AAEE/E/AAE/AA<E<E<E<EE/EEEE/AEEEEAE<E/E/EAEE/A/E<</EEE/E<</<EEAE/EAAAE/EE/<EAEEEEEAEEEE/<AA/EEEE/E/AEAEE/A/E/AE//AE/EEAA/EE<//E<A<6AEEAE\tNM:i:1\tMD:Z:113A27\tAS:i:136\tXS:i:20\n",
      "NB551526:165:H2FWWAFX3:2:11306:7264:13463\t97\tchr11\t134033556\t60\t129M22S\t=\t134033556\t56\tGGACAGTGTCGATTGCAGGCGCAATCCGAGCAAAAGACGGGCACCACAGGAGCCAGATCGGCCAAGAAGAAACAGAAGTTCAGGAGGAAGAGACAGATAAACAGCAGACCCCAAGCAAGCAGCCAAGCAAATGCCTGTCTCTTATACACAA\tAAAAAEEEEEEEEAEEEEEEEEAE/EEEAEEEEEEE/EEAEE/AE/EEEEEEEAE<E//////EEE///A/AEAA/EE/<E///E///E////<</E/E////AEEEAE/<</E<EE//E<E/<AE/EE/E/AAE/<AEAEEEEAEE/E//\tNM:i:3\tMD:Z:58G24T25A19\tAS:i:114\tXS:i:20\n",
      "NB551526:165:H2FWWAFX3:2:11306:7264:13463\t145\tchr11\t134033556\t60\t56M\t=\t134033556\t-56\tGGACAGTGTCGATTGCAGGCGCAATCCGAGCAAAAGACGGGCACCACAGGAGCCAG\tEEE/AEEEEEE<EEEE/EEEEEEAAEAEEEEEEEEEEEEEEEEEEEEEEEEAAAAA\tNM:i:0\tMD:Z:56\tAS:i:56\tXS:i:15\n",
      "NB551526:165:H2FWWAFX3:3:21606:19105:9847\t81\tchr11\t134033563\t60\t49M\tchr17\t22118522\t0\tGTCGATTGCAGGCGCAATCCGAGCAAAAGACGGGCACCACAGGAGCCAG\tEAEEEEEEEEEEEEEEEEEEEEEEEEEEEEEEEEEEEEEEEEEEAAAAA\tNM:i:0\tMD:Z:49\tAS:i:49\tXS:i:16\n",
      "NB551526:165:H2FWWAFX3:2:11111:12498:1139\t163\tchr11\t134033603\t60\t151M\t=\t134033526\t9\tAGGAGCCAGATGGGCCAAGAAGAAACAGAAGTTCAGTAGGAAGAGACAGATAAACAGCAGACACCAAGCAAGCAGCCAAGCATATGCTTTGCAAGCAGGCAACACAAGCACCCAGTAGGGTTTGGGGGCTGGGGAGGGTACATGAGCCCAC\tAAAAAEEEEEEEEAEEEEEEEEEEAEEEEEEEEEEEEAEAEEEEEEEEEEE6EAEEEEE//EEEE<AEEAEAEEAEAA<AAAEEEEEEEEEEAEAEEEEEEAE<EEAEEAEEEE<<EE/E//EAEEEEAE/EEEAEEEEE6EE/AAEEEEE\tNM:i:0\tMD:Z:151\tAS:i:151\tXS:i:20\n",
      "NB551526:165:H2FWWAFX3:1:11110:4648:3276\t163\tchr11\t134033605\t60\t151M\t=\t134033461\t7\tGAGCCAGATGGGCCAAGAAGAAACAGAAGTTCAGTAGGAAGAGACAGATAAACAGAAGACACCAAGCAAGCAGCCAAGCATATGCTTTGAAAGCAGGCAACACAAGCACCCAGTAGGGTTTGGGGGCTGGGGAGGGTACATGAGCCCACAG\tA/AAAEEEEEAA//EE/EEEEEEEE/EAAEEAEE/EEEAEEEEEAEEEEEEEAAE//A/<<<<EEAAA<A<E/E/6/A/<A</6</AA//</<EAA/EAE<E/AE//EE/AEEAEE</AEE/A</<<EE<E//EE//AEEA/EE/AEEE<<\tNM:i:2\tMD:Z:55C33C61\tAS:i:141\tXS:i:23\n",
      "NB551526:165:H2FWWAFX3:2:21204:24770:10803\t97\tchr11\t134033605\t60\t81M\tchr10\t115488125\t0\tGAGCCAGATGGGCCAAGAAGAAACAGAAGTTCAGTAGGAAGAGACAGATAAACAGCAGACACCAAGCAAGCAGCCAAGCAT\tAAAAAEE6EEEEEEEEAEEE//EEEEEA//EEE/<A/AEEEEAEE</EEEAEEE/66E/EE/AEE/EE/AEEAEEE/<EEA\tNM:i:0\tMD:Z:81\tAS:i:81\tXS:i:19\n",
      "NB551526:165:H2FWWAFX3:4:21506:11727:7870\t161\tchr11\t134033605\t60\t81M\tchr10\t115488125\t0\tGAGCCAGATGGGCCAAGAAGAAACAGAAGTTCAGTAGGAAGAGACAGATAAACAGCAGACACCAAGCAAGCAGCCAAGCAT\tAAAAAEEEEEEEEEEEEEAEEEAEEEEEEEEEEEEEEEEEEEEEEEEEEE<EEEAEA<AEEEEEEAEA<AE<AEAAE<EAE\tNM:i:0\tMD:Z:81\tAS:i:81\tXS:i:19\n"
     ]
    }
   ],
   "source": [
    "!samtools view CRL3131.chr11_134M.bam "
   ]
  },
  {
   "cell_type": "code",
   "execution_count": 11,
   "id": "c8899a0e-3c2c-4eb4-8146-197d3c27f9a1",
   "metadata": {
    "execution": {
     "iopub.execute_input": "2021-08-06T20:38:52.666613Z",
     "iopub.status.busy": "2021-08-06T20:38:52.666386Z",
     "iopub.status.idle": "2021-08-06T20:38:52.832069Z",
     "shell.execute_reply": "2021-08-06T20:38:52.828030Z",
     "shell.execute_reply.started": "2021-08-06T20:38:52.666595Z"
    },
    "tags": []
   },
   "outputs": [],
   "source": [
    "!samtools view CRL3131.chr11_134M.bam | cut -f 1 | sort|uniq > read.list"
   ]
  },
  {
   "cell_type": "code",
   "execution_count": 12,
   "id": "8714463f-4039-44aa-ad94-c2eaf90ec035",
   "metadata": {
    "execution": {
     "iopub.execute_input": "2021-08-06T20:39:36.922300Z",
     "iopub.status.busy": "2021-08-06T20:39:36.922029Z",
     "iopub.status.idle": "2021-08-06T20:39:41.402563Z",
     "shell.execute_reply": "2021-08-06T20:39:41.402027Z",
     "shell.execute_reply.started": "2021-08-06T20:39:36.922278Z"
    }
   },
   "outputs": [
    {
     "name": "stdout",
     "output_type": "stream",
     "text": [
      "\n",
      "Usage:   seqtk subseq [options] <in.fa> <in.bed>|<name.list>\n",
      "\n",
      "Options: -t       TAB delimited output\n",
      "         -l INT   sequence line length [0]\n",
      "\n",
      "Note: Use 'samtools faidx' if only a few regions are intended.\n",
      "\n"
     ]
    }
   ],
   "source": [
    "!module load seqtk;seqtk subseq"
   ]
  },
  {
   "cell_type": "code",
   "execution_count": 13,
   "id": "ec26cc24-2706-4a0f-9964-c1fb23cd907d",
   "metadata": {
    "execution": {
     "iopub.execute_input": "2021-08-06T20:39:54.154099Z",
     "iopub.status.busy": "2021-08-06T20:39:54.153829Z",
     "iopub.status.idle": "2021-08-06T20:39:54.354063Z",
     "shell.execute_reply": "2021-08-06T20:39:54.353064Z",
     "shell.execute_reply.started": "2021-08-06T20:39:54.154076Z"
    }
   },
   "outputs": [
    {
     "name": "stdout",
     "output_type": "stream",
     "text": [
      "../../CRL3128_S1_R1_001.fastq.gz  ../../CRL3130_S3_R2_001.fastq.gz\n",
      "../../CRL3128_S1_R2_001.fastq.gz  ../../CRL3131_S4_R1_001.fastq.gz\n",
      "../../CRL3129_S2_R1_001.fastq.gz  ../../CRL3131_S4_R2_001.fastq.gz\n",
      "../../CRL3129_S2_R2_001.fastq.gz  ../../CRL3132_S5_R1_001.fastq.gz\n",
      "../../CRL3130_S3_R1_001.fastq.gz  ../../CRL3132_S5_R2_001.fastq.gz\n"
     ]
    }
   ],
   "source": [
    "!ls ../../*gz"
   ]
  },
  {
   "cell_type": "code",
   "execution_count": 14,
   "id": "6c26b1e3-21e6-4014-9b0d-13b654180003",
   "metadata": {
    "execution": {
     "iopub.execute_input": "2021-08-06T20:40:46.920631Z",
     "iopub.status.busy": "2021-08-06T20:40:46.920375Z",
     "iopub.status.idle": "2021-08-06T20:41:56.998390Z",
     "shell.execute_reply": "2021-08-06T20:41:56.997222Z",
     "shell.execute_reply.started": "2021-08-06T20:40:46.920612Z"
    }
   },
   "outputs": [],
   "source": [
    "!module load seqtk;seqtk subseq ../../CRL3131_S4_R1_001.fastq.gz read.list > test.R1.fastq\n",
    "!module load seqtk;seqtk subseq ../../CRL3131_S4_R2_001.fastq.gz read.list > test.R2.fastq"
   ]
  },
  {
   "cell_type": "code",
   "execution_count": 15,
   "id": "ff9c0a19-2982-4941-afcc-389da3406f11",
   "metadata": {
    "execution": {
     "iopub.execute_input": "2021-08-06T20:41:56.999928Z",
     "iopub.status.busy": "2021-08-06T20:41:56.999735Z",
     "iopub.status.idle": "2021-08-06T20:41:57.150614Z",
     "shell.execute_reply": "2021-08-06T20:41:57.150018Z",
     "shell.execute_reply.started": "2021-08-06T20:41:56.999903Z"
    }
   },
   "outputs": [
    {
     "name": "stdout",
     "output_type": "stream",
     "text": [
      "==> ../../07062021_MKSR.yaml <==\n",
      "reference_genome: /rgs01/project_space/tsaigrp/Genomics/common/genomes/hg38/hg38_chroms_only.fa\n",
      "analysis_folder: /rgs01/project_space/tsaigrp/Genomics/common/projects/CHANGE_seq/CHANGE_seq_07062021\n",
      "\n",
      "bwa: bwa\n",
      "samtools: samtools\n",
      "\n",
      "read_threshold: 3\n",
      "window_size: 30\n",
      "mapq_threshold: 50\n",
      "start_threshold: 1\n",
      "\n",
      "==> ../../changeseq_py3_test.yaml <==\n",
      "reference_genome: /rgs01/project_space/tsaigrp/Genomics/common/genomes/hg38/hg38_chroms_only.fa\n",
      "analysis_folder: /rgs01/project_space/tsaigrp/Genomics/common/projects/CHANGE_seq/CHANGE_seq_07062021/py3_test\n",
      "\n",
      "# PATH to analysis tools\n",
      "# If not specified, default is just the tool name, i.e., accessible in the $PATH\n",
      "bwa: bwa\n",
      "samtools: samtools\n",
      "cutadapt: cutadapt\n",
      "\n",
      "# read_threshold: 3\n"
     ]
    }
   ],
   "source": [
    "!head ../../*yaml"
   ]
  },
  {
   "cell_type": "code",
   "execution_count": 16,
   "id": "78fbc97e-2e68-471d-86be-69336b83d9f0",
   "metadata": {
    "execution": {
     "iopub.execute_input": "2021-08-06T20:42:12.465698Z",
     "iopub.status.busy": "2021-08-06T20:42:12.465436Z",
     "iopub.status.idle": "2021-08-06T20:42:12.715547Z",
     "shell.execute_reply": "2021-08-06T20:42:12.714996Z",
     "shell.execute_reply.started": "2021-08-06T20:42:12.465679Z"
    }
   },
   "outputs": [
    {
     "name": "stdout",
     "output_type": "stream",
     "text": [
      "\n"
     ]
    }
   ],
   "source": [
    "!a=/rgs01/project_space/tsaigrp/Genomics/common/genomes/hg38/hg38_chroms_only.fa\n",
    "!echo $a"
   ]
  },
  {
   "cell_type": "code",
   "execution_count": 17,
   "id": "c4ae14b0-1339-47e0-8e90-b7a64be4c3ed",
   "metadata": {
    "execution": {
     "iopub.execute_input": "2021-08-06T20:43:07.354107Z",
     "iopub.status.busy": "2021-08-06T20:43:07.353839Z",
     "iopub.status.idle": "2021-08-06T20:43:10.057049Z",
     "shell.execute_reply": "2021-08-06T20:43:10.056296Z",
     "shell.execute_reply.started": "2021-08-06T20:43:07.354086Z"
    }
   },
   "outputs": [
    {
     "name": "stdout",
     "output_type": "stream",
     "text": [
      "[M::bwa_idx_load_from_disk] read 0 ALT contigs\n",
      "[M::process] read 14 sequences (2114 bp)...\n",
      "[M::mem_pestat] # candidate unique pairs for (FF, FR, RF, RR): (0, 3, 0, 0)\n",
      "[M::mem_pestat] skip orientation FF as there are not enough pairs\n",
      "[M::mem_pestat] skip orientation FR as there are not enough pairs\n",
      "[M::mem_pestat] skip orientation RF as there are not enough pairs\n",
      "[M::mem_pestat] skip orientation RR as there are not enough pairs\n",
      "[M::mem_process_seqs] Processed 14 reads in 0.005 CPU sec, 0.005 real sec\n",
      "[main] Version: 0.7.12-r1039\n",
      "[main] CMD: bwa mem /rgs01/project_space/tsaigrp/Genomics/common/genomes/hg38/hg38_chroms_only.fa test.R1.fastq test.R2.fastq\n",
      "[main] Real time: 1.949 sec; CPU: 1.097 sec\n"
     ]
    }
   ],
   "source": [
    "!module load bwa;bwa mem /rgs01/project_space/tsaigrp/Genomics/common/genomes/hg38/hg38_chroms_only.fa test.R1.fastq test.R2.fastq > test.sam"
   ]
  },
  {
   "cell_type": "code",
   "execution_count": 22,
   "id": "4d71a1a5-66f7-4def-933e-b611622188bd",
   "metadata": {
    "collapsed": true,
    "execution": {
     "iopub.execute_input": "2021-08-06T20:43:51.581081Z",
     "iopub.status.busy": "2021-08-06T20:43:51.580815Z",
     "iopub.status.idle": "2021-08-06T20:43:51.704393Z",
     "shell.execute_reply": "2021-08-06T20:43:51.703835Z",
     "shell.execute_reply.started": "2021-08-06T20:43:51.581061Z"
    },
    "jupyter": {
     "outputs_hidden": true
    },
    "tags": []
   },
   "outputs": [
    {
     "name": "stdout",
     "output_type": "stream",
     "text": [
      "@SQ\tSN:chr10\tLN:133797422\n",
      "@SQ\tSN:chr11\tLN:135086622\n",
      "@SQ\tSN:chr12\tLN:133275309\n",
      "@SQ\tSN:chr13\tLN:114364328\n",
      "@SQ\tSN:chr14\tLN:107043718\n",
      "@SQ\tSN:chr15\tLN:101991189\n",
      "@SQ\tSN:chr16\tLN:90338345\n",
      "@SQ\tSN:chr17\tLN:83257441\n",
      "@SQ\tSN:chr18\tLN:80373285\n",
      "@SQ\tSN:chr19\tLN:58617616\n",
      "@SQ\tSN:chr1\tLN:248956422\n",
      "@SQ\tSN:chr20\tLN:64444167\n",
      "@SQ\tSN:chr21\tLN:46709983\n",
      "@SQ\tSN:chr22\tLN:50818468\n",
      "@SQ\tSN:chr2\tLN:242193529\n",
      "@SQ\tSN:chr3\tLN:198295559\n",
      "@SQ\tSN:chr4\tLN:190214555\n",
      "@SQ\tSN:chr5\tLN:181538259\n",
      "@SQ\tSN:chr6\tLN:170805979\n",
      "@SQ\tSN:chr7\tLN:159345973\n",
      "@SQ\tSN:chr8\tLN:145138636\n",
      "@SQ\tSN:chr9\tLN:138394717\n",
      "@SQ\tSN:chrEBV\tLN:171823\n",
      "@SQ\tSN:chrM\tLN:16569\n",
      "@SQ\tSN:chrX\tLN:156040895\n",
      "@SQ\tSN:chrY\tLN:57227415\n",
      "@PG\tID:bwa\tPN:bwa\tVN:0.7.12-r1039\tCL:bwa mem /rgs01/project_space/tsaigrp/Genomics/common/genomes/hg38/hg38_chroms_only.fa test.R1.fastq test.R2.fastq\n",
      "NB551526:165:H2FWWAFX3:1:11110:4648:3276\t81\tchr11\t134033461\t60\t151M\t=\t134033605\t-7\tGCCCACACCCAAGGTCCGGGGGGCCTGCCTGTGGCCCAAAGTGCACAAGAGGCAAGCCCTGGGCGGGAAGCGGGCTGTGGGGTAGCGGGGGGGGAGGACAGTGTCGATTGCAGGCGCAATCCGAGCAAAAGACGGGCACCACAGGAGCCAG\t/EE<//E/A///EE///AA<A/AE/<<<////</<A/EE//A///AA/E/E/////AE/<E<//EA///E//EA////</E///A/AEE/<AEEEAEA/<E/EEEAEEEE/<//EEAAAEA/EEEEE/E/EEA//EA//AE6EA/EA/AAA\tNM:i:11\tMD:Z:0T15A4T7A33A6A3T0A1A4A6T61\tAS:i:100\tXS:i:19\n",
      "NB551526:165:H2FWWAFX3:1:11110:4648:3276\t161\tchr11\t134033605\t60\t151M\t=\t134033461\t7\tGAGCCAGATGGGCCAAGAAGAAACAGAAGTTCAGTAGGAAGAGACAGATAAACAGAAGACACCAAGCAAGCAGCCAAGCATATGCTTTGAAAGCAGGCAACACAAGCACCCAGTAGGGTTTGGGGGCTGGGGAGGGTACATGAGCCCACAG\tA/AAAEEEEEAA//EE/EEEEEEEE/EAAEEAEE/EEEAEEEEEAEEEEEEEAAE//A/<<<<EEAAA<A<E/E/6/A/<A</6</AA//</<EAA/EAE<E/AE//EE/AEEAEE</AEE/A</<<EE<E//EE//AEEA/EE/AEEE<<\tNM:i:2\tMD:Z:55C33C61\tAS:i:141\tXS:i:23\n",
      "NB551526:165:H2FWWAFX3:2:11111:12498:1139\t81\tchr11\t134033526\t60\t65S86M\t=\t134033603\t-9\tGGTATTATCGGGGCATGATTGACCCTGTATATTATACACATCTAGGTTTTTGTTTTTATGAGACAGGAAGAGGGTTGAGGGGATGCGGGTGGGGAGGACAGTGTCGATTGCAGGCGCAATCCGAGCAAAAGACGGGCACCACAGGAGCCAG\t<E////6</6EE////E/////////E////E////////A/<///E/////<6///A////AA/EE//E/AAEE/E/EEEE</EAEEE/EEEEAEEEEEEEE/EEEEEEEEEEEEEEEEEEEEEEEEEEEEEEEEEEEEEEEEEEAAAAA\tNM:i:2\tMD:Z:10A7A67\tAS:i:76\tXS:i:0\n",
      "NB551526:165:H2FWWAFX3:2:11111:12498:1139\t161\tchr11\t134033603\t60\t151M\t=\t134033526\t9\tAGGAGCCAGATGGGCCAAGAAGAAACAGAAGTTCAGTAGGAAGAGACAGATAAACAGCAGACACCAAGCAAGCAGCCAAGCATATGCTTTGCAAGCAGGCAACACAAGCACCCAGTAGGGTTTGGGGGCTGGGGAGGGTACATGAGCCCAC\tAAAAAEEEEEEEEAEEEEEEEEEEAEEEEEEEEEEEEAEAEEEEEEEEEEE6EAEEEEE//EEEE<AEEAEAEEAEAA<AAAEEEEEEEEEEAEAEEEEEEAE<EEAEEAEEEE<<EE/E//EAEEEEAE/EEEAEEEEE6EE/AAEEEEE\tNM:i:0\tMD:Z:151\tAS:i:151\tXS:i:20\n",
      "NB551526:165:H2FWWAFX3:2:11306:7264:13463\t97\tchr11\t134033556\t60\t129M22S\t=\t134033556\t56\tGGACAGTGTCGATTGCAGGCGCAATCCGAGCAAAAGACGGGCACCACAGGAGCCAGATCGGCCAAGAAGAAACAGAAGTTCAGGAGGAAGAGACAGATAAACAGCAGACCCCAAGCAAGCAGCCAAGCAAATGCCTGTCTCTTATACACAA\tAAAAAEEEEEEEEAEEEEEEEEAE/EEEAEEEEEEE/EEAEE/AE/EEEEEEEAE<E//////EEE///A/AEAA/EE/<E///E///E////<</E/E////AEEEAE/<</E<EE//E<E/<AE/EE/E/AAE/<AEAEEEEAEE/E//\tNM:i:3\tMD:Z:58G24T25A19\tAS:i:114\tXS:i:20\n",
      "NB551526:165:H2FWWAFX3:2:11306:7264:13463\t145\tchr11\t134033556\t60\t95S56M\t=\t134033556\t-56\tTGAGGCTGGAGATCTGCTTGATAATGGGAGGCAGAAGTTGCAGTCCCCTTAGACTGTCTCTTATACCCATCTCCGCAGATGTGTATATGAGACCGGGACAGTGTCGATTGCAGGCGCAATCCGAGCAAAAGACGGGCACCACAGGAGCCAG\t/6/EE//EE<E///EA////E/////<//////E//E</AA/E/////////<AE/////E/E</E/EAA</<6//////A/AA/<//A/66///EEE/AEEEEEE<EEEE/EEEEEEAAEAEEEEEEEEEEEEEEEEEEEEEEEEAAAAA\tNM:i:0\tMD:Z:56\tAS:i:56\tXS:i:0\n",
      "NB551526:165:H2FWWAFX3:2:21204:24770:10803\t97\tchr11\t134033605\t60\t81M70S\tchr10\t115488125\t0\tGAGCCAGATGGGCCAAGAAGAAACAGAAGTTCAGTAGGAAGAGACAGATAAACAGCAGACACCAAGCAAGCAGCCAAGCATCTGTCTCTTATACACATCTACGTAGATGTGTATAAGAGACAGGTATTTTACTGAGGATTTTTGCATCGAT\tAAAAAEE6EEEEEEEEAEEE//EEEEEA//EEE/<A/AEEEEAEE</EEEAEEE/66E/EE/AEE/EE/AEEAEEE/<EEAE/E<E/E/AEAEE/EAEEEEE</EEEEEE/EEEEEEAAEA/E//AAA/A//EEAAEEEEA/<EEEAE/E<\tNM:i:0\tMD:Z:81\tAS:i:81\tXS:i:19\n",
      "NB551526:165:H2FWWAFX3:2:21204:24770:10803\t145\tchr10\t115488125\t60\t15S136M\tchr11\t134033605\t0\tTGTGTATAAGAGACAGGTATTTTACTGAGGATTTTTGCATCGATGTTCATCAGGGATATTGGCCTGAAATTTTTCCTTTTGCTGTGTCTCTACCAGGTTTTGGTGTCAGGATGATGCTGGCCTCTTAAAATGAGTTAGGGAGGATTCCTTC\t/<EAE<<A/AAE/A</<///EAAEAAA<EEEEEEEAE<EEEEEEA/<EAA<AEEEEEEEEEE6/6AA/E<AA<6A<6//<EA/EEEAAA/EE/E<EEAEEEEEEE/EEEEE<EEAEEEEE/EAEAEEEEEEEEEEEEEAEEEEEE/AAAAA\tNM:i:0\tMD:Z:136\tAS:i:136\tXS:i:84\n",
      "NB551526:165:H2FWWAFX3:3:11506:23842:15959\t65\tchr4\t15229442\t60\t147M4S\tchr11\t134033552\t0\tTCAAAAATGTTTGTTGACTGAATAAATGATATATGAATGAAGCTTAAAATAGAAACCATAAGAACCCTCCAATTAAAGTGTACCATTCTTATAGGTAAGGTGGGATTCATAGCACACCGCTCATCTTTCAGCTGCCAAGGAGCCTTGCTGT\tAAAAAEEEEEEEEEEEAEEEE/EAEEEE//EEEEE/EAE/EEEA/EEEEAEEEA/EAE<EEE/EEEEEEEEEEEEE//EEEEEEEAE/E/EAEEEAEEEAAEEEEEEEEE/EE<EEEEE<EAAEA/<AEEE<E/EE//AA/6EEEAEEEAE\tNM:i:0\tMD:Z:147\tAS:i:147\tXS:i:0\n",
      "NB551526:165:H2FWWAFX3:3:11506:23842:15959\t129\tchr11\t134033552\t60\t10S141M\tchr4\t15229442\t0\tATGGTGGCACGGGAGGACAGTGTCGATTGCAGGCGCAATCCGAGCAAAAGACGGGCACCACAGGAGCCAGATGGGCCAAGAAGAAACAGAAGTTCAGTAGGAAGAGACAGATAAACAGCAGACCCCAAGCAAGCAGCCAAGCATATGCTTT\tA/A//AEE/AE/EE/AAEE/E/AAE/AA<E<E<E<EE/EEEE/AEEEEAE<E/E/EAEE/A/E<</EEE/E<</<EEAE/EAAAE/EE/<EAEEEEEAEEEE/<AA/EEEE/E/AEAEE/A/E/AE//AE/EEAA/EE<//E<A<6AEEAE\tNM:i:1\tMD:Z:113A27\tAS:i:136\tXS:i:20\n",
      "NB551526:165:H2FWWAFX3:3:21606:19105:9847\t113\tchr17\t22118820\t8\t60M91S\tchr7\t57551444\t0\tGTGGCTTGCTTCTTCAGTGCCCTGCTGCTCAGACCTCTCAGGGAGGATACAGATGGGCAGCTGTCTCTTATACATATCTACGTAGTTGTGTATAAGAGACAGGTCGATTGCAGGCGCAATCCGAGCAAAAGACGGGCACCACAGGAGCCAG\tE/EEAE/E<E/6E///E/EE<</A//A//6///E/<<EA/EA/<<///EE///AEE/E/E/AE/EAAE/E/AE//AE/<///E///E<</6/<<<//<EEEEEAEEEEEEEEEEEEEEEEEEEEEEEEEEEEEEEEEEEEEEEEEEAAAAA\tNM:i:2\tMD:Z:31A7C20\tAS:i:50\tXS:i:45\tSA:Z:chr11,134033563,-,102S49M,8,0;\tXA:Z:chr4,+33838273,91S60M,3;chr6,+99255481,91S60M,3;chr20,-26162944,60M91S,3;\n",
      "NB551526:165:H2FWWAFX3:3:21606:19105:9847\t2161\tchr11\t134033563\t8\t102H49M\tchr7\t57551444\t0\tGTCGATTGCAGGCGCAATCCGAGCAAAAGACGGGCACCACAGGAGCCAG\tEAEEEEEEEEEEEEEEEEEEEEEEEEEEEEEEEEEEEEEEEEEEAAAAA\tNM:i:0\tMD:Z:49\tAS:i:49\tXS:i:0\tSA:Z:chr17,22118820,-,60M91S,8,2;\n",
      "NB551526:165:H2FWWAFX3:3:21606:19105:9847\t177\tchr7\t57551444\t0\t6S145M\tchr17\t22118820\t0\tCCTCAAAAGTATGATCATTTCTTTTCATCTTTTATCTGGGACATAACCAAAATTTAGAAGTTTAATATTAAAAAGATGATTCTCACACAAACCTAGGATAAACATATTTTAAGACTATATAGAACTCATTAACGAAGGAACCGAAAAGAAG\t<EEAAEAEEEAAEEEEEAEAAEA<AEEEEAEA/EAEEEEEEEEEEEEEEEEEAE<EEEEEEE6<E6EEAEEE<EAEEAEEEAAAEEEEEEEEE<EEEEEEEEEEEEEAEAEEEEEAE<EAEEEEEEEEEAEEEEEEEEEEEEEEEEAAAAA\tNM:i:11\tMD:Z:6A13C3G19C1G14C46T6C10T2G6A8\tAS:i:90\tXS:i:90\tXA:Z:chr17,+22118522,135M16S,9;chr4,-33838485,6S145M,15;\n",
      "NB551526:165:H2FWWAFX3:4:21506:11727:7870\t81\tchr10\t115488125\t60\t15S136M\tchr11\t134033605\t0\tTGTGTATAAGAGACAGGTATTTTACTGAGGATTTTTGCATCGATGTTCATCAGGGATATTGGCCTGAAATTTTTCCTTTTGCTGTGTCTCTACCAGGTTTTGGTGTCAGGATGATGCTGGCCTCTTAAAATGAGTTAGGGAGGATTCCTTC\t/EEEA/AEAAEAAAAEAEEEAE<EAAEEEEAEEAEEEEE/AEE6EEEAE/EEEEEEEEEEEEEEAE<EEA<AAAA<EA6AEEEEEEEEAEAEEEEEEAEEEEEEEEEAEEEEEEEEEEEEEEEEEEEEEEEEEEEEEEEEEEEEEAAAAAA\tNM:i:0\tMD:Z:136\tAS:i:136\tXS:i:84\n",
      "NB551526:165:H2FWWAFX3:4:21506:11727:7870\t161\tchr11\t134033605\t60\t81M70S\tchr10\t115488125\t0\tGAGCCAGATGGGCCAAGAAGAAACAGAAGTTCAGTAGGAAGAGACAGATAAACAGCAGACACCAAGCAAGCAGCCAAGCATCTGTCTCTTATACACATCTACGTAGATGTGTATAAGAGACAGGTATTTTACTGAGGATTTTTGCATCGAT\tAAAAAEEEEEEEEEEEEEAEEEAEEEEEEEEEEEEEEEEEEEEEEEEEEE<EEEAEA<AEEEEEEAEA<AE<AEAAE<EAEA</<<AAEA<AEAAE<AEEEEEEAEEEEEAE<AAEAAEAEAEEEE<EEEEEEEEEEEEEEE<AEE/AEEA\tNM:i:0\tMD:Z:81\tAS:i:81\tXS:i:19\n"
     ]
    }
   ],
   "source": [
    "!cat test.sam"
   ]
  },
  {
   "cell_type": "code",
   "execution_count": 27,
   "id": "2076362c-1a12-4d10-9ffd-360b258eb69a",
   "metadata": {
    "execution": {
     "iopub.execute_input": "2021-08-06T20:49:29.323011Z",
     "iopub.status.busy": "2021-08-06T20:49:29.322752Z",
     "iopub.status.idle": "2021-08-06T20:49:31.479541Z",
     "shell.execute_reply": "2021-08-06T20:49:31.478947Z",
     "shell.execute_reply.started": "2021-08-06T20:49:29.322991Z"
    },
    "tags": []
   },
   "outputs": [],
   "source": [
    "!module load samtools/1.7;samtools view -bS test.sam > test.bam;samtools sort -o test.st.bam test.bam;samtools index test.st.bam"
   ]
  },
  {
   "cell_type": "code",
   "execution_count": 23,
   "id": "3ff81c68-83ba-4200-bc5b-a6b1af89c6df",
   "metadata": {
    "execution": {
     "iopub.execute_input": "2021-08-06T20:45:50.347363Z",
     "iopub.status.busy": "2021-08-06T20:45:50.347106Z",
     "iopub.status.idle": "2021-08-06T20:45:50.953367Z",
     "shell.execute_reply": "2021-08-06T20:45:50.952705Z",
     "shell.execute_reply.started": "2021-08-06T20:45:50.347343Z"
    }
   },
   "outputs": [],
   "source": [
    "import pysam"
   ]
  },
  {
   "cell_type": "code",
   "execution_count": 28,
   "id": "504bf440-64d3-4ec7-b435-6e801cade3cd",
   "metadata": {
    "execution": {
     "iopub.execute_input": "2021-08-06T20:50:57.301399Z",
     "iopub.status.busy": "2021-08-06T20:50:57.301135Z",
     "iopub.status.idle": "2021-08-06T20:50:57.308584Z",
     "shell.execute_reply": "2021-08-06T20:50:57.308177Z",
     "shell.execute_reply.started": "2021-08-06T20:50:57.301376Z"
    },
    "tags": []
   },
   "outputs": [
    {
     "name": "stdout",
     "output_type": "stream",
     "text": [
      "NB551526:165:H2FWWAFX3:1:11110:4648:3276 chr11 134033460 134033611\n",
      "NB551526:165:H2FWWAFX3:1:11110:4648:3276 chr11 134033604 134033755\n",
      "NB551526:165:H2FWWAFX3:2:11111:12498:1139 chr11 134033525 134033611\n",
      "NB551526:165:H2FWWAFX3:2:11111:12498:1139 chr11 134033602 134033753\n",
      "NB551526:165:H2FWWAFX3:2:11306:7264:13463 chr11 134033555 134033684\n",
      "NB551526:165:H2FWWAFX3:2:11306:7264:13463 chr11 134033555 134033611\n",
      "NB551526:165:H2FWWAFX3:2:21204:24770:10803 chr11 134033604 134033685\n",
      "NB551526:165:H2FWWAFX3:2:21204:24770:10803 chr10 115488124 115488260\n",
      "NB551526:165:H2FWWAFX3:3:11506:23842:15959 chr4 15229441 15229588\n",
      "NB551526:165:H2FWWAFX3:3:11506:23842:15959 chr11 134033551 134033692\n",
      "NB551526:165:H2FWWAFX3:3:21606:19105:9847 chr17 22118819 22118879\n",
      "NB551526:165:H2FWWAFX3:3:21606:19105:9847 chr11 134033562 134033611\n",
      "NB551526:165:H2FWWAFX3:3:21606:19105:9847 chr7 57551443 57551588\n",
      "NB551526:165:H2FWWAFX3:4:21506:11727:7870 chr10 115488124 115488260\n",
      "NB551526:165:H2FWWAFX3:4:21506:11727:7870 chr11 134033604 134033685\n"
     ]
    }
   ],
   "source": [
    "\n",
    "f = pysam.AlignmentFile('test.sam')\n",
    "for read in f.fetch():\n",
    "    print (read.query_name,read.reference_name,read.reference_start,read.reference_end)"
   ]
  },
  {
   "cell_type": "code",
   "execution_count": 47,
   "id": "ffbab119-66b1-4761-8697-836d9aed8797",
   "metadata": {
    "execution": {
     "iopub.execute_input": "2021-08-06T21:55:33.026520Z",
     "iopub.status.busy": "2021-08-06T21:55:33.026271Z",
     "iopub.status.idle": "2021-08-06T21:55:33.803318Z",
     "shell.execute_reply": "2021-08-06T21:55:33.802902Z",
     "shell.execute_reply.started": "2021-08-06T21:55:33.026493Z"
    },
    "tags": []
   },
   "outputs": [
    {
     "name": "stdout",
     "output_type": "stream",
     "text": [
      "~~~~~~~~~~~~~~~~~~~~~~~~~~\n",
      "NB551526:165:H2FWWAFX3:1:11110:4648:3276 chr11 60 151M [(0, 151)] True True\n",
      "GCCCACACCCAAGGTCCGGGGGGCCTGCCTGTGGCCCAAAGTGCACAAGAGGCAAGCCCTGGGCGGGAAGCGGGCTGTGGGGTAGCGGGGGGGGAGGACAGTGTCGATTGCAGGCGCAATCCGAGCAAAAGACGGGCACCACAGGAGCCAG\n",
      "~~~~~~~~~~~~~~~~~~~~~~~~~~\n",
      "NB551526:165:H2FWWAFX3:1:11110:4648:3276 chr11 60 151M [(0, 151)] False False\n",
      "GAGCCAGATGGGCCAAGAAGAAACAGAAGTTCAGTAGGAAGAGACAGATAAACAGAAGACACCAAGCAAGCAGCCAAGCATATGCTTTGAAAGCAGGCAACACAAGCACCCAGTAGGGTTTGGGGGCTGGGGAGGGTACATGAGCCCACAG\n",
      "~~~~~~~~~~~~~~~~~~~~~~~~~~\n",
      "NB551526:165:H2FWWAFX3:2:11111:12498:1139 chr11 60 65S86M [(4, 65), (0, 86)] True True\n",
      "GGTATTATCGGGGCATGATTGACCCTGTATATTATACACATCTAGGTTTTTGTTTTTATGAGACAGGAAGAGGGTTGAGGGGATGCGGGTGGGGAGGACAGTGTCGATTGCAGGCGCAATCCGAGCAAAAGACGGGCACCACAGGAGCCAG\n",
      "GGTATTATCGGGGCATGATTGACCCTGTATATTATACACATCTAGGTTTTTGTTTTTATGAGACA-\n",
      "------------------------CTGTCTCTTATACACATCTACGTAGATGTGTATAAGAGACAG\n",
      "~~~~~~~~~~~~~~~~~~~~~~~~~~\n",
      "NB551526:165:H2FWWAFX3:2:11111:12498:1139 chr11 60 151M [(0, 151)] False False\n",
      "AGGAGCCAGATGGGCCAAGAAGAAACAGAAGTTCAGTAGGAAGAGACAGATAAACAGCAGACACCAAGCAAGCAGCCAAGCATATGCTTTGCAAGCAGGCAACACAAGCACCCAGTAGGGTTTGGGGGCTGGGGAGGGTACATGAGCCCAC\n",
      "~~~~~~~~~~~~~~~~~~~~~~~~~~\n",
      "NB551526:165:H2FWWAFX3:2:11306:7264:13463 chr11 60 129M22S [(0, 129), (4, 22)] False True\n",
      "GGACAGTGTCGATTGCAGGCGCAATCCGAGCAAAAGACGGGCACCACAGGAGCCAGATCGGCCAAGAAGAAACAGAAGTTCAGGAGGAAGAGACAGATAAACAGCAGACCCCAAGCAAGCAGCCAAGCAAATGCCTGTCTCTTATACACAA\n",
      "AATGCCTGTCTCTTATACACAA-------------------------\n",
      "-----CTGTCTCTTATACACATCTACGTAGATGTGTATAAGAGACAG\n",
      "~~~~~~~~~~~~~~~~~~~~~~~~~~\n",
      "NB551526:165:H2FWWAFX3:2:11306:7264:13463 chr11 60 95S56M [(4, 95), (0, 56)] True False\n",
      "TGAGGCTGGAGATCTGCTTGATAATGGGAGGCAGAAGTTGCAGTCCCCTTAGACTGTCTCTTATACCCATCTCCGCAGATGTGTATATGAGACCGGGACAGTGTCGATTGCAGGCGCAATCCGAGCAAAAGACGGGCACCACAGGAGCCAG\n",
      "TGAGGCTGGAGATCTGCTTGATAATGGGAGGCAGAAGTTGCAGTCCCCTTAGACTGTCTCTTATACCCATCTCCGCAGATGTGTATATGAGACCG\n",
      "-----------------------------------------------------CTGTCTCTTATACACATCTACGTAGATGTGTATAAGAGACAG\n",
      "~~~~~~~~~~~~~~~~~~~~~~~~~~\n",
      "NB551526:165:H2FWWAFX3:2:21204:24770:10803 chr11 60 81M70S [(0, 81), (4, 70)] False True\n",
      "GAGCCAGATGGGCCAAGAAGAAACAGAAGTTCAGTAGGAAGAGACAGATAAACAGCAGACACCAAGCAAGCAGCCAAGCATCTGTCTCTTATACACATCTACGTAGATGTGTATAAGAGACAGGTATTTTACTGAGGATTTTTGCATCGAT\n",
      "CTGTCTCTTATACACATCTACGTAGATGTGTATAAGAGACAGGTATTTTACTGAGGATTTTTGCATCGAT\n",
      "CTGTCTCTTATACACATCTACGTAGATGTGTATAAGAGACAG----------------------------\n",
      "~~~~~~~~~~~~~~~~~~~~~~~~~~\n",
      "NB551526:165:H2FWWAFX3:2:21204:24770:10803 chr10 60 15S136M [(4, 15), (0, 136)] True False\n",
      "TGTGTATAAGAGACAGGTATTTTACTGAGGATTTTTGCATCGATGTTCATCAGGGATATTGGCCTGAAATTTTTCCTTTTGCTGTGTCTCTACCAGGTTTTGGTGTCAGGATGATGCTGGCCTCTTAAAATGAGTTAGGGAGGATTCCTTC\n",
      "--------------------------TGTGTATAAGAGACA-\n",
      "CTGTCTCTTATACACATCTACGTAGATGTGTATAAGAGACAG\n",
      "~~~~~~~~~~~~~~~~~~~~~~~~~~\n",
      "NB551526:165:H2FWWAFX3:3:11506:23842:15959 chr4 60 147M4S [(0, 147), (4, 4)] False True\n",
      "TCAAAAATGTTTGTTGACTGAATAAATGATATATGAATGAAGCTTAAAATAGAAACCATAAGAACCCTCCAATTAAAGTGTACCATTCTTATAGGTAAGGTGGGATTCATAGCACACCGCTCATCTTTCAGCTGCCAAGGAGCCTTGCTGT\n",
      "CTGT--------------------------------------\n",
      "CTGTCTCTTATACACATCTACGTAGATGTGTATAAGAGACAG\n",
      "~~~~~~~~~~~~~~~~~~~~~~~~~~\n",
      "NB551526:165:H2FWWAFX3:3:11506:23842:15959 chr11 60 10S141M [(4, 10), (0, 141)] False False\n",
      "ATGGTGGCACGGGAGGACAGTGTCGATTGCAGGCGCAATCCGAGCAAAAGACGGGCACCACAGGAGCCAGATGGGCCAAGAAGAAACAGAAGTTCAGTAGGAAGAGACAGATAAACAGCAGACCCCAAGCAAGCAGCCAAGCATATGCTTT\n",
      "ATGGTGGCAC-----------------------------------------\n",
      "---------CTGTCTCTTATACACATCTACGTAGATGTGTATAAGAGACAG\n",
      "~~~~~~~~~~~~~~~~~~~~~~~~~~\n",
      "NB551526:165:H2FWWAFX3:3:21606:19105:9847 chr17 8 60M91S [(0, 60), (4, 91)] True True\n",
      "GTGGCTTGCTTCTTCAGTGCCCTGCTGCTCAGACCTCTCAGGGAGGATACAGATGGGCAGCTGTCTCTTATACATATCTACGTAGTTGTGTATAAGAGACAGGTCGATTGCAGGCGCAATCCGAGCAAAAGACGGGCACCACAGGAGCCAG\n",
      "CTGTCTCTTATACATATCTACGTAGTTGTGTATAAGAGACAGGTCGATTGCAGGCGCAATCCGAGCAAAAGACGGGCACCACAGGAGCCAG\n",
      "CTGTCTCTTATACACATCTACGTAGATGTGTATAAGAGACAG-------------------------------------------------\n",
      "~~~~~~~~~~~~~~~~~~~~~~~~~~\n",
      "NB551526:165:H2FWWAFX3:3:21606:19105:9847 chr11 8 102H49M [(5, 102), (0, 49)] True True\n",
      "GTCGATTGCAGGCGCAATCCGAGCAAAAGACGGGCACCACAGGAGCCAG\n",
      "~~~~~~~~~~~~~~~~~~~~~~~~~~\n",
      "NB551526:165:H2FWWAFX3:3:21606:19105:9847 chr7 0 6S145M [(4, 6), (0, 145)] True False\n",
      "CCTCAAAAGTATGATCATTTCTTTTCATCTTTTATCTGGGACATAACCAAAATTTAGAAGTTTAATATTAAAAAGATGATTCTCACACAAACCTAGGATAAACATATTTTAAGACTATATAGAACTCATTAACGAAGGAACCGAAAAGAAG\n",
      "------------------------------------------CCTCAA\n",
      "CTGTCTCTTATACACATCTACGTAGATGTGTATAAGAGACAG------\n",
      "~~~~~~~~~~~~~~~~~~~~~~~~~~\n",
      "NB551526:165:H2FWWAFX3:4:21506:11727:7870 chr10 60 15S136M [(4, 15), (0, 136)] True True\n",
      "TGTGTATAAGAGACAGGTATTTTACTGAGGATTTTTGCATCGATGTTCATCAGGGATATTGGCCTGAAATTTTTCCTTTTGCTGTGTCTCTACCAGGTTTTGGTGTCAGGATGATGCTGGCCTCTTAAAATGAGTTAGGGAGGATTCCTTC\n",
      "--------------------------TGTGTATAAGAGACA-\n",
      "CTGTCTCTTATACACATCTACGTAGATGTGTATAAGAGACAG\n",
      "~~~~~~~~~~~~~~~~~~~~~~~~~~\n",
      "NB551526:165:H2FWWAFX3:4:21506:11727:7870 chr11 60 81M70S [(0, 81), (4, 70)] False False\n",
      "GAGCCAGATGGGCCAAGAAGAAACAGAAGTTCAGTAGGAAGAGACAGATAAACAGCAGACACCAAGCAAGCAGCCAAGCATCTGTCTCTTATACACATCTACGTAGATGTGTATAAGAGACAGGTATTTTACTGAGGATTTTTGCATCGAT\n",
      "CTGTCTCTTATACACATCTACGTAGATGTGTATAAGAGACAGGTATTTTACTGAGGATTTTTGCATCGAT\n",
      "CTGTCTCTTATACACATCTACGTAGATGTGTATAAGAGACAG----------------------------\n"
     ]
    }
   ],
   "source": [
    "from skbio.alignment import global_pairwise_align_nucleotide \n",
    "from skbio.sequence import DNA\n",
    "\n",
    "tn5=\"CTGTCTCTTATACACATCTACGTAGATGTGTATAAGAGACAG\"\n",
    "f = pysam.AlignmentFile('test.sam')\n",
    "for read in f.fetch():\n",
    "    print (\"~~~~~~~~~~~~~~~~~~~~~~~~~~\")\n",
    "    print (read.query_name,read.reference_name,read.mapq,read.cigarstring,read.cigartuples,read.is_reverse,read.is_read1 )\n",
    "    pos = 0\n",
    "    print (read.seq)\n",
    "    for i,j in read.cigartuples:\n",
    "        if i == 4: # soft clip\n",
    "            soft_clip = read.seq[pos:pos+j]\n",
    "            alignment, score, start_end_positions = global_pairwise_align_nucleotide(DNA(soft_clip),DNA(tn5))\n",
    "            a,b = alignment[0]._string.decode(\"utf-8\"),alignment[1]._string.decode(\"utf-8\")\n",
    "            print (a)\n",
    "            print (b)\n",
    "        pos+=j"
   ]
  }
 ],
 "metadata": {
  "kernelspec": {
   "display_name": "Python 3",
   "language": "python",
   "name": "python3"
  },
  "language_info": {
   "codemirror_mode": {
    "name": "ipython",
    "version": 3
   },
   "file_extension": ".py",
   "mimetype": "text/x-python",
   "name": "python",
   "nbconvert_exporter": "python",
   "pygments_lexer": "ipython3",
   "version": "3.8.5"
  }
 },
 "nbformat": 4,
 "nbformat_minor": 5
}
